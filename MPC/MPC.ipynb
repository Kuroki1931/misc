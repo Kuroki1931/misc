{
  "nbformat": 4,
  "nbformat_minor": 0,
  "metadata": {
    "colab": {
      "name": "MPC.ipynb",
      "provenance": []
    },
    "kernelspec": {
      "name": "python3",
      "display_name": "Python 3"
    },
    "language_info": {
      "name": "python"
    }
  },
  "cells": [
    {
      "cell_type": "code",
      "execution_count": 1,
      "metadata": {
        "id": "ZqduLwOyZ0mb"
      },
      "outputs": [],
      "source": [
        "import numpy\n",
        "import scipy.signal\n",
        "import scipy.optimize\n",
        "import matplotlib.pyplot as plt\n",
        "%matplotlib inline"
      ]
    },
    {
      "cell_type": "code",
      "source": [
        "G = scipy.signal.lti([1], [15, 8, 1])"
      ],
      "metadata": {
        "id": "2qDwPExqaUNJ"
      },
      "execution_count": 2,
      "outputs": []
    },
    {
      "cell_type": "code",
      "source": [
        "plt.plot(*G.step())"
      ],
      "metadata": {
        "colab": {
          "base_uri": "https://localhost:8080/",
          "height": 282
        },
        "id": "j1wFQjc_aZHA",
        "outputId": "495b8cec-69a4-4f2b-82ba-0e1a2a0099c5"
      },
      "execution_count": 3,
      "outputs": [
        {
          "output_type": "execute_result",
          "data": {
            "text/plain": [
              "[<matplotlib.lines.Line2D at 0x7fa555772ed0>]"
            ]
          },
          "metadata": {},
          "execution_count": 3
        },
        {
          "output_type": "display_data",
          "data": {
            "image/png": "[encoded data removed]",
            "text/plain": [
              "<Figure size 432x288 with 1 Axes>"
            ]
          },
          "metadata": {
            "needs_background": "light"
          }
        }
      ]
    },
    {
      "cell_type": "code",
      "source": [
        "M = 10  # Control horizon\n",
        "P = 20  # Prediction horizon\n",
        "DeltaT = 1  # Sampling rate"
      ],
      "metadata": {
        "id": "7FL3J_cyabGH"
      },
      "execution_count": 4,
      "outputs": []
    },
    {
      "cell_type": "code",
      "source": [
        ""
      ],
      "metadata": {
        "id": "sNaFgZoobNQx"
      },
      "execution_count": null,
      "outputs": []
    },
    {
      "cell_type": "code",
      "source": [
        "tcontinuous = numpy.linspace(0, P*DeltaT, 1000)  # some closely spaced time points\n",
        "tpredict = numpy.arange(0, P*DeltaT, DeltaT)   # discrete points at prediction horizon"
      ],
      "metadata": {
        "id": "-Fk0_st5akD4"
      },
      "execution_count": 5,
      "outputs": []
    },
    {
      "cell_type": "code",
      "source": [
        "tcontinuous"
      ],
      "metadata": {
        "colab": {
          "base_uri": "https://localhost:8080/"
        },
        "id": "kygW87Ocashe",
        "outputId": "063ddadd-ac4b-40a3-e21d-1e04aeb3e5db"
      },
      "execution_count": 6,
      "outputs": [
        {
          "output_type": "execute_result",
          "data": {
            "text/plain": [
              "array([ 0.        ,  0.02002002,  0.04004004,  0.06006006,  0.08008008,\n",
              "        0.1001001 ,  0.12012012,  0.14014014,  0.16016016,  0.18018018,\n",
              "        0.2002002 ,  0.22022022,  0.24024024,  0.26026026,  0.28028028,\n",
              "        0.3003003 ,  0.32032032,  0.34034034,  0.36036036,  0.38038038,\n",
              "        0.4004004 ,  0.42042042,  0.44044044,  0.46046046,  0.48048048,\n",
              "        0.5005005 ,  0.52052052,  0.54054054,  0.56056056,  0.58058058,\n",
              "        0.6006006 ,  0.62062062,  0.64064064,  0.66066066,  0.68068068,\n",
              "        0.7007007 ,  0.72072072,  0.74074074,  0.76076076,  0.78078078,\n",
              "        0.8008008 ,  0.82082082,  0.84084084,  0.86086086,  0.88088088,\n",
              "        0.9009009 ,  0.92092092,  0.94094094,  0.96096096,  0.98098098,\n",
              "        1.001001  ,  1.02102102,  1.04104104,  1.06106106,  1.08108108,\n",
              "        1.1011011 ,  1.12112112,  1.14114114,  1.16116116,  1.18118118,\n",
              "        1.2012012 ,  1.22122122,  1.24124124,  1.26126126,  1.28128128,\n",
              "        1.3013013 ,  1.32132132,  1.34134134,  1.36136136,  1.38138138,\n",
              "        1.4014014 ,  1.42142142,  1.44144144,  1.46146146,  1.48148148,\n",
              "        1.5015015 ,  1.52152152,  1.54154154,  1.56156156,  1.58158158,\n",
              "        1.6016016 ,  1.62162162,  1.64164164,  1.66166166,  1.68168168,\n",
              "        1.7017017 ,  1.72172172,  1.74174174,  1.76176176,  1.78178178,\n",
              "        1.8018018 ,  1.82182182,  1.84184184,  1.86186186,  1.88188188,\n",
              "        1.9019019 ,  1.92192192,  1.94194194,  1.96196196,  1.98198198,\n",
              "        2.002002  ,  2.02202202,  2.04204204,  2.06206206,  2.08208208,\n",
              "        2.1021021 ,  2.12212212,  2.14214214,  2.16216216,  2.18218218,\n",
              "        2.2022022 ,  2.22222222,  2.24224224,  2.26226226,  2.28228228,\n",
              "        2.3023023 ,  2.32232232,  2.34234234,  2.36236236,  2.38238238,\n",
              "        2.4024024 ,  2.42242242,  2.44244244,  2.46246246,  2.48248248,\n",
              "        2.5025025 ,  2.52252252,  2.54254254,  2.56256256,  2.58258258,\n",
              "        2.6026026 ,  2.62262262,  2.64264264,  2.66266266,  2.68268268,\n",
              "        2.7027027 ,  2.72272272,  2.74274274,  2.76276276,  2.78278278,\n",
              "        2.8028028 ,  2.82282282,  2.84284284,  2.86286286,  2.88288288,\n",
              "        2.9029029 ,  2.92292292,  2.94294294,  2.96296296,  2.98298298,\n",
              "        3.003003  ,  3.02302302,  3.04304304,  3.06306306,  3.08308308,\n",
              "        3.1031031 ,  3.12312312,  3.14314314,  3.16316316,  3.18318318,\n",
              "        3.2032032 ,  3.22322322,  3.24324324,  3.26326326,  3.28328328,\n",
              "        3.3033033 ,  3.32332332,  3.34334334,  3.36336336,  3.38338338,\n",
              "        3.4034034 ,  3.42342342,  3.44344344,  3.46346346,  3.48348348,\n",
              "        3.5035035 ,  3.52352352,  3.54354354,  3.56356356,  3.58358358,\n",
              "        3.6036036 ,  3.62362362,  3.64364364,  3.66366366,  3.68368368,\n",
              "        3.7037037 ,  3.72372372,  3.74374374,  3.76376376,  3.78378378,\n",
              "        3.8038038 ,  3.82382382,  3.84384384,  3.86386386,  3.88388388,\n",
              "        3.9039039 ,  3.92392392,  3.94394394,  3.96396396,  3.98398398,\n",
              "        4.004004  ,  4.02402402,  4.04404404,  4.06406406,  4.08408408,\n",
              "        4.1041041 ,  4.12412412,  4.14414414,  4.16416416,  4.18418418,\n",
              "        4.2042042 ,  4.22422422,  4.24424424,  4.26426426,  4.28428428,\n",
              "        4.3043043 ,  4.32432432,  4.34434434,  4.36436436,  4.38438438,\n",
              "        4.4044044 ,  4.42442442,  4.44444444,  4.46446446,  4.48448448,\n",
              "        4.5045045 ,  4.52452452,  4.54454454,  4.56456456,  4.58458458,\n",
              "        4.6046046 ,  4.62462462,  4.64464464,  4.66466466,  4.68468468,\n",
              "        4.7047047 ,  4.72472472,  4.74474474,  4.76476476,  4.78478478,\n",
              "        4.8048048 ,  4.82482482,  4.84484484,  4.86486486,  4.88488488,\n",
              "        4.9049049 ,  4.92492492,  4.94494494,  4.96496496,  4.98498498,\n",
              "        5.00500501,  5.02502503,  5.04504505,  5.06506507,  5.08508509,\n",
              "        5.10510511,  5.12512513,  5.14514515,  5.16516517,  5.18518519,\n",
              "        5.20520521,  5.22522523,  5.24524525,  5.26526527,  5.28528529,\n",
              "        5.30530531,  5.32532533,  5.34534535,  5.36536537,  5.38538539,\n",
              "        5.40540541,  5.42542543,  5.44544545,  5.46546547,  5.48548549,\n",
              "        5.50550551,  5.52552553,  5.54554555,  5.56556557,  5.58558559,\n",
              "        5.60560561,  5.62562563,  5.64564565,  5.66566567,  5.68568569,\n",
              "        5.70570571,  5.72572573,  5.74574575,  5.76576577,  5.78578579,\n",
              "        5.80580581,  5.82582583,  5.84584585,  5.86586587,  5.88588589,\n",
              "        5.90590591,  5.92592593,  5.94594595,  5.96596597,  5.98598599,\n",
              "        6.00600601,  6.02602603,  6.04604605,  6.06606607,  6.08608609,\n",
              "        6.10610611,  6.12612613,  6.14614615,  6.16616617,  6.18618619,\n",
              "        6.20620621,  6.22622623,  6.24624625,  6.26626627,  6.28628629,\n",
              "        6.30630631,  6.32632633,  6.34634635,  6.36636637,  6.38638639,\n",
              "        6.40640641,  6.42642643,  6.44644645,  6.46646647,  6.48648649,\n",
              "        6.50650651,  6.52652653,  6.54654655,  6.56656657,  6.58658659,\n",
              "        6.60660661,  6.62662663,  6.64664665,  6.66666667,  6.68668669,\n",
              "        6.70670671,  6.72672673,  6.74674675,  6.76676677,  6.78678679,\n",
              "        6.80680681,  6.82682683,  6.84684685,  6.86686687,  6.88688689,\n",
              "        6.90690691,  6.92692693,  6.94694695,  6.96696697,  6.98698699,\n",
              "        7.00700701,  7.02702703,  7.04704705,  7.06706707,  7.08708709,\n",
              "        7.10710711,  7.12712713,  7.14714715,  7.16716717,  7.18718719,\n",
              "        7.20720721,  7.22722723,  7.24724725,  7.26726727,  7.28728729,\n",
              "        7.30730731,  7.32732733,  7.34734735,  7.36736737,  7.38738739,\n",
              "        7.40740741,  7.42742743,  7.44744745,  7.46746747,  7.48748749,\n",
              "        7.50750751,  7.52752753,  7.54754755,  7.56756757,  7.58758759,\n",
              "        7.60760761,  7.62762763,  7.64764765,  7.66766767,  7.68768769,\n",
              "        7.70770771,  7.72772773,  7.74774775,  7.76776777,  7.78778779,\n",
              "        7.80780781,  7.82782783,  7.84784785,  7.86786787,  7.88788789,\n",
              "        7.90790791,  7.92792793,  7.94794795,  7.96796797,  7.98798799,\n",
              "        8.00800801,  8.02802803,  8.04804805,  8.06806807,  8.08808809,\n",
              "        8.10810811,  8.12812813,  8.14814815,  8.16816817,  8.18818819,\n",
              "        8.20820821,  8.22822823,  8.24824825,  8.26826827,  8.28828829,\n",
              "        8.30830831,  8.32832833,  8.34834835,  8.36836837,  8.38838839,\n",
              "        8.40840841,  8.42842843,  8.44844845,  8.46846847,  8.48848849,\n",
              "        8.50850851,  8.52852853,  8.54854855,  8.56856857,  8.58858859,\n",
              "        8.60860861,  8.62862863,  8.64864865,  8.66866867,  8.68868869,\n",
              "        8.70870871,  8.72872873,  8.74874875,  8.76876877,  8.78878879,\n",
              "        8.80880881,  8.82882883,  8.84884885,  8.86886887,  8.88888889,\n",
              "        8.90890891,  8.92892893,  8.94894895,  8.96896897,  8.98898899,\n",
              "        9.00900901,  9.02902903,  9.04904905,  9.06906907,  9.08908909,\n",
              "        9.10910911,  9.12912913,  9.14914915,  9.16916917,  9.18918919,\n",
              "        9.20920921,  9.22922923,  9.24924925,  9.26926927,  9.28928929,\n",
              "        9.30930931,  9.32932933,  9.34934935,  9.36936937,  9.38938939,\n",
              "        9.40940941,  9.42942943,  9.44944945,  9.46946947,  9.48948949,\n",
              "        9.50950951,  9.52952953,  9.54954955,  9.56956957,  9.58958959,\n",
              "        9.60960961,  9.62962963,  9.64964965,  9.66966967,  9.68968969,\n",
              "        9.70970971,  9.72972973,  9.74974975,  9.76976977,  9.78978979,\n",
              "        9.80980981,  9.82982983,  9.84984985,  9.86986987,  9.88988989,\n",
              "        9.90990991,  9.92992993,  9.94994995,  9.96996997,  9.98998999,\n",
              "       10.01001001, 10.03003003, 10.05005005, 10.07007007, 10.09009009,\n",
              "       10.11011011, 10.13013013, 10.15015015, 10.17017017, 10.19019019,\n",
              "       10.21021021, 10.23023023, 10.25025025, 10.27027027, 10.29029029,\n",
              "       10.31031031, 10.33033033, 10.35035035, 10.37037037, 10.39039039,\n",
              "       10.41041041, 10.43043043, 10.45045045, 10.47047047, 10.49049049,\n",
              "       10.51051051, 10.53053053, 10.55055055, 10.57057057, 10.59059059,\n",
              "       10.61061061, 10.63063063, 10.65065065, 10.67067067, 10.69069069,\n",
              "       10.71071071, 10.73073073, 10.75075075, 10.77077077, 10.79079079,\n",
              "       10.81081081, 10.83083083, 10.85085085, 10.87087087, 10.89089089,\n",
              "       10.91091091, 10.93093093, 10.95095095, 10.97097097, 10.99099099,\n",
              "       11.01101101, 11.03103103, 11.05105105, 11.07107107, 11.09109109,\n",
              "       11.11111111, 11.13113113, 11.15115115, 11.17117117, 11.19119119,\n",
              "       11.21121121, 11.23123123, 11.25125125, 11.27127127, 11.29129129,\n",
              "       11.31131131, 11.33133133, 11.35135135, 11.37137137, 11.39139139,\n",
              "       11.41141141, 11.43143143, 11.45145145, 11.47147147, 11.49149149,\n",
              "       11.51151151, 11.53153153, 11.55155155, 11.57157157, 11.59159159,\n",
              "       11.61161161, 11.63163163, 11.65165165, 11.67167167, 11.69169169,\n",
              "       11.71171171, 11.73173173, 11.75175175, 11.77177177, 11.79179179,\n",
              "       11.81181181, 11.83183183, 11.85185185, 11.87187187, 11.89189189,\n",
              "       11.91191191, 11.93193193, 11.95195195, 11.97197197, 11.99199199,\n",
              "       12.01201201, 12.03203203, 12.05205205, 12.07207207, 12.09209209,\n",
              "       12.11211211, 12.13213213, 12.15215215, 12.17217217, 12.19219219,\n",
              "       12.21221221, 12.23223223, 12.25225225, 12.27227227, 12.29229229,\n",
              "       12.31231231, 12.33233233, 12.35235235, 12.37237237, 12.39239239,\n",
              "       12.41241241, 12.43243243, 12.45245245, 12.47247247, 12.49249249,\n",
              "       12.51251251, 12.53253253, 12.55255255, 12.57257257, 12.59259259,\n",
              "       12.61261261, 12.63263263, 12.65265265, 12.67267267, 12.69269269,\n",
              "       12.71271271, 12.73273273, 12.75275275, 12.77277277, 12.79279279,\n",
              "       12.81281281, 12.83283283, 12.85285285, 12.87287287, 12.89289289,\n",
              "       12.91291291, 12.93293293, 12.95295295, 12.97297297, 12.99299299,\n",
              "       13.01301301, 13.03303303, 13.05305305, 13.07307307, 13.09309309,\n",
              "       13.11311311, 13.13313313, 13.15315315, 13.17317317, 13.19319319,\n",
              "       13.21321321, 13.23323323, 13.25325325, 13.27327327, 13.29329329,\n",
              "       13.31331331, 13.33333333, 13.35335335, 13.37337337, 13.39339339,\n",
              "       13.41341341, 13.43343343, 13.45345345, 13.47347347, 13.49349349,\n",
              "       13.51351351, 13.53353353, 13.55355355, 13.57357357, 13.59359359,\n",
              "       13.61361361, 13.63363363, 13.65365365, 13.67367367, 13.69369369,\n",
              "       13.71371371, 13.73373373, 13.75375375, 13.77377377, 13.79379379,\n",
              "       13.81381381, 13.83383383, 13.85385385, 13.87387387, 13.89389389,\n",
              "       13.91391391, 13.93393393, 13.95395395, 13.97397397, 13.99399399,\n",
              "       14.01401401, 14.03403403, 14.05405405, 14.07407407, 14.09409409,\n",
              "       14.11411411, 14.13413413, 14.15415415, 14.17417417, 14.19419419,\n",
              "       14.21421421, 14.23423423, 14.25425425, 14.27427427, 14.29429429,\n",
              "       14.31431431, 14.33433433, 14.35435435, 14.37437437, 14.39439439,\n",
              "       14.41441441, 14.43443443, 14.45445445, 14.47447447, 14.49449449,\n",
              "       14.51451451, 14.53453453, 14.55455455, 14.57457457, 14.59459459,\n",
              "       14.61461461, 14.63463463, 14.65465465, 14.67467467, 14.69469469,\n",
              "       14.71471471, 14.73473473, 14.75475475, 14.77477477, 14.79479479,\n",
              "       14.81481481, 14.83483483, 14.85485485, 14.87487487, 14.89489489,\n",
              "       14.91491491, 14.93493493, 14.95495495, 14.97497497, 14.99499499,\n",
              "       15.01501502, 15.03503504, 15.05505506, 15.07507508, 15.0950951 ,\n",
              "       15.11511512, 15.13513514, 15.15515516, 15.17517518, 15.1951952 ,\n",
              "       15.21521522, 15.23523524, 15.25525526, 15.27527528, 15.2952953 ,\n",
              "       15.31531532, 15.33533534, 15.35535536, 15.37537538, 15.3953954 ,\n",
              "       15.41541542, 15.43543544, 15.45545546, 15.47547548, 15.4954955 ,\n",
              "       15.51551552, 15.53553554, 15.55555556, 15.57557558, 15.5955956 ,\n",
              "       15.61561562, 15.63563564, 15.65565566, 15.67567568, 15.6956957 ,\n",
              "       15.71571572, 15.73573574, 15.75575576, 15.77577578, 15.7957958 ,\n",
              "       15.81581582, 15.83583584, 15.85585586, 15.87587588, 15.8958959 ,\n",
              "       15.91591592, 15.93593594, 15.95595596, 15.97597598, 15.995996  ,\n",
              "       16.01601602, 16.03603604, 16.05605606, 16.07607608, 16.0960961 ,\n",
              "       16.11611612, 16.13613614, 16.15615616, 16.17617618, 16.1961962 ,\n",
              "       16.21621622, 16.23623624, 16.25625626, 16.27627628, 16.2962963 ,\n",
              "       16.31631632, 16.33633634, 16.35635636, 16.37637638, 16.3963964 ,\n",
              "       16.41641642, 16.43643644, 16.45645646, 16.47647648, 16.4964965 ,\n",
              "       16.51651652, 16.53653654, 16.55655656, 16.57657658, 16.5965966 ,\n",
              "       16.61661662, 16.63663664, 16.65665666, 16.67667668, 16.6966967 ,\n",
              "       16.71671672, 16.73673674, 16.75675676, 16.77677678, 16.7967968 ,\n",
              "       16.81681682, 16.83683684, 16.85685686, 16.87687688, 16.8968969 ,\n",
              "       16.91691692, 16.93693694, 16.95695696, 16.97697698, 16.996997  ,\n",
              "       17.01701702, 17.03703704, 17.05705706, 17.07707708, 17.0970971 ,\n",
              "       17.11711712, 17.13713714, 17.15715716, 17.17717718, 17.1971972 ,\n",
              "       17.21721722, 17.23723724, 17.25725726, 17.27727728, 17.2972973 ,\n",
              "       17.31731732, 17.33733734, 17.35735736, 17.37737738, 17.3973974 ,\n",
              "       17.41741742, 17.43743744, 17.45745746, 17.47747748, 17.4974975 ,\n",
              "       17.51751752, 17.53753754, 17.55755756, 17.57757758, 17.5975976 ,\n",
              "       17.61761762, 17.63763764, 17.65765766, 17.67767768, 17.6976977 ,\n",
              "       17.71771772, 17.73773774, 17.75775776, 17.77777778, 17.7977978 ,\n",
              "       17.81781782, 17.83783784, 17.85785786, 17.87787788, 17.8978979 ,\n",
              "       17.91791792, 17.93793794, 17.95795796, 17.97797798, 17.997998  ,\n",
              "       18.01801802, 18.03803804, 18.05805806, 18.07807808, 18.0980981 ,\n",
              "       18.11811812, 18.13813814, 18.15815816, 18.17817818, 18.1981982 ,\n",
              "       18.21821822, 18.23823824, 18.25825826, 18.27827828, 18.2982983 ,\n",
              "       18.31831832, 18.33833834, 18.35835836, 18.37837838, 18.3983984 ,\n",
              "       18.41841842, 18.43843844, 18.45845846, 18.47847848, 18.4984985 ,\n",
              "       18.51851852, 18.53853854, 18.55855856, 18.57857858, 18.5985986 ,\n",
              "       18.61861862, 18.63863864, 18.65865866, 18.67867868, 18.6986987 ,\n",
              "       18.71871872, 18.73873874, 18.75875876, 18.77877878, 18.7987988 ,\n",
              "       18.81881882, 18.83883884, 18.85885886, 18.87887888, 18.8988989 ,\n",
              "       18.91891892, 18.93893894, 18.95895896, 18.97897898, 18.998999  ,\n",
              "       19.01901902, 19.03903904, 19.05905906, 19.07907908, 19.0990991 ,\n",
              "       19.11911912, 19.13913914, 19.15915916, 19.17917918, 19.1991992 ,\n",
              "       19.21921922, 19.23923924, 19.25925926, 19.27927928, 19.2992993 ,\n",
              "       19.31931932, 19.33933934, 19.35935936, 19.37937938, 19.3993994 ,\n",
              "       19.41941942, 19.43943944, 19.45945946, 19.47947948, 19.4994995 ,\n",
              "       19.51951952, 19.53953954, 19.55955956, 19.57957958, 19.5995996 ,\n",
              "       19.61961962, 19.63963964, 19.65965966, 19.67967968, 19.6996997 ,\n",
              "       19.71971972, 19.73973974, 19.75975976, 19.77977978, 19.7997998 ,\n",
              "       19.81981982, 19.83983984, 19.85985986, 19.87987988, 19.8998999 ,\n",
              "       19.91991992, 19.93993994, 19.95995996, 19.97997998, 20.        ])"
            ]
          },
          "metadata": {},
          "execution_count": 6
        }
      ]
    },
    {
      "cell_type": "code",
      "source": [
        "tpredict"
      ],
      "metadata": {
        "colab": {
          "base_uri": "https://localhost:8080/"
        },
        "id": "1zzpbS9maugg",
        "outputId": "2dea9560-67f1-475f-c3c0-b212e16e80c2"
      },
      "execution_count": 7,
      "outputs": [
        {
          "output_type": "execute_result",
          "data": {
            "text/plain": [
              "array([ 0,  1,  2,  3,  4,  5,  6,  7,  8,  9, 10, 11, 12, 13, 14, 15, 16,\n",
              "       17, 18, 19])"
            ]
          },
          "metadata": {},
          "execution_count": 7
        }
      ]
    },
    {
      "cell_type": "code",
      "source": [
        ""
      ],
      "metadata": {
        "id": "5603s6-JbOft"
      },
      "execution_count": null,
      "outputs": []
    },
    {
      "cell_type": "code",
      "source": [
        "tau_c = 1\n",
        "r = 1 - numpy.exp(-tpredict/tau_c)"
      ],
      "metadata": {
        "id": "BTsqelXEazbS"
      },
      "execution_count": 8,
      "outputs": []
    },
    {
      "cell_type": "code",
      "source": [
        "r"
      ],
      "metadata": {
        "colab": {
          "base_uri": "https://localhost:8080/"
        },
        "id": "R4tbDkNNa7kn",
        "outputId": "aeb611a2-93c6-4489-e4f1-a975cbef748d"
      },
      "execution_count": 9,
      "outputs": [
        {
          "output_type": "execute_result",
          "data": {
            "text/plain": [
              "array([0.        , 0.63212056, 0.86466472, 0.95021293, 0.98168436,\n",
              "       0.99326205, 0.99752125, 0.99908812, 0.99966454, 0.99987659,\n",
              "       0.9999546 , 0.9999833 , 0.99999386, 0.99999774, 0.99999917,\n",
              "       0.99999969, 0.99999989, 0.99999996, 0.99999998, 0.99999999])"
            ]
          },
          "metadata": {},
          "execution_count": 9
        }
      ]
    },
    {
      "cell_type": "code",
      "source": [
        "u = numpy.ones(M)"
      ],
      "metadata": {
        "id": "63GxyKnca8x4"
      },
      "execution_count": 10,
      "outputs": []
    },
    {
      "cell_type": "code",
      "source": [
        "u"
      ],
      "metadata": {
        "colab": {
          "base_uri": "https://localhost:8080/"
        },
        "id": "GAgp0lEobHwB",
        "outputId": "ef678126-6fd8-40b7-a0a5-8cf2d2223b23"
      },
      "execution_count": 12,
      "outputs": [
        {
          "output_type": "execute_result",
          "data": {
            "text/plain": [
              "array([1., 1., 1., 1., 1., 1., 1., 1., 1., 1.])"
            ]
          },
          "metadata": {},
          "execution_count": 12
        }
      ]
    },
    {
      "cell_type": "code",
      "source": [
        ""
      ],
      "metadata": {
        "id": "HyUtirlwbIHw"
      },
      "execution_count": null,
      "outputs": []
    },
    {
      "cell_type": "code",
      "source": [
        "x0 = numpy.zeros(G.to_ss().A.shape[0])"
      ],
      "metadata": {
        "id": "yP00srFZbQAZ"
      },
      "execution_count": 13,
      "outputs": []
    },
    {
      "cell_type": "code",
      "source": [
        "def extend(u):\n",
        "    \"\"\"We optimise the first M values of u but we need P values for prediction\"\"\"\n",
        "    return numpy.concatenate([u, numpy.repeat(u[-1], P-M)])"
      ],
      "metadata": {
        "id": "kSZvEMvWbS_2"
      },
      "execution_count": 18,
      "outputs": []
    },
    {
      "cell_type": "code",
      "source": [
        "def prediction(u, t=tpredict, x0=x0):\n",
        "    \"\"\"Predict the effect of an input signal\"\"\"\n",
        "    t, y, x = scipy.signal.lsim(G, u, t, X0=x0, interp=False)\n",
        "    return y"
      ],
      "metadata": {
        "id": "TAqfrjzmbUx6"
      },
      "execution_count": 19,
      "outputs": []
    },
    {
      "cell_type": "code",
      "source": [
        "plt.plot(tpredict, prediction(extend(u)))"
      ],
      "metadata": {
        "colab": {
          "base_uri": "https://localhost:8080/",
          "height": 282
        },
        "id": "NKLLXGsgbYrs",
        "outputId": "80ab7eeb-8430-4043-853b-ef4a76f26ca2"
      },
      "execution_count": 20,
      "outputs": [
        {
          "output_type": "execute_result",
          "data": {
            "text/plain": [
              "[<matplotlib.lines.Line2D at 0x7fa555137b50>]"
            ]
          },
          "metadata": {},
          "execution_count": 20
        },
        {
          "output_type": "display_data",
          "data": {
            "image/png": "[encoded data removed]",
            "text/plain": [
              "<Figure size 432x288 with 1 Axes>"
            ]
          },
          "metadata": {
            "needs_background": "light"
          }
        }
      ]
    },
    {
      "cell_type": "code",
      "source": [
        "def objective(u, x0=x0):\n",
        "    \"\"\"Calculate the sum of the square error for the cotnrol problem\"\"\"\n",
        "    y = prediction(extend(u))\n",
        "    return sum((r - y)**2)"
      ],
      "metadata": {
        "id": "wB5hTubVbu6f"
      },
      "execution_count": 23,
      "outputs": []
    },
    {
      "cell_type": "code",
      "source": [
        ""
      ],
      "metadata": {
        "id": "frlFy2D2bv6n"
      },
      "execution_count": null,
      "outputs": []
    },
    {
      "cell_type": "code",
      "source": [
        "result = scipy.optimize.minimize(objective, u)\n",
        "uopt = result.x\n",
        "result.fun"
      ],
      "metadata": {
        "colab": {
          "base_uri": "https://localhost:8080/"
        },
        "id": "L9QpyjNqcS8N",
        "outputId": "09017253-bffa-4002-ab2f-2257213b68a6"
      },
      "execution_count": 24,
      "outputs": [
        {
          "output_type": "execute_result",
          "data": {
            "text/plain": [
              "0.0009187721940138631"
            ]
          },
          "metadata": {},
          "execution_count": 24
        }
      ]
    },
    {
      "cell_type": "code",
      "source": [
        "ucont = extend(uopt)[((tcontinuous-0.01)//DeltaT).astype(int)]"
      ],
      "metadata": {
        "id": "acN7vJ_VcS-a"
      },
      "execution_count": 25,
      "outputs": []
    },
    {
      "cell_type": "code",
      "source": [
        ""
      ],
      "metadata": {
        "id": "Zl3NNN_NcTAf"
      },
      "execution_count": null,
      "outputs": []
    },
    {
      "cell_type": "code",
      "source": [
        "def plotoutput(ucont, uopt):\n",
        "    plt.figure()\n",
        "    plt.plot(tcontinuous, ucont)\n",
        "    plt.xlim([0, DeltaT*(P+1)])\n",
        "    plt.figure()\n",
        "    plt.plot(tcontinuous, prediction(ucont, tcontinuous), label='Continuous response')\n",
        "    plt.plot(tpredict, prediction(extend(uopt)), '-o', label='Optimized response')\n",
        "    plt.plot(tpredict, r, label='Set point')\n",
        "    plt.legend()"
      ],
      "metadata": {
        "id": "o5MC3_jYcTDI"
      },
      "execution_count": 26,
      "outputs": []
    },
    {
      "cell_type": "code",
      "source": [
        "plotoutput(ucont, uopt)"
      ],
      "metadata": {
        "colab": {
          "base_uri": "https://localhost:8080/",
          "height": 512
        },
        "id": "j203JiJLcTFs",
        "outputId": "81075d0c-8a72-449a-868a-2134631fd1cd"
      },
      "execution_count": 27,
      "outputs": [
        {
          "output_type": "display_data",
          "data": {
            "image/png": "[encoded data removed]",
            "text/plain": [
              "<Figure size 432x288 with 1 Axes>"
            ]
          },
          "metadata": {
            "needs_background": "light"
          }
        },
        {
          "output_type": "display_data",
          "data": {
            "image/png": "[encoded data removed]",
            "text/plain": [
              "<Figure size 432x288 with 1 Axes>"
            ]
          },
          "metadata": {
            "needs_background": "light"
          }
        }
      ]
    },
    {
      "cell_type": "code",
      "source": [
        ""
      ],
      "metadata": {
        "id": "q1RuHy3ZbzF9"
      },
      "execution_count": null,
      "outputs": []
    }
  ]
}