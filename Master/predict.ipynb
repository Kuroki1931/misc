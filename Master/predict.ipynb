{
 "cells": [
  {
   "cell_type": "code",
   "execution_count": 26,
   "metadata": {},
   "outputs": [],
   "source": [
    "import pandas as pd\n",
    "import numpy as np\n",
    "import pickle\n",
    "import xgboost as xgb\n",
    "import datetime\n",
    "import matplotlib.pyplot as plt\n",
    "import lightgbm as lgb\n",
    "import shap\n",
    "\n",
    "from sklearn.utils import shuffle\n",
    "from sklearn.model_selection import train_test_split\n",
    "from sklearn.linear_model import LogisticRegression\n",
    "from sklearn.metrics import confusion_matrix, accuracy_score, precision_score, classification_report\n",
    "from sklearn.metrics import log_loss\n",
    "from sklearn.model_selection import cross_val_score\n",
    "\n",
    "pd.set_option('display.max_columns', None)"
   ]
  },
  {
   "cell_type": "code",
   "execution_count": 27,
   "metadata": {},
   "outputs": [],
   "source": [
    "df=pd.read_csv('data.csv', encoding='cp932')\n",
    "df = df.sample(frac=1, random_state=0)\n",
    "upside_bool = df[\"up_side\"] > 0\n",
    "df.loc[upside_bool, \"nearest_source_E\"] = df[\"up_side\"]\n",
    "feature = ['processing', 'nearest_source_E', 'nearest_source_dist', 'no_water_days', 'build_count', 'density', 'agri_area']\n",
    "# feature = ['processing', 'nearest_source_E', 'nearest_source_type', 'nearest_source_dist', 'no_water_days', 'build_count', 'density', 'agri_area']\n",
    "y=df['Ecoli']\n",
    "X=df.loc[:, feature]\n",
    "X = X.fillna(X.mean())"
   ]
  },
  {
   "cell_type": "code",
   "execution_count": 28,
   "metadata": {},
   "outputs": [
    {
     "name": "stdout",
     "output_type": "stream",
     "text": [
      "Labels counts in y: [ 92 110]\n",
      "Lables counts in y_train: [64 77]\n",
      "Lables counts in y_test: [28 33]\n"
     ]
    }
   ],
   "source": [
    "from sklearn.model_selection import train_test_split\n",
    "X_train, X_test, y_train, y_test=train_test_split(X, y, test_size=0.3,\n",
    "                                                  random_state=1, stratify=y)\n",
    "print('Labels counts in y:', np.bincount(y))\n",
    "print('Lables counts in y_train:', np.bincount(y_train))\n",
    "print('Lables counts in y_test:', np.bincount(y_test))"
   ]
  },
  {
   "cell_type": "code",
   "execution_count": 29,
   "metadata": {},
   "outputs": [],
   "source": [
    "processing = X['processing']\n",
    "# nearest_source_type = X['nearest_source_type']\n",
    "X=(X-X.mean(axis=0))/X.std(axis=0)\n",
    "X['processing'] = processing\n",
    "# X['nearest_source_type'] = nearest_source_type\n",
    "\n",
    "X_train_std=(X_train-X_train.mean(axis=0))/X_train.std(axis=0)\n",
    "X_train_std['processing'] = X_train['processing']\n",
    "# X_train_std['nearest_source_type'] = X_train['nearest_source_type']\n",
    "X_test_std=(X_test-X_train.mean(axis=0))/X_train.std(axis=0)\n",
    "X_test_std['processing'] = X_test['processing']\n",
    "# X_test_std['nearest_source_type'] = X_test['nearest_source_type']"
   ]
  },
  {
   "cell_type": "markdown",
   "metadata": {},
   "source": [
    "# SVM"
   ]
  },
  {
   "cell_type": "code",
   "execution_count": 30,
   "metadata": {},
   "outputs": [
    {
     "name": "stdout",
     "output_type": "stream",
     "text": [
      "best {'svc__C': 0.0001, 'svc__kernel': 'linear'} 0.5461904761904762\n"
     ]
    }
   ],
   "source": [
    "# チューニング\n",
    "from sklearn.model_selection import GridSearchCV\n",
    "from sklearn.svm import SVC\n",
    "from sklearn.pipeline import make_pipeline\n",
    "pipe_svc=make_pipeline( SVC(random_state=1))\n",
    "\n",
    "param_range=[0.0001, 0.001, 0.01, 0.1, 1.0, 10.0, 100.0, 1000.0]\n",
    "param_grid=[{'svc__C':param_range, 'svc__kernel':['linear', 'kernel']}]\n",
    "\n",
    "gs=GridSearchCV(estimator=pipe_svc,\n",
    "                param_grid=param_grid,\n",
    "                scoring='accuracy',\n",
    "                cv=10,\n",
    "     \n",
    "                n_jobs=-1)\n",
    "svm_result=gs.fit(X_train_std, y_train)\n",
    "\n",
    "print('best', gs.best_params_, gs.best_score_)"
   ]
  },
  {
   "cell_type": "code",
   "execution_count": 31,
   "metadata": {},
   "outputs": [
    {
     "name": "stdout",
     "output_type": "stream",
     "text": [
      "0.5333333333333333\n",
      "0.5714285714285714\n",
      "0.5714285714285714\n",
      "0.5714285714285714\n",
      "0.5714285714285714\n"
     ]
    }
   ],
   "source": [
    "max_index = np.argmin(svm_result.cv_results_[\"rank_test_score\"])\n",
    "for i in range(5):\n",
    "    max_value = svm_result.cv_results_[\"split{}_test_score\".format(i)][max_index]\n",
    "    print(max_value)"
   ]
  },
  {
   "cell_type": "code",
   "execution_count": 32,
   "metadata": {},
   "outputs": [
    {
     "name": "stdout",
     "output_type": "stream",
     "text": [
      "train 0.6099290780141844\n",
      "test 0.5901639344262295\n"
     ]
    }
   ],
   "source": [
    "from sklearn.svm import SVC\n",
    "svm=SVC(kernel='linear', C=1, random_state=1, probability=True)\n",
    "\n",
    "svm.fit(X_train_std, y_train)\n",
    "print('train', svm.score(X_train_std, y_train))\n",
    "print('test', svm.score(X_test_std, y_test))"
   ]
  },
  {
   "cell_type": "markdown",
   "metadata": {},
   "source": [
    "# random forest"
   ]
  },
  {
   "cell_type": "code",
   "execution_count": 8,
   "metadata": {},
   "outputs": [
    {
     "name": "stdout",
     "output_type": "stream",
     "text": [
      "best {'criterion': 'gini', 'max_depth': 2, 'n_estimators': 45} 0.6674876847290641\n"
     ]
    }
   ],
   "source": [
    "# チューニング\n",
    "from sklearn.model_selection import GridSearchCV\n",
    "from sklearn.ensemble import RandomForestClassifier\n",
    "from sklearn.pipeline import make_pipeline\n",
    "forest = RandomForestClassifier()\n",
    "\n",
    "param_grid =[{\"n_estimators\": [i for i in range(1, 51)],\n",
    "           \"criterion\": [\"gini\", \"entropy\"],\n",
    "           \"max_depth\":[i for i in range(1, 21)]\n",
    "          }]\n",
    "\n",
    "gs=GridSearchCV(forest,\n",
    "                param_grid=param_grid,\n",
    "                scoring='accuracy',\n",
    "                cv=5,\n",
    "                n_jobs=-1)\n",
    "forest_result=gs.fit(X_train_std, y_train)\n",
    "\n",
    "print('best', gs.best_params_, gs.best_score_)"
   ]
  },
  {
   "cell_type": "code",
   "execution_count": 9,
   "metadata": {},
   "outputs": [
    {
     "name": "stdout",
     "output_type": "stream",
     "text": [
      "0.5517241379310345\n",
      "0.7142857142857143\n",
      "0.6785714285714286\n",
      "0.6785714285714286\n",
      "0.7142857142857143\n"
     ]
    }
   ],
   "source": [
    "max_index = np.argmin(forest_result.cv_results_[\"rank_test_score\"])\n",
    "for i in range(5):\n",
    "    max_value = forest_result.cv_results_[\"split{}_test_score\".format(i)][max_index]\n",
    "    print(max_value)"
   ]
  },
  {
   "cell_type": "code",
   "execution_count": 15,
   "metadata": {},
   "outputs": [
    {
     "name": "stdout",
     "output_type": "stream",
     "text": [
      "train 0.7375886524822695\n",
      "test 0.5737704918032787\n"
     ]
    }
   ],
   "source": [
    "from sklearn.ensemble import RandomForestClassifier\n",
    "forest=RandomForestClassifier(criterion='gini', max_depth=2, n_estimators=45)\n",
    "forest.fit(X_train_std, y_train)\n",
    "\n",
    "print('train', forest.score(X_train_std, y_train))\n",
    "print('test', forest.score(X_test_std, y_test))"
   ]
  },
  {
   "cell_type": "markdown",
   "metadata": {},
   "source": [
    "# light gbm"
   ]
  },
  {
   "cell_type": "code",
   "execution_count": 11,
   "metadata": {},
   "outputs": [
    {
     "name": "stdout",
     "output_type": "stream",
     "text": [
      "[LightGBM] [Warning] Unknown parameter: criterion\n",
      "best {'criterion': 'gini', 'max_depth': 1, 'n_estimators': 18} 0.6889162561576354\n"
     ]
    }
   ],
   "source": [
    "model = lgb.LGBMClassifier()\n",
    "# パラメーターを設定する\n",
    "param_grid = {\"max_depth\": [i for i in range(1, 21)], #10, 25,\n",
    "               \"criterion\": [\"gini\", \"entropy\"],\n",
    "              \"n_estimators\": [i for i in range(1, 51)], # 500\n",
    "             }\n",
    "# パラメータチューニングをグリッドサーチで行うために設定する\n",
    "## このGridSearchCV には注意が必要 scoring は そのスコアを基準にして最適化する\n",
    "gs = GridSearchCV(estimator = model,\n",
    "                           param_grid = param_grid,\n",
    "                           scoring = 'accuracy',\n",
    "                           cv = 5,\n",
    "                           n_jobs = -1)\n",
    "\n",
    "light_result=gs.fit(X_train_std, y_train)\n",
    "print('best', gs.best_params_, gs.best_score_)"
   ]
  },
  {
   "cell_type": "code",
   "execution_count": 12,
   "metadata": {},
   "outputs": [
    {
     "name": "stdout",
     "output_type": "stream",
     "text": [
      "0.5517241379310345\n",
      "0.7142857142857143\n",
      "0.6785714285714286\n",
      "0.6785714285714286\n",
      "0.8214285714285714\n"
     ]
    }
   ],
   "source": [
    "max_index = np.argmin(light_result.cv_results_[\"rank_test_score\"])\n",
    "for i in range(5):\n",
    "    max_value = light_result.cv_results_[\"split{}_test_score\".format(i)][max_index]\n",
    "    print(max_value)"
   ]
  },
  {
   "cell_type": "code",
   "execution_count": 16,
   "metadata": {},
   "outputs": [
    {
     "name": "stdout",
     "output_type": "stream",
     "text": [
      "[LightGBM] [Warning] Unknown parameter: criterion\n",
      "train 0.6879432624113475\n",
      "test 0.4918032786885246\n"
     ]
    }
   ],
   "source": [
    "light=lgb.LGBMClassifier(criterion='gini', max_depth=1, n_estimators=18)\n",
    "light.fit(X_train_std, y_train)\n",
    "\n",
    "print('train', light.score(X_train_std, y_train))\n",
    "print('test', light.score(X_test_std, y_test))"
   ]
  },
  {
   "cell_type": "markdown",
   "metadata": {},
   "source": [
    "# shap"
   ]
  },
  {
   "cell_type": "code",
   "execution_count": 17,
   "metadata": {},
   "outputs": [],
   "source": [
    "explainer = shap.TreeExplainer(model=forest, feature_perturbation='tree_path_dependent')\n",
    "shap_values = explainer.shap_values(X=X_test_std)"
   ]
  },
  {
   "cell_type": "code",
   "execution_count": 18,
   "metadata": {},
   "outputs": [
    {
     "data": {
      "image/png": "[encoded data removed]",
      "text/plain": [
       "<Figure size 576x309.6 with 1 Axes>"
      ]
     },
     "metadata": {
      "needs_background": "light"
     },
     "output_type": "display_data"
    }
   ],
   "source": [
    "shap.summary_plot(shap_values[1], X_test_std, plot_type=\"bar\")"
   ]
  },
  {
   "cell_type": "code",
   "execution_count": 61,
   "metadata": {},
   "outputs": [
    {
     "data": {
      "image/png": "[encoded data removed]",
      "text/plain": [
       "<Figure size 576x338.4 with 2 Axes>"
      ]
     },
     "metadata": {
      "needs_background": "light"
     },
     "output_type": "display_data"
    }
   ],
   "source": [
    "shap.summary_plot(shap_values[1], X_test_std)"
   ]
  },
  {
   "cell_type": "code",
   "execution_count": null,
   "metadata": {},
   "outputs": [],
   "source": []
  },
  {
   "cell_type": "code",
   "execution_count": null,
   "metadata": {},
   "outputs": [],
   "source": []
  },
  {
   "cell_type": "markdown",
   "metadata": {},
   "source": [
    "# SVM（上流情報なし）"
   ]
  },
  {
   "cell_type": "code",
   "execution_count": null,
   "metadata": {},
   "outputs": [],
   "source": [
    "df=pd.read_csv('data.csv', encoding='cp932')\n",
    "\n",
    "feature = ['processing', 'nearest_source_E', 'nearest_source_dist', 'no_water_days', 'build_count', 'density', 'agri_area']\n",
    "y=df['Ecoli']\n",
    "X=df.loc[:, feature]\n",
    "X = X.fillna(X.mean())"
   ]
  },
  {
   "cell_type": "code",
   "execution_count": 7,
   "metadata": {},
   "outputs": [
    {
     "name": "stdout",
     "output_type": "stream",
     "text": [
      "best {'svc__C': 1.0, 'svc__kernel': 'linear'} 0.5596059113300493\n"
     ]
    }
   ],
   "source": [
    "# チューニング\n",
    "from sklearn.model_selection import GridSearchCV\n",
    "from sklearn.svm import SVC\n",
    "from sklearn.pipeline import make_pipeline\n",
    "pipe_svc=make_pipeline( SVC(random_state=1))\n",
    "\n",
    "param_range=[0.0001, 0.001, 0.01, 0.1, 1.0, 10.0, 100.0, 1000.0]\n",
    "param_grid=[{'svc__C':param_range, 'svc__kernel':['linear', 'kernel']}]\n",
    "\n",
    "gs=GridSearchCV(estimator=pipe_svc,\n",
    "                param_grid=param_grid,\n",
    "                scoring='accuracy',\n",
    "                cv=5,\n",
    "     \n",
    "                n_jobs=-1)\n",
    "gs=gs.fit(X_train_std, y_train)\n",
    "\n",
    "print('best', gs.best_params_, gs.best_score_)"
   ]
  },
  {
   "cell_type": "code",
   "execution_count": 8,
   "metadata": {},
   "outputs": [
    {
     "name": "stdout",
     "output_type": "stream",
     "text": [
      "best {'svc__C': 1000.0, 'svc__kernel': 'linear'} 0.5493902439024391\n"
     ]
    }
   ],
   "source": [
    "# チューニング\n",
    "from sklearn.model_selection import GridSearchCV\n",
    "from sklearn.svm import SVC\n",
    "from sklearn.pipeline import make_pipeline\n",
    "pipe_svc=make_pipeline( SVC(random_state=1))\n",
    "\n",
    "param_range=[0.0001, 0.001, 0.01, 0.1, 1.0, 10.0, 100.0, 1000.0]\n",
    "param_grid=[{'svc__C':param_range, 'svc__kernel':['linear', 'kernel']}]\n",
    "\n",
    "gs=GridSearchCV(estimator=pipe_svc,\n",
    "                param_grid=param_grid,\n",
    "                scoring='accuracy',\n",
    "                cv=5,\n",
    "     \n",
    "                n_jobs=-1)\n",
    "gs=gs.fit(X, y)\n",
    "\n",
    "print('best', gs.best_params_, gs.best_score_)"
   ]
  },
  {
   "cell_type": "code",
   "execution_count": 19,
   "metadata": {},
   "outputs": [
    {
     "name": "stdout",
     "output_type": "stream",
     "text": [
      "train 0.5886524822695035\n",
      "test 0.6065573770491803\n"
     ]
    }
   ],
   "source": [
    "from sklearn.svm import SVC\n",
    "svm=SVC(kernel='linear', C=1, random_state=1, probability=True)\n",
    "\n",
    "svm.fit(X_train_std, y_train)\n",
    "print('train', svm.score(X_train_std, y_train))\n",
    "print('test', svm.score(X_test_std, y_test))"
   ]
  },
  {
   "cell_type": "markdown",
   "metadata": {},
   "source": [
    "# random forest"
   ]
  },
  {
   "cell_type": "code",
   "execution_count": 10,
   "metadata": {},
   "outputs": [
    {
     "name": "stdout",
     "output_type": "stream",
     "text": [
      "best {'criterion': 'entropy', 'max_depth': 17, 'n_estimators': 25} 0.7019704433497538\n"
     ]
    }
   ],
   "source": [
    "# チューニング\n",
    "from sklearn.model_selection import GridSearchCV\n",
    "from sklearn.ensemble import RandomForestClassifier\n",
    "from sklearn.pipeline import make_pipeline\n",
    "forest = RandomForestClassifier()\n",
    "\n",
    "param_grid =[{\"n_estimators\": [i for i in range(1, 51)],\n",
    "           \"criterion\": [\"gini\", \"entropy\"],\n",
    "           \"max_depth\":[i for i in range(1, 21)]\n",
    "          }]\n",
    "\n",
    "gs=GridSearchCV(forest,\n",
    "                param_grid=param_grid,\n",
    "                scoring='accuracy',\n",
    "                cv=5,\n",
    "                n_jobs=-1)\n",
    "gs=gs.fit(X_train_std, y_train)\n",
    "\n",
    "print('best', gs.best_params_, gs.best_score_)"
   ]
  },
  {
   "cell_type": "code",
   "execution_count": 11,
   "metadata": {},
   "outputs": [
    {
     "name": "stdout",
     "output_type": "stream",
     "text": [
      "best {'criterion': 'entropy', 'max_depth': 20, 'n_estimators': 48} 0.623780487804878\n"
     ]
    }
   ],
   "source": [
    "# チューニング\n",
    "from sklearn.model_selection import GridSearchCV\n",
    "from sklearn.ensemble import RandomForestClassifier\n",
    "from sklearn.pipeline import make_pipeline\n",
    "forest = RandomForestClassifier()\n",
    "\n",
    "param_grid =[{\"n_estimators\": [i for i in range(1, 51)],\n",
    "           \"criterion\": [\"gini\", \"entropy\"],\n",
    "           \"max_depth\":[i for i in range(1, 21)]\n",
    "          }]\n",
    "\n",
    "gs=GridSearchCV(forest,\n",
    "                param_grid=param_grid,\n",
    "                scoring='accuracy',\n",
    "                cv=5,\n",
    "                n_jobs=-1)\n",
    "gs=gs.fit(X, y)\n",
    "\n",
    "print('best', gs.best_params_, gs.best_score_)"
   ]
  },
  {
   "cell_type": "code",
   "execution_count": 20,
   "metadata": {},
   "outputs": [
    {
     "name": "stdout",
     "output_type": "stream",
     "text": [
      "train 0.9716312056737588\n",
      "test 0.5737704918032787\n"
     ]
    }
   ],
   "source": [
    "from sklearn.ensemble import RandomForestClassifier\n",
    "forest=RandomForestClassifier(criterion='entropy', max_depth=17, n_estimators=25)\n",
    "forest.fit(X_train_std, y_train)\n",
    "\n",
    "print('train', forest.score(X_train_std, y_train))\n",
    "print('test', forest.score(X_test_std, y_test))"
   ]
  },
  {
   "cell_type": "markdown",
   "metadata": {},
   "source": [
    "# light gbm"
   ]
  },
  {
   "cell_type": "code",
   "execution_count": 13,
   "metadata": {},
   "outputs": [
    {
     "name": "stdout",
     "output_type": "stream",
     "text": [
      "[LightGBM] [Warning] Unknown parameter: criterion\n",
      "best {'criterion': 'gini', 'max_depth': 3, 'n_estimators': 6} 0.6386699507389162\n"
     ]
    }
   ],
   "source": [
    "model = lgb.LGBMClassifier()\n",
    "# パラメーターを設定する\n",
    "param_grid = {\"max_depth\": [i for i in range(1, 21)], #10, 25,\n",
    "               \"criterion\": [\"gini\", \"entropy\"],\n",
    "              \"n_estimators\": [i for i in range(1, 51)], # 500\n",
    "             }\n",
    "# パラメータチューニングをグリッドサーチで行うために設定する\n",
    "## このGridSearchCV には注意が必要 scoring は そのスコアを基準にして最適化する\n",
    "gs = GridSearchCV(estimator = model,\n",
    "                           param_grid = param_grid,\n",
    "                           scoring = 'accuracy',\n",
    "                           cv = 5,\n",
    "                           n_jobs = -1)\n",
    "\n",
    "gs=gs.fit(X_train_std, y_train)\n",
    "print('best', gs.best_params_, gs.best_score_)"
   ]
  },
  {
   "cell_type": "code",
   "execution_count": 14,
   "metadata": {},
   "outputs": [
    {
     "name": "stdout",
     "output_type": "stream",
     "text": [
      "best {'criterion': 'gini', 'max_depth': 5, 'n_estimators': 11} 0.5893902439024391\n"
     ]
    }
   ],
   "source": [
    "model = lgb.LGBMClassifier()\n",
    "# パラメーターを設定する\n",
    "param_grid = {\"max_depth\": [i for i in range(1, 21)], #10, 25,\n",
    "               \"criterion\": [\"gini\", \"entropy\"],\n",
    "              \"n_estimators\": [i for i in range(1, 51)], # 500\n",
    "             }\n",
    "# パラメータチューニングをグリッドサーチで行うために設定する\n",
    "## このGridSearchCV には注意が必要 scoring は そのスコアを基準にして最適化する\n",
    "gs = GridSearchCV(estimator = model,\n",
    "                           param_grid = param_grid,\n",
    "                           scoring = 'accuracy',\n",
    "                           cv = 5,\n",
    "                           n_jobs = -1)\n",
    "\n",
    "gs=gs.fit(X, y)\n",
    "print('best', gs.best_params_, gs.best_score_)"
   ]
  },
  {
   "cell_type": "code",
   "execution_count": 21,
   "metadata": {},
   "outputs": [
    {
     "name": "stdout",
     "output_type": "stream",
     "text": [
      "[LightGBM] [Warning] Unknown parameter: criterion\n",
      "train 0.6737588652482269\n",
      "test 0.5737704918032787\n"
     ]
    }
   ],
   "source": [
    "light=lgb.LGBMClassifier(criterion='gini', max_depth=3, n_estimators=6)\n",
    "light.fit(X_train_std, y_train)\n",
    "\n",
    "print('train', light.score(X_train_std, y_train))\n",
    "print('test', light.score(X_test_std, y_test))"
   ]
  },
  {
   "cell_type": "markdown",
   "metadata": {},
   "source": [
    "# shap"
   ]
  },
  {
   "cell_type": "code",
   "execution_count": 16,
   "metadata": {},
   "outputs": [],
   "source": [
    "explainer = shap.TreeExplainer(model=forest, feature_perturbation='tree_path_dependent')\n",
    "shap_values = explainer.shap_values(X=X_test_std)"
   ]
  },
  {
   "cell_type": "code",
   "execution_count": 17,
   "metadata": {},
   "outputs": [
    {
     "data": {
      "image/png": "[encoded data removed]",
      "text/plain": [
       "<Figure size 576x309.6 with 1 Axes>"
      ]
     },
     "metadata": {
      "needs_background": "light"
     },
     "output_type": "display_data"
    }
   ],
   "source": [
    "shap.summary_plot(shap_values[1], X_test_std, plot_type=\"bar\")"
   ]
  },
  {
   "cell_type": "code",
   "execution_count": 18,
   "metadata": {},
   "outputs": [
    {
     "data": {
      "image/png": "[encoded data removed]",
      "text/plain": [
       "<Figure size 576x309.6 with 2 Axes>"
      ]
     },
     "metadata": {
      "needs_background": "light"
     },
     "output_type": "display_data"
    }
   ],
   "source": [
    "shap.summary_plot(shap_values[1], X_test_std)"
   ]
  },
  {
   "cell_type": "code",
   "execution_count": null,
   "metadata": {},
   "outputs": [],
   "source": []
  },
  {
   "cell_type": "code",
   "execution_count": null,
   "metadata": {},
   "outputs": [],
   "source": []
  }
 ],
 "metadata": {
  "kernelspec": {
   "display_name": "Python 3",
   "language": "python",
   "name": "python3"
  },
  "language_info": {
   "codemirror_mode": {
    "name": "ipython",
    "version": 3
   },
   "file_extension": ".py",
   "mimetype": "text/x-python",
   "name": "python",
   "nbconvert_exporter": "python",
   "pygments_lexer": "ipython3",
   "version": "3.7.7"
  }
 },
 "nbformat": 4,
 "nbformat_minor": 4
}
