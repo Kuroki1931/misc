{
 "cells": [
  {
   "cell_type": "code",
   "execution_count": 4,
   "metadata": {},
   "outputs": [],
   "source": [
    "import pandas as pd\n",
    "import numpy as np\n",
    "import pickle\n",
    "import xgboost as xgb\n",
    "import datetime\n",
    "from sklearn.utils import shuffle\n",
    "from sklearn.model_selection import train_test_split\n",
    "from sklearn.linear_model import LogisticRegression\n",
    "from sklearn.metrics import confusion_matrix, accuracy_score, precision_score, classification_report\n",
    "pd.set_option('display.max_columns', None)\n",
    "from sklearn.discriminant_analysis import LinearDiscriminantAnalysis"
   ]
  },
  {
   "cell_type": "code",
   "execution_count": 5,
   "metadata": {},
   "outputs": [],
   "source": [
    "df=pd.read_csv('DATA.csv')"
   ]
  },
  {
   "cell_type": "code",
   "execution_count": 8,
   "metadata": {},
   "outputs": [],
   "source": [
    "name=df['NAME'].unique()"
   ]
  },
  {
   "cell_type": "code",
   "execution_count": 9,
   "metadata": {},
   "outputs": [
    {
     "data": {
      "text/plain": [
       "array(['Mahendranagar', 'Dhangadhi', 'Nepalgunj', 'Krishnanagar',\n",
       "       'Bahadurganj', 'Taulihawa', 'Butwal', 'Bhairahawa', 'Hemja',\n",
       "       'Pokhara', 'Bharatpur', 'Birgunj', 'Kalaiya', 'Hetauda',\n",
       "       'Janakpur', 'KTM', 'Gaur', 'Banepa', 'Malangwa', 'Gaushala',\n",
       "       'Jaleshwor', 'Lahan', 'Rajbiraj', 'Dharan', 'Biratnagar',\n",
       "       'Bhadrapur'], dtype=object)"
      ]
     },
     "execution_count": 9,
     "metadata": {},
     "output_type": "execute_result"
    }
   ],
   "source": [
    "name"
   ]
  },
  {
   "cell_type": "code",
   "execution_count": 10,
   "metadata": {},
   "outputs": [],
   "source": [
    "ratio=pd.DataFrame([0.25, 43, 0, 10,\n",
    "                    0, 3.5, 30.4, 2.2, 44.5,\n",
    "                    58, 4.25, 0, 0, 19.5,\n",
    "                    19.3, 69.5, 0.33, 124.6, 38, 0,\n",
    "                    0, 12.6, 1.67, 21.8, 3, 0.83], \n",
    "                    index=name, columns=['source_ecoli'])"
   ]
  },
  {
   "cell_type": "code",
   "execution_count": 11,
   "metadata": {},
   "outputs": [],
   "source": [
    "ratio=ratio.reset_index()\n",
    "ratio=ratio.rename(columns={'index':'NAME'})"
   ]
  },
  {
   "cell_type": "code",
   "execution_count": 12,
   "metadata": {},
   "outputs": [],
   "source": [
    "DF=pd.merge(df, ratio, on='NAME', how='inner')"
   ]
  },
  {
   "cell_type": "code",
   "execution_count": 16,
   "metadata": {},
   "outputs": [],
   "source": [
    "DF.to_csv('DATA.csv')"
   ]
  },
  {
   "cell_type": "code",
   "execution_count": 15,
   "metadata": {},
   "outputs": [
    {
     "data": {
      "text/plain": [
       "Unnamed: 0             0\n",
       "NAME                   0\n",
       "Rowid                  0\n",
       "XY水道水位置情報              0\n",
       "X                      0\n",
       "Y                      0\n",
       "up_down                0\n",
       "curvature              0\n",
       "inclination            0\n",
       "tilt_direction         0\n",
       "altitude               0\n",
       "disto_river            2\n",
       "disto_stations         0\n",
       "disto_mainroad         0\n",
       "disto_syorizyo         0\n",
       "supply_hours           0\n",
       "no_water_days          0\n",
       "total_population       0\n",
       "population_served      0\n",
       "popu-served            0\n",
       "number_taps            0\n",
       "pipelength             0\n",
       "pipelength_per_pipe    0\n",
       "served/pipes           0\n",
       "(popu-served)/pipes    0\n",
       "oldest_pipe_age        0\n",
       "ST                     0\n",
       "RSF                    0\n",
       "FL                     0\n",
       "PF                     0\n",
       "RF                     0\n",
       "EColi.                 0\n",
       "ratio                  0\n",
       "source_ecoli           0\n",
       "dtype: int64"
      ]
     },
     "execution_count": 15,
     "metadata": {},
     "output_type": "execute_result"
    }
   ],
   "source": [
    "DF.isna().sum()"
   ]
  },
  {
   "cell_type": "code",
   "execution_count": 17,
   "metadata": {},
   "outputs": [],
   "source": [
    "df=DF"
   ]
  },
  {
   "cell_type": "code",
   "execution_count": 18,
   "metadata": {},
   "outputs": [],
   "source": [
    "df=df.dropna(axis=0)"
   ]
  },
  {
   "cell_type": "code",
   "execution_count": 19,
   "metadata": {},
   "outputs": [
    {
     "data": {
      "text/plain": [
       "Index(['Unnamed: 0', 'NAME', 'Rowid', 'XY水道水位置情報', 'X', 'Y', 'up_down',\n",
       "       'curvature', 'inclination', 'tilt_direction', 'altitude', 'disto_river',\n",
       "       'disto_stations', 'disto_mainroad', 'disto_syorizyo', 'supply_hours',\n",
       "       'no_water_days', 'total_population ', 'population_served',\n",
       "       'popu-served', 'number_taps', 'pipelength', 'pipelength_per_pipe',\n",
       "       'served/pipes', '(popu-served)/pipes', 'oldest_pipe_age', 'ST', 'RSF',\n",
       "       'FL', 'PF', 'RF', 'EColi.', 'ratio', 'source_ecoli'],\n",
       "      dtype='object')"
      ]
     },
     "execution_count": 19,
     "metadata": {},
     "output_type": "execute_result"
    }
   ],
   "source": [
    "df.columns"
   ]
  },
  {
   "cell_type": "code",
   "execution_count": 20,
   "metadata": {},
   "outputs": [],
   "source": [
    "y=df['EColi.']\n",
    "X=df.loc[:, ['up_down', 'curvature', 'inclination', 'tilt_direction', 'altitude', 'disto_river', 'disto_stations', \n",
    "             'disto_mainroad', 'disto_syorizyo', 'supply_hours', 'no_water_days', 'total_population ', 'population_served',\n",
    "             'popu-served', 'number_taps', 'pipelength', 'pipelength_per_pipe', 'served/pipes', '(popu-served)/pipes', \n",
    "             'oldest_pipe_age', 'ST', 'RSF', 'FL', 'PF', 'RF',  'ratio', 'source_ecoli']]"
   ]
  },
  {
   "cell_type": "code",
   "execution_count": 21,
   "metadata": {},
   "outputs": [
    {
     "name": "stdout",
     "output_type": "stream",
     "text": [
      "Labels counts in y: [ 98 120]\n",
      "Lables counts in y_train: [68 84]\n",
      "Lables counts in y_test: [30 36]\n"
     ]
    }
   ],
   "source": [
    "from sklearn.model_selection import train_test_split\n",
    "X_train, X_test, y_train, y_test=train_test_split(X, y, test_size=0.3,\n",
    "                                                  random_state=1, stratify=y)\n",
    "print('Labels counts in y:', np.bincount(y))\n",
    "print('Lables counts in y_train:', np.bincount(y_train))\n",
    "print('Lables counts in y_test:', np.bincount(y_test))"
   ]
  },
  {
   "cell_type": "code",
   "execution_count": 22,
   "metadata": {},
   "outputs": [],
   "source": [
    "X_train_std=(X_train-X_train.mean(axis=0))/X_train.std(axis=0)\n",
    "X_test_std=(X_test-X_train.mean(axis=0))/X_train.std(axis=0)"
   ]
  },
  {
   "cell_type": "code",
   "execution_count": 23,
   "metadata": {},
   "outputs": [],
   "source": [
    "def threshold(fare):\n",
    "    if fare<=0:\n",
    "        return 0\n",
    "    else:\n",
    "        return 1"
   ]
  },
  {
   "cell_type": "code",
   "execution_count": 24,
   "metadata": {},
   "outputs": [],
   "source": [
    "X_train_std['ST']=X_train_std['ST'].apply(threshold)\n",
    "X_train_std['RSF']=X_train_std['RSF'].apply(threshold)\n",
    "X_train_std['FL']=X_train_std['FL'].apply(threshold)\n",
    "X_train_std['PF']=X_train_std['PF'].apply(threshold)\n",
    "X_train_std['RF']=X_train_std['RF'].apply(threshold)\n",
    "X_test_std['ST']=X_test_std['ST'].apply(threshold)\n",
    "X_test_std['RSF']=X_test_std['RSF'].apply(threshold)\n",
    "X_test_std['FL']=X_test_std['FL'].apply(threshold)\n",
    "X_test_std['PF']=X_test_std['PF'].apply(threshold)\n",
    "X_test_std['RF']=X_test_std['RF'].apply(threshold)"
   ]
  },
  {
   "cell_type": "code",
   "execution_count": 25,
   "metadata": {},
   "outputs": [],
   "source": [
    "from sklearn.svm import SVC\n",
    "svm=SVC(kernel='linear', C=100, random_state=1, probability=True)"
   ]
  },
  {
   "cell_type": "code",
   "execution_count": 26,
   "metadata": {},
   "outputs": [
    {
     "data": {
      "text/plain": [
       "SVC(C=100, kernel='linear', probability=True, random_state=1)"
      ]
     },
     "execution_count": 26,
     "metadata": {},
     "output_type": "execute_result"
    }
   ],
   "source": [
    "svm.fit(X_train_std, y_train)"
   ]
  },
  {
   "cell_type": "code",
   "execution_count": 27,
   "metadata": {},
   "outputs": [
    {
     "data": {
      "text/plain": [
       "0.7171052631578947"
      ]
     },
     "execution_count": 27,
     "metadata": {},
     "output_type": "execute_result"
    }
   ],
   "source": [
    "svm.score(X_train_std, y_train)"
   ]
  },
  {
   "cell_type": "code",
   "execution_count": 28,
   "metadata": {},
   "outputs": [
    {
     "data": {
      "text/plain": [
       "0.696969696969697"
      ]
     },
     "execution_count": 28,
     "metadata": {},
     "output_type": "execute_result"
    }
   ],
   "source": [
    "svm.score(X_test_std, y_test)"
   ]
  },
  {
   "cell_type": "code",
   "execution_count": null,
   "metadata": {},
   "outputs": [],
   "source": []
  },
  {
   "cell_type": "code",
   "execution_count": 29,
   "metadata": {},
   "outputs": [],
   "source": [
    "from sklearn.ensemble import RandomForestClassifier"
   ]
  },
  {
   "cell_type": "code",
   "execution_count": 30,
   "metadata": {},
   "outputs": [],
   "source": [
    "forest=RandomForestClassifier(max_depth=8, criterion='entropy', n_estimators=18, random_state=1)"
   ]
  },
  {
   "cell_type": "code",
   "execution_count": 31,
   "metadata": {},
   "outputs": [
    {
     "data": {
      "text/plain": [
       "RandomForestClassifier(criterion='entropy', max_depth=8, n_estimators=18,\n",
       "                       random_state=1)"
      ]
     },
     "execution_count": 31,
     "metadata": {},
     "output_type": "execute_result"
    }
   ],
   "source": [
    "forest.fit(X_train_std, y_train)"
   ]
  },
  {
   "cell_type": "code",
   "execution_count": 32,
   "metadata": {},
   "outputs": [
    {
     "data": {
      "text/plain": [
       "0.9473684210526315"
      ]
     },
     "execution_count": 32,
     "metadata": {},
     "output_type": "execute_result"
    }
   ],
   "source": [
    "forest.score(X_train_std, y_train)"
   ]
  },
  {
   "cell_type": "code",
   "execution_count": 33,
   "metadata": {},
   "outputs": [
    {
     "data": {
      "text/plain": [
       "0.6060606060606061"
      ]
     },
     "execution_count": 33,
     "metadata": {},
     "output_type": "execute_result"
    }
   ],
   "source": [
    "forest.score(X_test_std, y_test)"
   ]
  },
  {
   "cell_type": "code",
   "execution_count": 85,
   "metadata": {},
   "outputs": [
    {
     "name": "stdout",
     "output_type": "stream",
     "text": [
      " 1) altitude                       0.115046\n",
      " 2) disto_river                    0.101500\n",
      " 3) disto_stations                 0.087607\n",
      " 4) disto_mainroad                 0.087467\n",
      " 5) disto_syorizyo                 0.084689\n",
      " 6) inclination                    0.078180\n",
      " 7) tilt_direction                 0.077671\n",
      " 8) curvature                      0.070875\n",
      " 9) no_water_days                  0.049586\n",
      "10) up_down                        0.035410\n",
      "11) popu-served                    0.023772\n",
      "12) population_served              0.022420\n",
      "13) pipelength                     0.019039\n",
      "14) pipelength_per_pipe            0.017383\n",
      "15) number_taps                    0.017268\n",
      "16) (popu-served)/pipes            0.016934\n",
      "17) oldest_pipe_age                0.016789\n",
      "18) served/pipes                   0.015586\n",
      "19) total_population               0.015464\n",
      "20) source_ecoli                   0.014469\n",
      "21) supply_hours                   0.013042\n",
      "22) PF                             0.007060\n",
      "23) ratio                          0.004514\n",
      "24) RSF                            0.002372\n",
      "25) FL                             0.002165\n",
      "26) ST                             0.001859\n",
      "27) RF                             0.001831\n"
     ]
    }
   ],
   "source": [
    "from sklearn.ensemble import RandomForestClassifier\n",
    "feat_labels=X.columns[0:]\n",
    "forest=RandomForestClassifier(n_estimators=500, random_state=1)\n",
    "forest.fit(X_train_std, y_train)\n",
    "importances=forest.feature_importances_\n",
    "indices=np.argsort(importances)[::-1]\n",
    "for f in range(X_train_std.shape[1]):\n",
    "    print(\"%2d) %-*s %f\" % (f+1, 30, feat_labels[indices[f]], importances[indices[f]]))"
   ]
  },
  {
   "cell_type": "code",
   "execution_count": 83,
   "metadata": {},
   "outputs": [
    {
     "data": {
      "text/plain": [
       "Index(['up_down', 'curvature', 'inclination', 'tilt_direction', 'altitude',\n",
       "       'disto_river', 'disto_stations', 'disto_mainroad', 'disto_syorizyo',\n",
       "       'supply_hours', 'no_water_days', 'total_population ',\n",
       "       'population_served', 'popu-served', 'number_taps', 'pipelength',\n",
       "       'pipelength_per_pipe', 'served/pipes', '(popu-served)/pipes',\n",
       "       'oldest_pipe_age', 'ST', 'RSF', 'FL', 'PF', 'RF', 'ratio',\n",
       "       'source_ecoli'],\n",
       "      dtype='object')"
      ]
     },
     "execution_count": 83,
     "metadata": {},
     "output_type": "execute_result"
    }
   ],
   "source": [
    "X_train_std.columns"
   ]
  },
  {
   "cell_type": "code",
   "execution_count": null,
   "metadata": {},
   "outputs": [],
   "source": []
  }
 ],
 "metadata": {
  "kernelspec": {
   "display_name": "Python 3",
   "language": "python",
   "name": "python3"
  },
  "language_info": {
   "codemirror_mode": {
    "name": "ipython",
    "version": 3
   },
   "file_extension": ".py",
   "mimetype": "text/x-python",
   "name": "python",
   "nbconvert_exporter": "python",
   "pygments_lexer": "ipython3",
   "version": "3.7.7"
  }
 },
 "nbformat": 4,
 "nbformat_minor": 4
}
