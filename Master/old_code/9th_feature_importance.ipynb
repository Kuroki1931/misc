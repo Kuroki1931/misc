{
 "cells": [
  {
   "cell_type": "code",
   "execution_count": 1,
   "metadata": {},
   "outputs": [],
   "source": [
    "import pandas as pd\n",
    "import numpy as np\n",
    "import pickle\n",
    "import xgboost as xgb\n",
    "import datetime\n",
    "from sklearn.utils import shuffle\n",
    "from sklearn.model_selection import train_test_split\n",
    "from sklearn.linear_model import LogisticRegression\n",
    "from sklearn.metrics import confusion_matrix, accuracy_score, precision_score, classification_report\n",
    "pd.set_option('display.max_columns', None)\n",
    "import lightgbm as lgb\n",
    "from sklearn.metrics import log_loss\n",
    "from sklearn.discriminant_analysis import LinearDiscriminantAnalysis\n",
    "from tqdm import tqdm\n",
    "import time\n",
    "import statsmodels.api as sm"
   ]
  },
  {
   "cell_type": "code",
   "execution_count": 2,
   "metadata": {},
   "outputs": [],
   "source": [
    "df=pd.read_csv('DATA.csv', encoding='cp932')\n",
    "df=df.dropna(axis=0)\n",
    "\n",
    "y=df['EColi.']\n",
    "X=df.loc[:, ['up_down', 'curvature', 'inclination', 'tilt_direction', 'altitude', 'disto_river', 'disto_stations', \n",
    "             'disto_mainroad', 'disto_syorizyo', 'supply_hours', 'no_water_days', 'total_population ', 'population_served',\n",
    "             'popu-served', 'number_taps', 'pipelength', 'pipelength_per_pipe', 'served/pipes', '(popu-served)/pipes', \n",
    "             'oldest_pipe_age', 'ST', 'RSF', 'FL', 'PF', 'RF', 'ratio', 'source_ecoli']]"
   ]
  },
  {
   "cell_type": "code",
   "execution_count": 3,
   "metadata": {},
   "outputs": [
    {
     "name": "stdout",
     "output_type": "stream",
     "text": [
      "Labels counts in y: [ 98 120]\n",
      "Lables counts in y_train: [68 84]\n",
      "Lables counts in y_test: [30 36]\n"
     ]
    }
   ],
   "source": [
    "# 分割\n",
    "from sklearn.model_selection import train_test_split\n",
    "X_train, X_test, y_train, y_test=train_test_split(X, y, test_size=0.3,\n",
    "                                                  random_state=1, stratify=y)\n",
    "print('Labels counts in y:', np.bincount(y))\n",
    "print('Lables counts in y_train:', np.bincount(y_train))\n",
    "print('Lables counts in y_test:', np.bincount(y_test))\n",
    "\n",
    "X=(X-X.mean(axis=0))/X.std(axis=0)\n",
    "X_train_std=(X_train-X_train.mean(axis=0))/X_train.std(axis=0)\n",
    "X_test_std=(X_test-X_train.mean(axis=0))/X_train.std(axis=0)\n",
    "\n",
    "def threshold(fare):\n",
    "    if fare<=0:\n",
    "        return 0\n",
    "    else:\n",
    "        return 1\n",
    "    \n",
    "X_train_std['ST']=X_train_std['ST'].apply(threshold)\n",
    "X_train_std['RSF']=X_train_std['RSF'].apply(threshold)\n",
    "X_train_std['FL']=X_train_std['FL'].apply(threshold)\n",
    "X_train_std['PF']=X_train_std['PF'].apply(threshold)\n",
    "X_train_std['RF']=X_train_std['RF'].apply(threshold)\n",
    "X_test_std['ST']=X_test_std['ST'].apply(threshold)\n",
    "X_test_std['RSF']=X_test_std['RSF'].apply(threshold)\n",
    "X_test_std['FL']=X_test_std['FL'].apply(threshold)\n",
    "X_test_std['PF']=X_test_std['PF'].apply(threshold)\n",
    "X_test_std['RF']=X_test_std['RF'].apply(threshold)\n",
    "\n",
    "\n",
    "# 分割する\n",
    "X_cross=(X-X.mean(axis=0))/X.std(axis=0)\n",
    "X_cross['ST']=X_cross['ST'].apply(threshold)\n",
    "X_cross['RSF']=X_cross['RSF'].apply(threshold)\n",
    "X_cross['FL']=X_cross['FL'].apply(threshold)\n",
    "X_cross['PF']=X_cross['PF'].apply(threshold)\n",
    "X_cross['RF']=X_cross['RF'].apply(threshold)"
   ]
  },
  {
   "cell_type": "markdown",
   "metadata": {},
   "source": [
    "# random forest"
   ]
  },
  {
   "cell_type": "code",
   "execution_count": 4,
   "metadata": {},
   "outputs": [
    {
     "name": "stdout",
     "output_type": "stream",
     "text": [
      "0.7368421052631579\n",
      "0.7121212121212122\n"
     ]
    },
    {
     "data": {
      "text/plain": [
       "Text(0, 0.5, 'true label')"
      ]
     },
     "execution_count": 4,
     "metadata": {},
     "output_type": "execute_result"
    },
    {
     "data": {
      "image/png": "[encoded data removed]",
      "text/plain": [
       "<Figure size 180x180 with 1 Axes>"
      ]
     },
     "metadata": {
      "needs_background": "light"
     },
     "output_type": "display_data"
    }
   ],
   "source": [
    "from sklearn.ensemble import RandomForestClassifier\n",
    "forest=RandomForestClassifier(max_depth=3, criterion='entropy', n_estimators=29, random_state=1)\n",
    "forest.fit(X_train_std, y_train)\n",
    "print(forest.score(X_train_std, y_train))\n",
    "print(forest.score(X_test_std, y_test))\n",
    "\n",
    "from sklearn.metrics import confusion_matrix\n",
    "y_pred=forest.predict(X_test_std)\n",
    "confmat=confusion_matrix(y_true=y_test, y_pred=y_pred)\n",
    "\n",
    "import matplotlib.pyplot as plt\n",
    "fig, ax=plt.subplots(figsize=(2.5, 2.5))\n",
    "ax.matshow(confmat, alpha=0.3)\n",
    "for i in range(confmat.shape[0]):\n",
    "    for j in range(confmat.shape[1]):\n",
    "        ax.text(x=j, y=i, s=confmat[i, j], va='center', ha='center')\n",
    "        \n",
    "plt.xlabel('predicted label')\n",
    "plt.ylabel('true label')"
   ]
  },
  {
   "cell_type": "markdown",
   "metadata": {},
   "source": [
    "# importance"
   ]
  },
  {
   "cell_type": "code",
   "execution_count": 8,
   "metadata": {},
   "outputs": [
    {
     "data": {
      "text/plain": [
       "array([10,  4,  8,  5,  6, 15,  7, 17, 11, 12,  2,  3, 18, 26, 16, 14,  0,\n",
       "        9, 13, 23, 25, 19,  1, 21, 20, 22, 24], dtype=int64)"
      ]
     },
     "execution_count": 8,
     "metadata": {},
     "output_type": "execute_result"
    }
   ],
   "source": [
    "indices"
   ]
  },
  {
   "cell_type": "code",
   "execution_count": 9,
   "metadata": {},
   "outputs": [
    {
     "name": "stdout",
     "output_type": "stream",
     "text": [
      " 1) no_water_days                  0.136608\n",
      " 2) altitude                       0.104122\n",
      " 3) disto_syorizyo                 0.090071\n",
      " 4) disto_river                    0.084559\n",
      " 5) disto_stations                 0.065721\n",
      " 6) pipelength                     0.048394\n",
      " 7) disto_mainroad                 0.045966\n",
      " 8) served/pipes                   0.043923\n",
      " 9) total_population               0.035541\n",
      "10) population_served              0.035177\n"
     ]
    },
    {
     "data": {
      "image/png": "[encoded data removed]",
      "text/plain": [
       "<Figure size 432x288 with 1 Axes>"
      ]
     },
     "metadata": {
      "needs_background": "light"
     },
     "output_type": "display_data"
    }
   ],
   "source": [
    "from sklearn.ensemble import RandomForestClassifier\n",
    "feat_labels=X.columns[0:]\n",
    "forest=RandomForestClassifier(max_depth=3, criterion='entropy', n_estimators=29, random_state=1)\n",
    "forest.fit(X_train_std, y_train)\n",
    "importances=forest.feature_importances_\n",
    "indices=np.argsort(importances)[::-1]\n",
    "for f in range(X_train_std.shape[1]):\n",
    "    print(\"%2d) %-*s %f\" % (f+1, 30, feat_labels[indices[f]], importances[indices[f]]))\n",
    "\n",
    "plt.title('Feature Importances')\n",
    "plt.bar(range(X_train.shape[1]), importances[indices], align='center')\n",
    "plt.xticks(range(X_train.shape[1]), feat_labels[indices], rotation=90)\n",
    "plt.xlim([-1, X_train.shape[1]])\n",
    "plt.tight_layout()"
   ]
  },
  {
   "cell_type": "code",
   "execution_count": 17,
   "metadata": {},
   "outputs": [
    {
     "name": "stdout",
     "output_type": "stream",
     "text": [
      " 1) no_water_days                  0.136608\n",
      " 2) altitude                       0.104122\n",
      " 3) disto_syorizyo                 0.090071\n",
      " 4) disto_river                    0.084559\n",
      " 5) disto_stations                 0.065721\n",
      " 6) pipelength                     0.048394\n",
      " 7) disto_mainroad                 0.045966\n",
      " 8) served/pipes                   0.043923\n",
      " 9) total_population               0.035541\n",
      "10) population_served              0.035177\n",
      "11) inclination                    0.033890\n",
      "12) tilt_direction                 0.030675\n",
      "13) (popu-served)/pipes            0.028565\n",
      "14) source_ecoli                   0.028260\n",
      "15) pipelength_per_pipe            0.027274\n",
      "16) number_taps                    0.027151\n",
      "17) up_down                        0.020342\n",
      "18) supply_hours                   0.020057\n",
      "19) popu-served                    0.019507\n",
      "20) PF                             0.017161\n",
      "21) ratio                          0.016618\n",
      "22) oldest_pipe_age                0.015437\n",
      "23) curvature                      0.013915\n",
      "24) RSF                            0.005888\n",
      "25) ST                             0.005178\n",
      "26) FL                             0.000000\n",
      "27) RF                             0.000000\n"
     ]
    },
    {
     "data": {
      "image/png": "[encoded data removed]",
      "text/plain": [
       "<Figure size 432x288 with 1 Axes>"
      ]
     },
     "metadata": {
      "needs_background": "light"
     },
     "output_type": "display_data"
    }
   ],
   "source": [
    "from sklearn.ensemble import RandomForestClassifier\n",
    "feat_labels=X.columns[0:]\n",
    "forest=RandomForestClassifier(max_depth=3, criterion='entropy', n_estimators=29, random_state=1)\n",
    "forest.fit(X_train_std, y_train)\n",
    "importances=forest.feature_importances_\n",
    "indices=np.argsort(importances)[::-1]\n",
    "for f in range(X_train_std.shape[1]):\n",
    "    print(\"%2d) %-*s %f\" % (f+1, 30, feat_labels[indices[f]], importances[indices[f]]))\n",
    "\n",
    "plt.title('Feature Importances')\n",
    "plt.bar(range(5), importances[indices[:5]], align='center')\n",
    "plt.xticks(range(5), feat_labels[indices[:5]], rotation=90)\n",
    "plt.xlim([-1, 5])\n",
    "plt.tick_params(labelsize=15)\n",
    "plt.tight_layout()"
   ]
  },
  {
   "cell_type": "code",
   "execution_count": 121,
   "metadata": {},
   "outputs": [],
   "source": [
    "coef = pd.DataFrame(importances.reshape((27, -1)), X_train_std.columns, columns=[\"回帰係数\"])\n",
    "interce = pd.DataFrame([lr.intercept_], index=[\"定数項\"], columns=[\"回帰係数\"])\n",
    "df_coef = pd.concat([coef, interce])"
   ]
  },
  {
   "cell_type": "code",
   "execution_count": 122,
   "metadata": {},
   "outputs": [],
   "source": [
    "df=coef.reset_index().rename(columns={'index':'feature'})\n",
    "df['sort']=df['回帰係数'].apply(lambda x: np.abs(x))\n",
    "a=df.sort_values(['sort'],ascending=False)"
   ]
  },
  {
   "cell_type": "code",
   "execution_count": 124,
   "metadata": {},
   "outputs": [],
   "source": [
    "a.to_csv('RF_feature.csv')"
   ]
  },
  {
   "cell_type": "markdown",
   "metadata": {},
   "source": [
    "# ロジスティック回帰"
   ]
  },
  {
   "cell_type": "code",
   "execution_count": 6,
   "metadata": {},
   "outputs": [
    {
     "name": "stdout",
     "output_type": "stream",
     "text": [
      "0.7105263157894737\n",
      "0.696969696969697\n"
     ]
    },
    {
     "name": "stderr",
     "output_type": "stream",
     "text": [
      "C:\\Users\\kurokiso\\anaconda3\\lib\\site-packages\\sklearn\\linear_model\\_logistic.py:764: ConvergenceWarning: lbfgs failed to converge (status=1):\n",
      "STOP: TOTAL NO. of ITERATIONS REACHED LIMIT.\n",
      "\n",
      "Increase the number of iterations (max_iter) or scale the data as shown in:\n",
      "    https://scikit-learn.org/stable/modules/preprocessing.html\n",
      "Please also refer to the documentation for alternative solver options:\n",
      "    https://scikit-learn.org/stable/modules/linear_model.html#logistic-regression\n",
      "  extra_warning_msg=_LOGISTIC_SOLVER_CONVERGENCE_MSG)\n"
     ]
    },
    {
     "data": {
      "text/plain": [
       "Text(0, 0.5, 'true label')"
      ]
     },
     "execution_count": 6,
     "metadata": {},
     "output_type": "execute_result"
    },
    {
     "data": {
      "image/png": "[encoded data removed]",
      "text/plain": [
       "<Figure size 180x180 with 1 Axes>"
      ]
     },
     "metadata": {
      "needs_background": "light"
     },
     "output_type": "display_data"
    }
   ],
   "source": [
    "lr=LogisticRegression(C=100, random_state=1)\n",
    "lr.fit(X_train_std, y_train)\n",
    "print(lr.score(X_train_std, y_train))\n",
    "print(lr.score(X_test_std, y_test))\n",
    "\n",
    "from sklearn.metrics import confusion_matrix\n",
    "y_pred=lr.predict(X_test_std)\n",
    "confmat=confusion_matrix(y_true=y_test, y_pred=y_pred)\n",
    "\n",
    "import matplotlib.pyplot as plt\n",
    "fig, ax=plt.subplots(figsize=(2.5, 2.5))\n",
    "ax.matshow(confmat, alpha=0.3)\n",
    "for i in range(confmat.shape[0]):\n",
    "    for j in range(confmat.shape[1]):\n",
    "        ax.text(x=j, y=i, s=confmat[i, j], va='center', ha='center')\n",
    "        \n",
    "plt.xlabel('predicted label')\n",
    "plt.ylabel('true label')"
   ]
  },
  {
   "cell_type": "code",
   "execution_count": 128,
   "metadata": {},
   "outputs": [
    {
     "data": {
      "text/plain": [
       "array([[ 0.29289772, -0.04599312,  0.69694242, -0.32097436, -0.87974058,\n",
       "         0.40241817,  2.29735938, -0.17448568, -0.83087964, -0.93946655,\n",
       "        -0.45396508, -2.88867139, -4.20903789,  2.96832295, -4.24138524,\n",
       "         0.33274289,  5.43396413, -1.01162239,  0.16010062,  6.02981287,\n",
       "         0.69124789,  2.46190973, -6.06818201, -7.36526088, -0.39957068,\n",
       "        -5.83576494,  2.25273352]])"
      ]
     },
     "execution_count": 128,
     "metadata": {},
     "output_type": "execute_result"
    }
   ],
   "source": [
    "lr.coef_"
   ]
  },
  {
   "cell_type": "code",
   "execution_count": 129,
   "metadata": {
    "scrolled": true
   },
   "outputs": [
    {
     "data": {
      "text/html": [
       "<div>\n",
       "<style scoped>\n",
       "    .dataframe tbody tr th:only-of-type {\n",
       "        vertical-align: middle;\n",
       "    }\n",
       "\n",
       "    .dataframe tbody tr th {\n",
       "        vertical-align: top;\n",
       "    }\n",
       "\n",
       "    .dataframe thead th {\n",
       "        text-align: right;\n",
       "    }\n",
       "</style>\n",
       "<table border=\"1\" class=\"dataframe\">\n",
       "  <thead>\n",
       "    <tr style=\"text-align: right;\">\n",
       "      <th></th>\n",
       "      <th>回帰係数</th>\n",
       "    </tr>\n",
       "  </thead>\n",
       "  <tbody>\n",
       "    <tr>\n",
       "      <th>up_down</th>\n",
       "      <td>0.292898</td>\n",
       "    </tr>\n",
       "    <tr>\n",
       "      <th>curvature</th>\n",
       "      <td>-0.045993</td>\n",
       "    </tr>\n",
       "    <tr>\n",
       "      <th>inclination</th>\n",
       "      <td>0.696942</td>\n",
       "    </tr>\n",
       "    <tr>\n",
       "      <th>tilt_direction</th>\n",
       "      <td>-0.320974</td>\n",
       "    </tr>\n",
       "    <tr>\n",
       "      <th>altitude</th>\n",
       "      <td>-0.879741</td>\n",
       "    </tr>\n",
       "    <tr>\n",
       "      <th>disto_river</th>\n",
       "      <td>0.402418</td>\n",
       "    </tr>\n",
       "    <tr>\n",
       "      <th>disto_stations</th>\n",
       "      <td>2.297359</td>\n",
       "    </tr>\n",
       "    <tr>\n",
       "      <th>disto_mainroad</th>\n",
       "      <td>-0.174486</td>\n",
       "    </tr>\n",
       "    <tr>\n",
       "      <th>disto_syorizyo</th>\n",
       "      <td>-0.830880</td>\n",
       "    </tr>\n",
       "    <tr>\n",
       "      <th>supply_hours</th>\n",
       "      <td>-0.939467</td>\n",
       "    </tr>\n",
       "    <tr>\n",
       "      <th>no_water_days</th>\n",
       "      <td>-0.453965</td>\n",
       "    </tr>\n",
       "    <tr>\n",
       "      <th>total_population</th>\n",
       "      <td>-2.888671</td>\n",
       "    </tr>\n",
       "    <tr>\n",
       "      <th>population_served</th>\n",
       "      <td>-4.209038</td>\n",
       "    </tr>\n",
       "    <tr>\n",
       "      <th>popu-served</th>\n",
       "      <td>2.968323</td>\n",
       "    </tr>\n",
       "    <tr>\n",
       "      <th>number_taps</th>\n",
       "      <td>-4.241385</td>\n",
       "    </tr>\n",
       "    <tr>\n",
       "      <th>pipelength</th>\n",
       "      <td>0.332743</td>\n",
       "    </tr>\n",
       "    <tr>\n",
       "      <th>pipelength_per_pipe</th>\n",
       "      <td>5.433964</td>\n",
       "    </tr>\n",
       "    <tr>\n",
       "      <th>served/pipes</th>\n",
       "      <td>-1.011622</td>\n",
       "    </tr>\n",
       "    <tr>\n",
       "      <th>(popu-served)/pipes</th>\n",
       "      <td>0.160101</td>\n",
       "    </tr>\n",
       "    <tr>\n",
       "      <th>oldest_pipe_age</th>\n",
       "      <td>6.029813</td>\n",
       "    </tr>\n",
       "    <tr>\n",
       "      <th>ST</th>\n",
       "      <td>0.691248</td>\n",
       "    </tr>\n",
       "    <tr>\n",
       "      <th>RSF</th>\n",
       "      <td>2.461910</td>\n",
       "    </tr>\n",
       "    <tr>\n",
       "      <th>FL</th>\n",
       "      <td>-6.068182</td>\n",
       "    </tr>\n",
       "    <tr>\n",
       "      <th>PF</th>\n",
       "      <td>-7.365261</td>\n",
       "    </tr>\n",
       "    <tr>\n",
       "      <th>RF</th>\n",
       "      <td>-0.399571</td>\n",
       "    </tr>\n",
       "    <tr>\n",
       "      <th>ratio</th>\n",
       "      <td>-5.835765</td>\n",
       "    </tr>\n",
       "    <tr>\n",
       "      <th>source_ecoli</th>\n",
       "      <td>2.252734</td>\n",
       "    </tr>\n",
       "    <tr>\n",
       "      <th>定数項</th>\n",
       "      <td>6.663728</td>\n",
       "    </tr>\n",
       "  </tbody>\n",
       "</table>\n",
       "</div>"
      ],
      "text/plain": [
       "                         回帰係数\n",
       "up_down              0.292898\n",
       "curvature           -0.045993\n",
       "inclination          0.696942\n",
       "tilt_direction      -0.320974\n",
       "altitude            -0.879741\n",
       "disto_river          0.402418\n",
       "disto_stations       2.297359\n",
       "disto_mainroad      -0.174486\n",
       "disto_syorizyo      -0.830880\n",
       "supply_hours        -0.939467\n",
       "no_water_days       -0.453965\n",
       "total_population    -2.888671\n",
       "population_served   -4.209038\n",
       "popu-served          2.968323\n",
       "number_taps         -4.241385\n",
       "pipelength           0.332743\n",
       "pipelength_per_pipe  5.433964\n",
       "served/pipes        -1.011622\n",
       "(popu-served)/pipes  0.160101\n",
       "oldest_pipe_age      6.029813\n",
       "ST                   0.691248\n",
       "RSF                  2.461910\n",
       "FL                  -6.068182\n",
       "PF                  -7.365261\n",
       "RF                  -0.399571\n",
       "ratio               -5.835765\n",
       "source_ecoli         2.252734\n",
       "定数項                  6.663728"
      ]
     },
     "execution_count": 129,
     "metadata": {},
     "output_type": "execute_result"
    }
   ],
   "source": [
    "coef = pd.DataFrame(lr.coef_.reshape((27, -1)), X_train_std.columns, columns=[\"回帰係数\"])\n",
    "interce = pd.DataFrame([lr.intercept_], index=[\"定数項\"], columns=[\"回帰係数\"])\n",
    "df_coef = pd.concat([coef, interce])\n",
    "df_coef"
   ]
  },
  {
   "cell_type": "code",
   "execution_count": 130,
   "metadata": {},
   "outputs": [],
   "source": [
    "df=coef.reset_index().rename(columns={'index':'feature'})\n",
    "df['sort']=df['回帰係数'].apply(lambda x: np.abs(x))\n",
    "a=df.sort_values(['sort'],ascending=False)"
   ]
  },
  {
   "cell_type": "code",
   "execution_count": 135,
   "metadata": {
    "scrolled": false
   },
   "outputs": [
    {
     "data": {
      "image/png": "[encoded data removed]",
      "text/plain": [
       "<Figure size 432x288 with 1 Axes>"
      ]
     },
     "metadata": {
      "needs_background": "light"
     },
     "output_type": "display_data"
    }
   ],
   "source": [
    "plt.bar(range(X_train.shape[1]), a['回帰係数'][indices], align='center')\n",
    "plt.xticks(range(X_train.shape[1]), a['feature'][indices], rotation=90)\n",
    "plt.xlim([-1, X_train.shape[1]])\n",
    "plt.tight_layout()"
   ]
  },
  {
   "cell_type": "code",
   "execution_count": 7,
   "metadata": {},
   "outputs": [],
   "source": [
    "import pandas as pd\n",
    "import numpy as np\n",
    "import math\n",
    "import matplotlib.pyplot as plt\n",
    "import statsmodels.api as sm\n",
    "from sklearn.feature_selection import RFE\n",
    "from sklearn import model_selection\n",
    "from sklearn.linear_model import LogisticRegression\n",
    "from sklearn.model_selection import train_test_split\n",
    "from sklearn.model_selection import cross_val_score\n",
    "from sklearn import metrics\n",
    "from sklearn.metrics import confusion_matrix\n",
    "from sklearn.metrics import roc_auc_score\n",
    "from sklearn.metrics import roc_curve\n",
    "from sklearn.metrics import classification_report\n",
    "from matplotlib.font_manager import FontProperties\n",
    "from sklearn import datasets"
   ]
  },
  {
   "cell_type": "code",
   "execution_count": 10,
   "metadata": {},
   "outputs": [
    {
     "name": "stdout",
     "output_type": "stream",
     "text": [
      "Warning: Maximum number of iterations has been exceeded.\n",
      "         Current function value: inf\n",
      "         Iterations: 35\n"
     ]
    },
    {
     "ename": "LinAlgError",
     "evalue": "Singular matrix",
     "output_type": "error",
     "traceback": [
      "\u001b[1;31m---------------------------------------------------------------------------\u001b[0m",
      "\u001b[1;31mLinAlgError\u001b[0m                               Traceback (most recent call last)",
      "\u001b[1;32m<ipython-input-10-127d86a9efc2>\u001b[0m in \u001b[0;36m<module>\u001b[1;34m\u001b[0m\n\u001b[0;32m      1\u001b[0m \u001b[0mlogit_model\u001b[0m \u001b[1;33m=\u001b[0m \u001b[0msm\u001b[0m\u001b[1;33m.\u001b[0m\u001b[0mLogit\u001b[0m\u001b[1;33m(\u001b[0m\u001b[0my_train\u001b[0m\u001b[1;33m,\u001b[0m \u001b[0mX_train_std\u001b[0m\u001b[1;33m)\u001b[0m\u001b[1;33m\u001b[0m\u001b[1;33m\u001b[0m\u001b[0m\n\u001b[1;32m----> 2\u001b[1;33m \u001b[0mresult\u001b[0m \u001b[1;33m=\u001b[0m \u001b[0mlogit_model\u001b[0m\u001b[1;33m.\u001b[0m\u001b[0mfit\u001b[0m\u001b[1;33m(\u001b[0m\u001b[1;33m)\u001b[0m\u001b[1;33m\u001b[0m\u001b[1;33m\u001b[0m\u001b[0m\n\u001b[0m\u001b[0;32m      3\u001b[0m \u001b[0mprint\u001b[0m\u001b[1;33m(\u001b[0m\u001b[0mresult\u001b[0m\u001b[1;33m.\u001b[0m\u001b[0msummary\u001b[0m\u001b[1;33m(\u001b[0m\u001b[1;33m)\u001b[0m\u001b[1;33m)\u001b[0m\u001b[1;33m\u001b[0m\u001b[1;33m\u001b[0m\u001b[0m\n",
      "\u001b[1;32m~\\anaconda3\\lib\\site-packages\\statsmodels\\discrete\\discrete_model.py\u001b[0m in \u001b[0;36mfit\u001b[1;34m(self, start_params, method, maxiter, full_output, disp, callback, **kwargs)\u001b[0m\n\u001b[0;32m   1911\u001b[0m         bnryfit = super(Logit, self).fit(start_params=start_params,\n\u001b[0;32m   1912\u001b[0m                 \u001b[0mmethod\u001b[0m\u001b[1;33m=\u001b[0m\u001b[0mmethod\u001b[0m\u001b[1;33m,\u001b[0m \u001b[0mmaxiter\u001b[0m\u001b[1;33m=\u001b[0m\u001b[0mmaxiter\u001b[0m\u001b[1;33m,\u001b[0m \u001b[0mfull_output\u001b[0m\u001b[1;33m=\u001b[0m\u001b[0mfull_output\u001b[0m\u001b[1;33m,\u001b[0m\u001b[1;33m\u001b[0m\u001b[1;33m\u001b[0m\u001b[0m\n\u001b[1;32m-> 1913\u001b[1;33m                 disp=disp, callback=callback, **kwargs)\n\u001b[0m\u001b[0;32m   1914\u001b[0m \u001b[1;33m\u001b[0m\u001b[0m\n\u001b[0;32m   1915\u001b[0m         \u001b[0mdiscretefit\u001b[0m \u001b[1;33m=\u001b[0m \u001b[0mLogitResults\u001b[0m\u001b[1;33m(\u001b[0m\u001b[0mself\u001b[0m\u001b[1;33m,\u001b[0m \u001b[0mbnryfit\u001b[0m\u001b[1;33m)\u001b[0m\u001b[1;33m\u001b[0m\u001b[1;33m\u001b[0m\u001b[0m\n",
      "\u001b[1;32m~\\anaconda3\\lib\\site-packages\\statsmodels\\discrete\\discrete_model.py\u001b[0m in \u001b[0;36mfit\u001b[1;34m(self, start_params, method, maxiter, full_output, disp, callback, **kwargs)\u001b[0m\n\u001b[0;32m    214\u001b[0m             \u001b[0mstart_params\u001b[0m\u001b[1;33m=\u001b[0m\u001b[0mstart_params\u001b[0m\u001b[1;33m,\u001b[0m\u001b[1;33m\u001b[0m\u001b[1;33m\u001b[0m\u001b[0m\n\u001b[0;32m    215\u001b[0m             \u001b[0mmethod\u001b[0m\u001b[1;33m=\u001b[0m\u001b[0mmethod\u001b[0m\u001b[1;33m,\u001b[0m \u001b[0mmaxiter\u001b[0m\u001b[1;33m=\u001b[0m\u001b[0mmaxiter\u001b[0m\u001b[1;33m,\u001b[0m \u001b[0mfull_output\u001b[0m\u001b[1;33m=\u001b[0m\u001b[0mfull_output\u001b[0m\u001b[1;33m,\u001b[0m\u001b[1;33m\u001b[0m\u001b[1;33m\u001b[0m\u001b[0m\n\u001b[1;32m--> 216\u001b[1;33m             disp=disp, callback=callback, **kwargs)\n\u001b[0m\u001b[0;32m    217\u001b[0m \u001b[1;33m\u001b[0m\u001b[0m\n\u001b[0;32m    218\u001b[0m         \u001b[1;32mreturn\u001b[0m \u001b[0mmlefit\u001b[0m  \u001b[1;31m# It is up to subclasses to wrap results\u001b[0m\u001b[1;33m\u001b[0m\u001b[1;33m\u001b[0m\u001b[0m\n",
      "\u001b[1;32m~\\anaconda3\\lib\\site-packages\\statsmodels\\base\\model.py\u001b[0m in \u001b[0;36mfit\u001b[1;34m(self, start_params, method, maxiter, full_output, disp, fargs, callback, retall, skip_hessian, **kwargs)\u001b[0m\n\u001b[0;32m    531\u001b[0m             \u001b[0mHinv\u001b[0m \u001b[1;33m=\u001b[0m \u001b[0mcov_params_func\u001b[0m\u001b[1;33m(\u001b[0m\u001b[0mself\u001b[0m\u001b[1;33m,\u001b[0m \u001b[0mxopt\u001b[0m\u001b[1;33m,\u001b[0m \u001b[0mretvals\u001b[0m\u001b[1;33m)\u001b[0m\u001b[1;33m\u001b[0m\u001b[1;33m\u001b[0m\u001b[0m\n\u001b[0;32m    532\u001b[0m         \u001b[1;32melif\u001b[0m \u001b[0mmethod\u001b[0m \u001b[1;33m==\u001b[0m \u001b[1;34m'newton'\u001b[0m \u001b[1;32mand\u001b[0m \u001b[0mfull_output\u001b[0m\u001b[1;33m:\u001b[0m\u001b[1;33m\u001b[0m\u001b[1;33m\u001b[0m\u001b[0m\n\u001b[1;32m--> 533\u001b[1;33m             \u001b[0mHinv\u001b[0m \u001b[1;33m=\u001b[0m \u001b[0mnp\u001b[0m\u001b[1;33m.\u001b[0m\u001b[0mlinalg\u001b[0m\u001b[1;33m.\u001b[0m\u001b[0minv\u001b[0m\u001b[1;33m(\u001b[0m\u001b[1;33m-\u001b[0m\u001b[0mretvals\u001b[0m\u001b[1;33m[\u001b[0m\u001b[1;34m'Hessian'\u001b[0m\u001b[1;33m]\u001b[0m\u001b[1;33m)\u001b[0m \u001b[1;33m/\u001b[0m \u001b[0mnobs\u001b[0m\u001b[1;33m\u001b[0m\u001b[1;33m\u001b[0m\u001b[0m\n\u001b[0m\u001b[0;32m    534\u001b[0m         \u001b[1;32melif\u001b[0m \u001b[1;32mnot\u001b[0m \u001b[0mskip_hessian\u001b[0m\u001b[1;33m:\u001b[0m\u001b[1;33m\u001b[0m\u001b[1;33m\u001b[0m\u001b[0m\n\u001b[0;32m    535\u001b[0m             \u001b[0mH\u001b[0m \u001b[1;33m=\u001b[0m \u001b[1;33m-\u001b[0m\u001b[1;36m1\u001b[0m \u001b[1;33m*\u001b[0m \u001b[0mself\u001b[0m\u001b[1;33m.\u001b[0m\u001b[0mhessian\u001b[0m\u001b[1;33m(\u001b[0m\u001b[0mxopt\u001b[0m\u001b[1;33m)\u001b[0m\u001b[1;33m\u001b[0m\u001b[1;33m\u001b[0m\u001b[0m\n",
      "\u001b[1;32m<__array_function__ internals>\u001b[0m in \u001b[0;36minv\u001b[1;34m(*args, **kwargs)\u001b[0m\n",
      "\u001b[1;32m~\\anaconda3\\lib\\site-packages\\numpy\\linalg\\linalg.py\u001b[0m in \u001b[0;36minv\u001b[1;34m(a)\u001b[0m\n\u001b[0;32m    545\u001b[0m     \u001b[0msignature\u001b[0m \u001b[1;33m=\u001b[0m \u001b[1;34m'D->D'\u001b[0m \u001b[1;32mif\u001b[0m \u001b[0misComplexType\u001b[0m\u001b[1;33m(\u001b[0m\u001b[0mt\u001b[0m\u001b[1;33m)\u001b[0m \u001b[1;32melse\u001b[0m \u001b[1;34m'd->d'\u001b[0m\u001b[1;33m\u001b[0m\u001b[1;33m\u001b[0m\u001b[0m\n\u001b[0;32m    546\u001b[0m     \u001b[0mextobj\u001b[0m \u001b[1;33m=\u001b[0m \u001b[0mget_linalg_error_extobj\u001b[0m\u001b[1;33m(\u001b[0m\u001b[0m_raise_linalgerror_singular\u001b[0m\u001b[1;33m)\u001b[0m\u001b[1;33m\u001b[0m\u001b[1;33m\u001b[0m\u001b[0m\n\u001b[1;32m--> 547\u001b[1;33m     \u001b[0mainv\u001b[0m \u001b[1;33m=\u001b[0m \u001b[0m_umath_linalg\u001b[0m\u001b[1;33m.\u001b[0m\u001b[0minv\u001b[0m\u001b[1;33m(\u001b[0m\u001b[0ma\u001b[0m\u001b[1;33m,\u001b[0m \u001b[0msignature\u001b[0m\u001b[1;33m=\u001b[0m\u001b[0msignature\u001b[0m\u001b[1;33m,\u001b[0m \u001b[0mextobj\u001b[0m\u001b[1;33m=\u001b[0m\u001b[0mextobj\u001b[0m\u001b[1;33m)\u001b[0m\u001b[1;33m\u001b[0m\u001b[1;33m\u001b[0m\u001b[0m\n\u001b[0m\u001b[0;32m    548\u001b[0m     \u001b[1;32mreturn\u001b[0m \u001b[0mwrap\u001b[0m\u001b[1;33m(\u001b[0m\u001b[0mainv\u001b[0m\u001b[1;33m.\u001b[0m\u001b[0mastype\u001b[0m\u001b[1;33m(\u001b[0m\u001b[0mresult_t\u001b[0m\u001b[1;33m,\u001b[0m \u001b[0mcopy\u001b[0m\u001b[1;33m=\u001b[0m\u001b[1;32mFalse\u001b[0m\u001b[1;33m)\u001b[0m\u001b[1;33m)\u001b[0m\u001b[1;33m\u001b[0m\u001b[1;33m\u001b[0m\u001b[0m\n\u001b[0;32m    549\u001b[0m \u001b[1;33m\u001b[0m\u001b[0m\n",
      "\u001b[1;32m~\\anaconda3\\lib\\site-packages\\numpy\\linalg\\linalg.py\u001b[0m in \u001b[0;36m_raise_linalgerror_singular\u001b[1;34m(err, flag)\u001b[0m\n\u001b[0;32m     95\u001b[0m \u001b[1;33m\u001b[0m\u001b[0m\n\u001b[0;32m     96\u001b[0m \u001b[1;32mdef\u001b[0m \u001b[0m_raise_linalgerror_singular\u001b[0m\u001b[1;33m(\u001b[0m\u001b[0merr\u001b[0m\u001b[1;33m,\u001b[0m \u001b[0mflag\u001b[0m\u001b[1;33m)\u001b[0m\u001b[1;33m:\u001b[0m\u001b[1;33m\u001b[0m\u001b[1;33m\u001b[0m\u001b[0m\n\u001b[1;32m---> 97\u001b[1;33m     \u001b[1;32mraise\u001b[0m \u001b[0mLinAlgError\u001b[0m\u001b[1;33m(\u001b[0m\u001b[1;34m\"Singular matrix\"\u001b[0m\u001b[1;33m)\u001b[0m\u001b[1;33m\u001b[0m\u001b[1;33m\u001b[0m\u001b[0m\n\u001b[0m\u001b[0;32m     98\u001b[0m \u001b[1;33m\u001b[0m\u001b[0m\n\u001b[0;32m     99\u001b[0m \u001b[1;32mdef\u001b[0m \u001b[0m_raise_linalgerror_nonposdef\u001b[0m\u001b[1;33m(\u001b[0m\u001b[0merr\u001b[0m\u001b[1;33m,\u001b[0m \u001b[0mflag\u001b[0m\u001b[1;33m)\u001b[0m\u001b[1;33m:\u001b[0m\u001b[1;33m\u001b[0m\u001b[1;33m\u001b[0m\u001b[0m\n",
      "\u001b[1;31mLinAlgError\u001b[0m: Singular matrix"
     ]
    }
   ],
   "source": [
    "logit_model = sm.Logit(y_train, X_train_std)\n",
    "result = logit_model.fit()\n",
    "print(result.summary())"
   ]
  },
  {
   "cell_type": "code",
   "execution_count": null,
   "metadata": {},
   "outputs": [],
   "source": []
  }
 ],
 "metadata": {
  "kernelspec": {
   "display_name": "Python 3",
   "language": "python",
   "name": "python3"
  },
  "language_info": {
   "codemirror_mode": {
    "name": "ipython",
    "version": 3
   },
   "file_extension": ".py",
   "mimetype": "text/x-python",
   "name": "python",
   "nbconvert_exporter": "python",
   "pygments_lexer": "ipython3",
   "version": "3.7.7"
  }
 },
 "nbformat": 4,
 "nbformat_minor": 4
}
