{
 "cells": [
  {
   "cell_type": "code",
   "execution_count": 1,
   "metadata": {},
   "outputs": [],
   "source": [
    "import pandas as pd"
   ]
  },
  {
   "cell_type": "code",
   "execution_count": 2,
   "metadata": {},
   "outputs": [],
   "source": [
    "import numpy as np"
   ]
  },
  {
   "cell_type": "code",
   "execution_count": 3,
   "metadata": {},
   "outputs": [],
   "source": [
    "df=pd.read_excel('◎位置情報と対応(水道水) 基準満たしているか否か.xlsx')"
   ]
  },
  {
   "cell_type": "code",
   "execution_count": 4,
   "metadata": {},
   "outputs": [
    {
     "data": {
      "text/html": [
       "<div>\n",
       "<style scoped>\n",
       "    .dataframe tbody tr th:only-of-type {\n",
       "        vertical-align: middle;\n",
       "    }\n",
       "\n",
       "    .dataframe tbody tr th {\n",
       "        vertical-align: top;\n",
       "    }\n",
       "\n",
       "    .dataframe thead th {\n",
       "        text-align: right;\n",
       "    }\n",
       "</style>\n",
       "<table border=\"1\" class=\"dataframe\">\n",
       "  <thead>\n",
       "    <tr style=\"text-align: right;\">\n",
       "      <th></th>\n",
       "      <th>NAME</th>\n",
       "      <th>ST</th>\n",
       "      <th>Unnamed: 0</th>\n",
       "      <th>Rowid</th>\n",
       "      <th>XY水道水位置情報</th>\n",
       "      <th>X</th>\n",
       "      <th>Y</th>\n",
       "      <th>陰影起伏</th>\n",
       "      <th>曲率</th>\n",
       "      <th>傾斜角</th>\n",
       "      <th>...</th>\n",
       "      <th>FL</th>\n",
       "      <th>PF</th>\n",
       "      <th>RF</th>\n",
       "      <th>Turbidity.</th>\n",
       "      <th>pH.</th>\n",
       "      <th>Ammonia.</th>\n",
       "      <th>Nitrite.</th>\n",
       "      <th>Nitrate.</th>\n",
       "      <th>Iron.</th>\n",
       "      <th>EColi.</th>\n",
       "    </tr>\n",
       "  </thead>\n",
       "  <tbody>\n",
       "    <tr>\n",
       "      <th>0</th>\n",
       "      <td>Mahendranagar</td>\n",
       "      <td>0</td>\n",
       "      <td>0</td>\n",
       "      <td>4</td>\n",
       "      <td>192</td>\n",
       "      <td>80.173190</td>\n",
       "      <td>28.967150</td>\n",
       "      <td>61</td>\n",
       "      <td>864000000</td>\n",
       "      <td>89.976921</td>\n",
       "      <td>...</td>\n",
       "      <td>0</td>\n",
       "      <td>0</td>\n",
       "      <td>0</td>\n",
       "      <td>0</td>\n",
       "      <td>0</td>\n",
       "      <td>0</td>\n",
       "      <td>0</td>\n",
       "      <td>0</td>\n",
       "      <td>0</td>\n",
       "      <td>0</td>\n",
       "    </tr>\n",
       "    <tr>\n",
       "      <th>1</th>\n",
       "      <td>Mahendranagar</td>\n",
       "      <td>1</td>\n",
       "      <td>1</td>\n",
       "      <td>2</td>\n",
       "      <td>191</td>\n",
       "      <td>80.175688</td>\n",
       "      <td>28.974328</td>\n",
       "      <td>25</td>\n",
       "      <td>432000000</td>\n",
       "      <td>89.980904</td>\n",
       "      <td>...</td>\n",
       "      <td>0</td>\n",
       "      <td>0</td>\n",
       "      <td>0</td>\n",
       "      <td>0</td>\n",
       "      <td>0</td>\n",
       "      <td>0</td>\n",
       "      <td>0</td>\n",
       "      <td>0</td>\n",
       "      <td>0</td>\n",
       "      <td>1</td>\n",
       "    </tr>\n",
       "    <tr>\n",
       "      <th>2</th>\n",
       "      <td>Mahendranagar</td>\n",
       "      <td>2</td>\n",
       "      <td>2</td>\n",
       "      <td>3</td>\n",
       "      <td>188</td>\n",
       "      <td>80.179382</td>\n",
       "      <td>28.958797</td>\n",
       "      <td>0</td>\n",
       "      <td>-288000000</td>\n",
       "      <td>89.947029</td>\n",
       "      <td>...</td>\n",
       "      <td>0</td>\n",
       "      <td>0</td>\n",
       "      <td>0</td>\n",
       "      <td>0</td>\n",
       "      <td>0</td>\n",
       "      <td>0</td>\n",
       "      <td>0</td>\n",
       "      <td>0</td>\n",
       "      <td>0</td>\n",
       "      <td>0</td>\n",
       "    </tr>\n",
       "    <tr>\n",
       "      <th>3</th>\n",
       "      <td>Mahendranagar</td>\n",
       "      <td>3</td>\n",
       "      <td>3</td>\n",
       "      <td>1</td>\n",
       "      <td>190</td>\n",
       "      <td>80.186682</td>\n",
       "      <td>28.971595</td>\n",
       "      <td>0</td>\n",
       "      <td>-432000000</td>\n",
       "      <td>89.945984</td>\n",
       "      <td>...</td>\n",
       "      <td>0</td>\n",
       "      <td>0</td>\n",
       "      <td>0</td>\n",
       "      <td>0</td>\n",
       "      <td>0</td>\n",
       "      <td>0</td>\n",
       "      <td>0</td>\n",
       "      <td>0</td>\n",
       "      <td>0</td>\n",
       "      <td>0</td>\n",
       "    </tr>\n",
       "    <tr>\n",
       "      <th>4</th>\n",
       "      <td>Dhangadhi</td>\n",
       "      <td>4</td>\n",
       "      <td>4</td>\n",
       "      <td>7</td>\n",
       "      <td>197</td>\n",
       "      <td>80.565455</td>\n",
       "      <td>28.705933</td>\n",
       "      <td>177</td>\n",
       "      <td>-432000000</td>\n",
       "      <td>89.955597</td>\n",
       "      <td>...</td>\n",
       "      <td>0</td>\n",
       "      <td>0</td>\n",
       "      <td>0</td>\n",
       "      <td>0</td>\n",
       "      <td>0</td>\n",
       "      <td>0</td>\n",
       "      <td>0</td>\n",
       "      <td>0</td>\n",
       "      <td>0</td>\n",
       "      <td>0</td>\n",
       "    </tr>\n",
       "    <tr>\n",
       "      <th>...</th>\n",
       "      <td>...</td>\n",
       "      <td>...</td>\n",
       "      <td>...</td>\n",
       "      <td>...</td>\n",
       "      <td>...</td>\n",
       "      <td>...</td>\n",
       "      <td>...</td>\n",
       "      <td>...</td>\n",
       "      <td>...</td>\n",
       "      <td>...</td>\n",
       "      <td>...</td>\n",
       "      <td>...</td>\n",
       "      <td>...</td>\n",
       "      <td>...</td>\n",
       "      <td>...</td>\n",
       "      <td>...</td>\n",
       "      <td>...</td>\n",
       "      <td>...</td>\n",
       "      <td>...</td>\n",
       "      <td>...</td>\n",
       "      <td>...</td>\n",
       "    </tr>\n",
       "    <tr>\n",
       "      <th>215</th>\n",
       "      <td>Bhadrapur</td>\n",
       "      <td>215</td>\n",
       "      <td>215</td>\n",
       "      <td>213</td>\n",
       "      <td>148</td>\n",
       "      <td>88.074577</td>\n",
       "      <td>26.545469</td>\n",
       "      <td>0</td>\n",
       "      <td>864000000</td>\n",
       "      <td>89.962547</td>\n",
       "      <td>...</td>\n",
       "      <td>0</td>\n",
       "      <td>0</td>\n",
       "      <td>0</td>\n",
       "      <td>0</td>\n",
       "      <td>0</td>\n",
       "      <td>0</td>\n",
       "      <td>0</td>\n",
       "      <td>0</td>\n",
       "      <td>0</td>\n",
       "      <td>1</td>\n",
       "    </tr>\n",
       "    <tr>\n",
       "      <th>216</th>\n",
       "      <td>Bhadrapur</td>\n",
       "      <td>216</td>\n",
       "      <td>216</td>\n",
       "      <td>208</td>\n",
       "      <td>152</td>\n",
       "      <td>88.079301</td>\n",
       "      <td>26.561851</td>\n",
       "      <td>171</td>\n",
       "      <td>-720000000</td>\n",
       "      <td>89.914589</td>\n",
       "      <td>...</td>\n",
       "      <td>0</td>\n",
       "      <td>0</td>\n",
       "      <td>0</td>\n",
       "      <td>0</td>\n",
       "      <td>0</td>\n",
       "      <td>0</td>\n",
       "      <td>0</td>\n",
       "      <td>0</td>\n",
       "      <td>0</td>\n",
       "      <td>1</td>\n",
       "    </tr>\n",
       "    <tr>\n",
       "      <th>217</th>\n",
       "      <td>Bhadrapur</td>\n",
       "      <td>217</td>\n",
       "      <td>217</td>\n",
       "      <td>207</td>\n",
       "      <td>151</td>\n",
       "      <td>88.079965</td>\n",
       "      <td>26.558706</td>\n",
       "      <td>35</td>\n",
       "      <td>576000000</td>\n",
       "      <td>89.947029</td>\n",
       "      <td>...</td>\n",
       "      <td>0</td>\n",
       "      <td>0</td>\n",
       "      <td>0</td>\n",
       "      <td>0</td>\n",
       "      <td>0</td>\n",
       "      <td>0</td>\n",
       "      <td>0</td>\n",
       "      <td>0</td>\n",
       "      <td>0</td>\n",
       "      <td>1</td>\n",
       "    </tr>\n",
       "    <tr>\n",
       "      <th>218</th>\n",
       "      <td>Bhadrapur</td>\n",
       "      <td>218</td>\n",
       "      <td>218</td>\n",
       "      <td>215</td>\n",
       "      <td>149</td>\n",
       "      <td>88.087847</td>\n",
       "      <td>26.539138</td>\n",
       "      <td>0</td>\n",
       "      <td>-144000000</td>\n",
       "      <td>89.729904</td>\n",
       "      <td>...</td>\n",
       "      <td>0</td>\n",
       "      <td>0</td>\n",
       "      <td>0</td>\n",
       "      <td>0</td>\n",
       "      <td>0</td>\n",
       "      <td>0</td>\n",
       "      <td>0</td>\n",
       "      <td>0</td>\n",
       "      <td>0</td>\n",
       "      <td>1</td>\n",
       "    </tr>\n",
       "    <tr>\n",
       "      <th>219</th>\n",
       "      <td>Bhadrapur</td>\n",
       "      <td>219</td>\n",
       "      <td>219</td>\n",
       "      <td>206</td>\n",
       "      <td>150</td>\n",
       "      <td>88.091459</td>\n",
       "      <td>26.556422</td>\n",
       "      <td>176</td>\n",
       "      <td>-720000000</td>\n",
       "      <td>89.947029</td>\n",
       "      <td>...</td>\n",
       "      <td>0</td>\n",
       "      <td>0</td>\n",
       "      <td>0</td>\n",
       "      <td>0</td>\n",
       "      <td>0</td>\n",
       "      <td>0</td>\n",
       "      <td>0</td>\n",
       "      <td>0</td>\n",
       "      <td>0</td>\n",
       "      <td>1</td>\n",
       "    </tr>\n",
       "  </tbody>\n",
       "</table>\n",
       "<p>220 rows × 36 columns</p>\n",
       "</div>"
      ],
      "text/plain": [
       "              NAME   ST  Unnamed: 0  Rowid  XY水道水位置情報          X          Y  \\\n",
       "0    Mahendranagar    0           0      4        192  80.173190  28.967150   \n",
       "1    Mahendranagar    1           1      2        191  80.175688  28.974328   \n",
       "2    Mahendranagar    2           2      3        188  80.179382  28.958797   \n",
       "3    Mahendranagar    3           3      1        190  80.186682  28.971595   \n",
       "4        Dhangadhi    4           4      7        197  80.565455  28.705933   \n",
       "..             ...  ...         ...    ...        ...        ...        ...   \n",
       "215      Bhadrapur  215         215    213        148  88.074577  26.545469   \n",
       "216      Bhadrapur  216         216    208        152  88.079301  26.561851   \n",
       "217      Bhadrapur  217         217    207        151  88.079965  26.558706   \n",
       "218      Bhadrapur  218         218    215        149  88.087847  26.539138   \n",
       "219      Bhadrapur  219         219    206        150  88.091459  26.556422   \n",
       "\n",
       "     陰影起伏         曲率        傾斜角  ...  FL  PF  RF  Turbidity.  pH.  Ammonia.  \\\n",
       "0      61  864000000  89.976921  ...   0   0   0           0    0         0   \n",
       "1      25  432000000  89.980904  ...   0   0   0           0    0         0   \n",
       "2       0 -288000000  89.947029  ...   0   0   0           0    0         0   \n",
       "3       0 -432000000  89.945984  ...   0   0   0           0    0         0   \n",
       "4     177 -432000000  89.955597  ...   0   0   0           0    0         0   \n",
       "..    ...        ...        ...  ...  ..  ..  ..         ...  ...       ...   \n",
       "215     0  864000000  89.962547  ...   0   0   0           0    0         0   \n",
       "216   171 -720000000  89.914589  ...   0   0   0           0    0         0   \n",
       "217    35  576000000  89.947029  ...   0   0   0           0    0         0   \n",
       "218     0 -144000000  89.729904  ...   0   0   0           0    0         0   \n",
       "219   176 -720000000  89.947029  ...   0   0   0           0    0         0   \n",
       "\n",
       "     Nitrite.  Nitrate.  Iron.  EColi.  \n",
       "0           0         0      0       0  \n",
       "1           0         0      0       1  \n",
       "2           0         0      0       0  \n",
       "3           0         0      0       0  \n",
       "4           0         0      0       0  \n",
       "..        ...       ...    ...     ...  \n",
       "215         0         0      0       1  \n",
       "216         0         0      0       1  \n",
       "217         0         0      0       1  \n",
       "218         0         0      0       1  \n",
       "219         0         0      0       1  \n",
       "\n",
       "[220 rows x 36 columns]"
      ]
     },
     "execution_count": 4,
     "metadata": {},
     "output_type": "execute_result"
    }
   ],
   "source": [
    "df"
   ]
  },
  {
   "cell_type": "code",
   "execution_count": 5,
   "metadata": {},
   "outputs": [
    {
     "data": {
      "text/plain": [
       "(220, 36)"
      ]
     },
     "execution_count": 5,
     "metadata": {},
     "output_type": "execute_result"
    }
   ],
   "source": [
    "df.shape"
   ]
  },
  {
   "cell_type": "code",
   "execution_count": 6,
   "metadata": {},
   "outputs": [],
   "source": [
    "df=df.dropna(axis=0)"
   ]
  },
  {
   "cell_type": "code",
   "execution_count": 7,
   "metadata": {},
   "outputs": [
    {
     "data": {
      "text/plain": [
       "(218, 36)"
      ]
     },
     "execution_count": 7,
     "metadata": {},
     "output_type": "execute_result"
    }
   ],
   "source": [
    "df.shape"
   ]
  },
  {
   "cell_type": "code",
   "execution_count": 8,
   "metadata": {},
   "outputs": [],
   "source": [
    "y=df['EColi.']"
   ]
  },
  {
   "cell_type": "code",
   "execution_count": 9,
   "metadata": {},
   "outputs": [
    {
     "data": {
      "text/plain": [
       "(218,)"
      ]
     },
     "execution_count": 9,
     "metadata": {},
     "output_type": "execute_result"
    }
   ],
   "source": [
    "y.shape"
   ]
  },
  {
   "cell_type": "code",
   "execution_count": 10,
   "metadata": {},
   "outputs": [],
   "source": [
    "X=df.iloc[:, [7, 8, 9, 10, 11, 12, 13, 14, 20, 21, 22, 23, 24, 25, 26, 27, 28, 29]]"
   ]
  },
  {
   "cell_type": "code",
   "execution_count": 11,
   "metadata": {},
   "outputs": [
    {
     "data": {
      "text/html": [
       "<div>\n",
       "<style scoped>\n",
       "    .dataframe tbody tr th:only-of-type {\n",
       "        vertical-align: middle;\n",
       "    }\n",
       "\n",
       "    .dataframe tbody tr th {\n",
       "        vertical-align: top;\n",
       "    }\n",
       "\n",
       "    .dataframe thead th {\n",
       "        text-align: right;\n",
       "    }\n",
       "</style>\n",
       "<table border=\"1\" class=\"dataframe\">\n",
       "  <thead>\n",
       "    <tr style=\"text-align: right;\">\n",
       "      <th></th>\n",
       "      <th>陰影起伏</th>\n",
       "      <th>曲率</th>\n",
       "      <th>傾斜角</th>\n",
       "      <th>傾斜方向</th>\n",
       "      <th>高度</th>\n",
       "      <th>近くの川への距離</th>\n",
       "      <th>supply hour</th>\n",
       "      <th>no water days</th>\n",
       "      <th>pipes/tabs \\n個/km</th>\n",
       "      <th>served/pipes</th>\n",
       "      <th>(popu-served)/pipes\\n  /km</th>\n",
       "      <th>Age of oldeset\\npipe</th>\n",
       "      <th>ST.1</th>\n",
       "      <th>RSF</th>\n",
       "      <th>FL</th>\n",
       "      <th>PF</th>\n",
       "      <th>RF</th>\n",
       "      <th>Turbidity.</th>\n",
       "    </tr>\n",
       "  </thead>\n",
       "  <tbody>\n",
       "    <tr>\n",
       "      <th>0</th>\n",
       "      <td>61</td>\n",
       "      <td>864000000</td>\n",
       "      <td>89.976921</td>\n",
       "      <td>244.983109</td>\n",
       "      <td>221</td>\n",
       "      <td>0.008422</td>\n",
       "      <td>5.99</td>\n",
       "      <td>56.78</td>\n",
       "      <td>0.015463</td>\n",
       "      <td>364.957845</td>\n",
       "      <td>1215.815486</td>\n",
       "      <td>40</td>\n",
       "      <td>0</td>\n",
       "      <td>1</td>\n",
       "      <td>0</td>\n",
       "      <td>0</td>\n",
       "      <td>0</td>\n",
       "      <td>0</td>\n",
       "    </tr>\n",
       "    <tr>\n",
       "      <th>1</th>\n",
       "      <td>25</td>\n",
       "      <td>432000000</td>\n",
       "      <td>89.980904</td>\n",
       "      <td>36.869896</td>\n",
       "      <td>223</td>\n",
       "      <td>0.000505</td>\n",
       "      <td>5.99</td>\n",
       "      <td>56.78</td>\n",
       "      <td>0.015463</td>\n",
       "      <td>364.957845</td>\n",
       "      <td>1215.815486</td>\n",
       "      <td>40</td>\n",
       "      <td>0</td>\n",
       "      <td>1</td>\n",
       "      <td>0</td>\n",
       "      <td>0</td>\n",
       "      <td>0</td>\n",
       "      <td>0</td>\n",
       "    </tr>\n",
       "    <tr>\n",
       "      <th>2</th>\n",
       "      <td>0</td>\n",
       "      <td>-288000000</td>\n",
       "      <td>89.947029</td>\n",
       "      <td>123.690071</td>\n",
       "      <td>214</td>\n",
       "      <td>0.002185</td>\n",
       "      <td>5.99</td>\n",
       "      <td>56.78</td>\n",
       "      <td>0.015463</td>\n",
       "      <td>364.957845</td>\n",
       "      <td>1215.815486</td>\n",
       "      <td>40</td>\n",
       "      <td>0</td>\n",
       "      <td>1</td>\n",
       "      <td>0</td>\n",
       "      <td>0</td>\n",
       "      <td>0</td>\n",
       "      <td>0</td>\n",
       "    </tr>\n",
       "    <tr>\n",
       "      <th>3</th>\n",
       "      <td>0</td>\n",
       "      <td>-432000000</td>\n",
       "      <td>89.945984</td>\n",
       "      <td>135.000000</td>\n",
       "      <td>217</td>\n",
       "      <td>0.002295</td>\n",
       "      <td>5.99</td>\n",
       "      <td>56.78</td>\n",
       "      <td>0.015463</td>\n",
       "      <td>364.957845</td>\n",
       "      <td>1215.815486</td>\n",
       "      <td>40</td>\n",
       "      <td>0</td>\n",
       "      <td>1</td>\n",
       "      <td>0</td>\n",
       "      <td>0</td>\n",
       "      <td>0</td>\n",
       "      <td>0</td>\n",
       "    </tr>\n",
       "    <tr>\n",
       "      <th>4</th>\n",
       "      <td>177</td>\n",
       "      <td>-432000000</td>\n",
       "      <td>89.955597</td>\n",
       "      <td>305.537689</td>\n",
       "      <td>181</td>\n",
       "      <td>0.003237</td>\n",
       "      <td>6.04</td>\n",
       "      <td>1.06</td>\n",
       "      <td>0.011188</td>\n",
       "      <td>524.400000</td>\n",
       "      <td>195.600000</td>\n",
       "      <td>40</td>\n",
       "      <td>0</td>\n",
       "      <td>0</td>\n",
       "      <td>0</td>\n",
       "      <td>0</td>\n",
       "      <td>0</td>\n",
       "      <td>0</td>\n",
       "    </tr>\n",
       "    <tr>\n",
       "      <th>...</th>\n",
       "      <td>...</td>\n",
       "      <td>...</td>\n",
       "      <td>...</td>\n",
       "      <td>...</td>\n",
       "      <td>...</td>\n",
       "      <td>...</td>\n",
       "      <td>...</td>\n",
       "      <td>...</td>\n",
       "      <td>...</td>\n",
       "      <td>...</td>\n",
       "      <td>...</td>\n",
       "      <td>...</td>\n",
       "      <td>...</td>\n",
       "      <td>...</td>\n",
       "      <td>...</td>\n",
       "      <td>...</td>\n",
       "      <td>...</td>\n",
       "      <td>...</td>\n",
       "    </tr>\n",
       "    <tr>\n",
       "      <th>215</th>\n",
       "      <td>0</td>\n",
       "      <td>864000000</td>\n",
       "      <td>89.962547</td>\n",
       "      <td>168.690063</td>\n",
       "      <td>92</td>\n",
       "      <td>0.004671</td>\n",
       "      <td>10.08</td>\n",
       "      <td>0.66</td>\n",
       "      <td>0.026729</td>\n",
       "      <td>247.679671</td>\n",
       "      <td>204.065708</td>\n",
       "      <td>46</td>\n",
       "      <td>1</td>\n",
       "      <td>1</td>\n",
       "      <td>0</td>\n",
       "      <td>0</td>\n",
       "      <td>0</td>\n",
       "      <td>0</td>\n",
       "    </tr>\n",
       "    <tr>\n",
       "      <th>216</th>\n",
       "      <td>171</td>\n",
       "      <td>-720000000</td>\n",
       "      <td>89.914589</td>\n",
       "      <td>296.565063</td>\n",
       "      <td>94</td>\n",
       "      <td>0.003045</td>\n",
       "      <td>10.08</td>\n",
       "      <td>0.66</td>\n",
       "      <td>0.026729</td>\n",
       "      <td>247.679671</td>\n",
       "      <td>204.065708</td>\n",
       "      <td>46</td>\n",
       "      <td>1</td>\n",
       "      <td>1</td>\n",
       "      <td>0</td>\n",
       "      <td>0</td>\n",
       "      <td>0</td>\n",
       "      <td>0</td>\n",
       "    </tr>\n",
       "    <tr>\n",
       "      <th>217</th>\n",
       "      <td>35</td>\n",
       "      <td>576000000</td>\n",
       "      <td>89.947029</td>\n",
       "      <td>236.309937</td>\n",
       "      <td>93</td>\n",
       "      <td>0.000700</td>\n",
       "      <td>10.08</td>\n",
       "      <td>0.66</td>\n",
       "      <td>0.026729</td>\n",
       "      <td>247.679671</td>\n",
       "      <td>204.065708</td>\n",
       "      <td>46</td>\n",
       "      <td>1</td>\n",
       "      <td>1</td>\n",
       "      <td>0</td>\n",
       "      <td>0</td>\n",
       "      <td>0</td>\n",
       "      <td>0</td>\n",
       "    </tr>\n",
       "    <tr>\n",
       "      <th>218</th>\n",
       "      <td>0</td>\n",
       "      <td>-144000000</td>\n",
       "      <td>89.729904</td>\n",
       "      <td>135.000000</td>\n",
       "      <td>87</td>\n",
       "      <td>0.003060</td>\n",
       "      <td>10.08</td>\n",
       "      <td>0.66</td>\n",
       "      <td>0.026729</td>\n",
       "      <td>247.679671</td>\n",
       "      <td>204.065708</td>\n",
       "      <td>46</td>\n",
       "      <td>1</td>\n",
       "      <td>1</td>\n",
       "      <td>0</td>\n",
       "      <td>0</td>\n",
       "      <td>0</td>\n",
       "      <td>0</td>\n",
       "    </tr>\n",
       "    <tr>\n",
       "      <th>219</th>\n",
       "      <td>176</td>\n",
       "      <td>-720000000</td>\n",
       "      <td>89.947029</td>\n",
       "      <td>303.690063</td>\n",
       "      <td>93</td>\n",
       "      <td>0.002358</td>\n",
       "      <td>10.08</td>\n",
       "      <td>0.66</td>\n",
       "      <td>0.026729</td>\n",
       "      <td>247.679671</td>\n",
       "      <td>204.065708</td>\n",
       "      <td>46</td>\n",
       "      <td>1</td>\n",
       "      <td>1</td>\n",
       "      <td>0</td>\n",
       "      <td>0</td>\n",
       "      <td>0</td>\n",
       "      <td>0</td>\n",
       "    </tr>\n",
       "  </tbody>\n",
       "</table>\n",
       "<p>218 rows × 18 columns</p>\n",
       "</div>"
      ],
      "text/plain": [
       "     陰影起伏         曲率        傾斜角        傾斜方向   高度  近くの川への距離  supply hour  \\\n",
       "0      61  864000000  89.976921  244.983109  221  0.008422         5.99   \n",
       "1      25  432000000  89.980904   36.869896  223  0.000505         5.99   \n",
       "2       0 -288000000  89.947029  123.690071  214  0.002185         5.99   \n",
       "3       0 -432000000  89.945984  135.000000  217  0.002295         5.99   \n",
       "4     177 -432000000  89.955597  305.537689  181  0.003237         6.04   \n",
       "..    ...        ...        ...         ...  ...       ...          ...   \n",
       "215     0  864000000  89.962547  168.690063   92  0.004671        10.08   \n",
       "216   171 -720000000  89.914589  296.565063   94  0.003045        10.08   \n",
       "217    35  576000000  89.947029  236.309937   93  0.000700        10.08   \n",
       "218     0 -144000000  89.729904  135.000000   87  0.003060        10.08   \n",
       "219   176 -720000000  89.947029  303.690063   93  0.002358        10.08   \n",
       "\n",
       "     no water days  pipes/tabs \\n個/km  served/pipes  \\\n",
       "0            56.78           0.015463    364.957845   \n",
       "1            56.78           0.015463    364.957845   \n",
       "2            56.78           0.015463    364.957845   \n",
       "3            56.78           0.015463    364.957845   \n",
       "4             1.06           0.011188    524.400000   \n",
       "..             ...                ...           ...   \n",
       "215           0.66           0.026729    247.679671   \n",
       "216           0.66           0.026729    247.679671   \n",
       "217           0.66           0.026729    247.679671   \n",
       "218           0.66           0.026729    247.679671   \n",
       "219           0.66           0.026729    247.679671   \n",
       "\n",
       "     (popu-served)/pipes\\n  /km  Age of oldeset\\npipe   ST.1  RSF  FL  PF  RF  \\\n",
       "0                   1215.815486                     40     0    1   0   0   0   \n",
       "1                   1215.815486                     40     0    1   0   0   0   \n",
       "2                   1215.815486                     40     0    1   0   0   0   \n",
       "3                   1215.815486                     40     0    1   0   0   0   \n",
       "4                    195.600000                     40     0    0   0   0   0   \n",
       "..                          ...                    ...   ...  ...  ..  ..  ..   \n",
       "215                  204.065708                     46     1    1   0   0   0   \n",
       "216                  204.065708                     46     1    1   0   0   0   \n",
       "217                  204.065708                     46     1    1   0   0   0   \n",
       "218                  204.065708                     46     1    1   0   0   0   \n",
       "219                  204.065708                     46     1    1   0   0   0   \n",
       "\n",
       "     Turbidity.  \n",
       "0             0  \n",
       "1             0  \n",
       "2             0  \n",
       "3             0  \n",
       "4             0  \n",
       "..          ...  \n",
       "215           0  \n",
       "216           0  \n",
       "217           0  \n",
       "218           0  \n",
       "219           0  \n",
       "\n",
       "[218 rows x 18 columns]"
      ]
     },
     "execution_count": 11,
     "metadata": {},
     "output_type": "execute_result"
    }
   ],
   "source": [
    "X"
   ]
  },
  {
   "cell_type": "code",
   "execution_count": 12,
   "metadata": {},
   "outputs": [
    {
     "name": "stdout",
     "output_type": "stream",
     "text": [
      "Class labels: [0 1]\n"
     ]
    }
   ],
   "source": [
    "print('Class labels:', np.unique(y))"
   ]
  },
  {
   "cell_type": "code",
   "execution_count": 13,
   "metadata": {},
   "outputs": [],
   "source": [
    "from sklearn.model_selection import train_test_split"
   ]
  },
  {
   "cell_type": "code",
   "execution_count": 14,
   "metadata": {},
   "outputs": [],
   "source": [
    "X_train, X_test, y_train, y_test=train_test_split(X, y, test_size=0.3,\n",
    "                                                  random_state=1, stratify=y)"
   ]
  },
  {
   "cell_type": "code",
   "execution_count": 15,
   "metadata": {},
   "outputs": [
    {
     "name": "stdout",
     "output_type": "stream",
     "text": [
      "Labels counts in y: [ 98 120]\n",
      "Lables counts in y_train: [68 84]\n",
      "Lables counts in y_test: [30 36]\n"
     ]
    }
   ],
   "source": [
    "print('Labels counts in y:', np.bincount(y))\n",
    "print('Lables counts in y_train:', np.bincount(y_train))\n",
    "print('Lables counts in y_test:', np.bincount(y_test))"
   ]
  },
  {
   "cell_type": "code",
   "execution_count": 16,
   "metadata": {},
   "outputs": [],
   "source": [
    "X_train_std=(X_train-X_train.mean(axis=0))/X_train.std(axis=0)"
   ]
  },
  {
   "cell_type": "code",
   "execution_count": 17,
   "metadata": {},
   "outputs": [],
   "source": [
    "X_test_std=(X_test-X_train.mean(axis=0))/X_train.std(axis=0)"
   ]
  },
  {
   "cell_type": "code",
   "execution_count": 18,
   "metadata": {},
   "outputs": [],
   "source": [
    "def threshold(fare):\n",
    "    if fare<=0:\n",
    "        return 0\n",
    "    else:\n",
    "        return 1"
   ]
  },
  {
   "cell_type": "code",
   "execution_count": 19,
   "metadata": {},
   "outputs": [],
   "source": [
    "X_train_std['ST.1']=X_train_std['ST.1'].apply(threshold)\n",
    "X_train_std['RSF']=X_train_std['RSF'].apply(threshold)\n",
    "X_train_std['FL']=X_train_std['FL'].apply(threshold)\n",
    "X_train_std['PF']=X_train_std['PF'].apply(threshold)\n",
    "X_train_std['RF']=X_train_std['RF'].apply(threshold)\n",
    "X_test_std['ST.1']=X_test_std['ST.1'].apply(threshold)\n",
    "X_test_std['RSF']=X_test_std['RSF'].apply(threshold)\n",
    "X_test_std['FL']=X_test_std['FL'].apply(threshold)\n",
    "X_test_std['PF']=X_test_std['PF'].apply(threshold)\n",
    "X_test_std['RF']=X_test_std['RF'].apply(threshold)"
   ]
  },
  {
   "cell_type": "code",
   "execution_count": 20,
   "metadata": {},
   "outputs": [
    {
     "data": {
      "text/html": [
       "<div>\n",
       "<style scoped>\n",
       "    .dataframe tbody tr th:only-of-type {\n",
       "        vertical-align: middle;\n",
       "    }\n",
       "\n",
       "    .dataframe tbody tr th {\n",
       "        vertical-align: top;\n",
       "    }\n",
       "\n",
       "    .dataframe thead th {\n",
       "        text-align: right;\n",
       "    }\n",
       "</style>\n",
       "<table border=\"1\" class=\"dataframe\">\n",
       "  <thead>\n",
       "    <tr style=\"text-align: right;\">\n",
       "      <th></th>\n",
       "      <th>陰影起伏</th>\n",
       "      <th>曲率</th>\n",
       "      <th>傾斜角</th>\n",
       "      <th>傾斜方向</th>\n",
       "      <th>高度</th>\n",
       "      <th>近くの川への距離</th>\n",
       "      <th>supply hour</th>\n",
       "      <th>no water days</th>\n",
       "      <th>pipes/tabs \\n個/km</th>\n",
       "      <th>served/pipes</th>\n",
       "      <th>(popu-served)/pipes\\n  /km</th>\n",
       "      <th>Age of oldeset\\npipe</th>\n",
       "      <th>ST.1</th>\n",
       "      <th>RSF</th>\n",
       "      <th>FL</th>\n",
       "      <th>PF</th>\n",
       "      <th>RF</th>\n",
       "      <th>Turbidity.</th>\n",
       "    </tr>\n",
       "  </thead>\n",
       "  <tbody>\n",
       "    <tr>\n",
       "      <th>218</th>\n",
       "      <td>-0.686850</td>\n",
       "      <td>-0.382187</td>\n",
       "      <td>0.048990</td>\n",
       "      <td>-0.410915</td>\n",
       "      <td>-1.159545</td>\n",
       "      <td>-0.327503</td>\n",
       "      <td>1.523975</td>\n",
       "      <td>-1.478259</td>\n",
       "      <td>-0.031214</td>\n",
       "      <td>-1.256239</td>\n",
       "      <td>-0.508817</td>\n",
       "      <td>-0.784953</td>\n",
       "      <td>1</td>\n",
       "      <td>1</td>\n",
       "      <td>0</td>\n",
       "      <td>0</td>\n",
       "      <td>0</td>\n",
       "      <td>-0.55525</td>\n",
       "    </tr>\n",
       "    <tr>\n",
       "      <th>100</th>\n",
       "      <td>1.831442</td>\n",
       "      <td>-1.612959</td>\n",
       "      <td>0.077027</td>\n",
       "      <td>1.317255</td>\n",
       "      <td>0.879267</td>\n",
       "      <td>0.004160</td>\n",
       "      <td>-0.664960</td>\n",
       "      <td>0.484507</td>\n",
       "      <td>-0.190579</td>\n",
       "      <td>0.969445</td>\n",
       "      <td>-0.352555</td>\n",
       "      <td>1.003462</td>\n",
       "      <td>1</td>\n",
       "      <td>1</td>\n",
       "      <td>1</td>\n",
       "      <td>1</td>\n",
       "      <td>1</td>\n",
       "      <td>-0.55525</td>\n",
       "    </tr>\n",
       "    <tr>\n",
       "      <th>147</th>\n",
       "      <td>-0.686850</td>\n",
       "      <td>0.110122</td>\n",
       "      <td>0.083950</td>\n",
       "      <td>0.323822</td>\n",
       "      <td>0.939576</td>\n",
       "      <td>0.527216</td>\n",
       "      <td>-0.664960</td>\n",
       "      <td>0.484507</td>\n",
       "      <td>-0.190579</td>\n",
       "      <td>0.969445</td>\n",
       "      <td>-0.352555</td>\n",
       "      <td>1.003462</td>\n",
       "      <td>1</td>\n",
       "      <td>1</td>\n",
       "      <td>1</td>\n",
       "      <td>1</td>\n",
       "      <td>1</td>\n",
       "      <td>-0.55525</td>\n",
       "    </tr>\n",
       "    <tr>\n",
       "      <th>190</th>\n",
       "      <td>-0.327094</td>\n",
       "      <td>0.725508</td>\n",
       "      <td>0.080769</td>\n",
       "      <td>0.610908</td>\n",
       "      <td>-1.188024</td>\n",
       "      <td>-0.724693</td>\n",
       "      <td>0.663970</td>\n",
       "      <td>-0.877575</td>\n",
       "      <td>-0.023260</td>\n",
       "      <td>-1.165195</td>\n",
       "      <td>0.956916</td>\n",
       "      <td>-1.091538</td>\n",
       "      <td>0</td>\n",
       "      <td>0</td>\n",
       "      <td>0</td>\n",
       "      <td>0</td>\n",
       "      <td>0</td>\n",
       "      <td>-0.55525</td>\n",
       "    </tr>\n",
       "    <tr>\n",
       "      <th>192</th>\n",
       "      <td>-0.226362</td>\n",
       "      <td>-0.012955</td>\n",
       "      <td>0.082693</td>\n",
       "      <td>-1.455383</td>\n",
       "      <td>-1.146142</td>\n",
       "      <td>-0.883740</td>\n",
       "      <td>-0.441751</td>\n",
       "      <td>0.040044</td>\n",
       "      <td>-0.179687</td>\n",
       "      <td>-0.272058</td>\n",
       "      <td>5.788956</td>\n",
       "      <td>-1.295928</td>\n",
       "      <td>0</td>\n",
       "      <td>0</td>\n",
       "      <td>0</td>\n",
       "      <td>0</td>\n",
       "      <td>0</td>\n",
       "      <td>-0.55525</td>\n",
       "    </tr>\n",
       "    <tr>\n",
       "      <th>...</th>\n",
       "      <td>...</td>\n",
       "      <td>...</td>\n",
       "      <td>...</td>\n",
       "      <td>...</td>\n",
       "      <td>...</td>\n",
       "      <td>...</td>\n",
       "      <td>...</td>\n",
       "      <td>...</td>\n",
       "      <td>...</td>\n",
       "      <td>...</td>\n",
       "      <td>...</td>\n",
       "      <td>...</td>\n",
       "      <td>...</td>\n",
       "      <td>...</td>\n",
       "      <td>...</td>\n",
       "      <td>...</td>\n",
       "      <td>...</td>\n",
       "      <td>...</td>\n",
       "    </tr>\n",
       "    <tr>\n",
       "      <th>44</th>\n",
       "      <td>-0.686850</td>\n",
       "      <td>-0.751419</td>\n",
       "      <td>0.072918</td>\n",
       "      <td>0.057667</td>\n",
       "      <td>-0.975264</td>\n",
       "      <td>-0.532585</td>\n",
       "      <td>0.978793</td>\n",
       "      <td>-1.406907</td>\n",
       "      <td>-0.042145</td>\n",
       "      <td>-1.324718</td>\n",
       "      <td>-0.331289</td>\n",
       "      <td>-0.963794</td>\n",
       "      <td>0</td>\n",
       "      <td>0</td>\n",
       "      <td>0</td>\n",
       "      <td>0</td>\n",
       "      <td>0</td>\n",
       "      <td>-0.55525</td>\n",
       "    </tr>\n",
       "    <tr>\n",
       "      <th>156</th>\n",
       "      <td>-0.686850</td>\n",
       "      <td>1.463971</td>\n",
       "      <td>0.085376</td>\n",
       "      <td>-0.390698</td>\n",
       "      <td>0.931200</td>\n",
       "      <td>-0.800241</td>\n",
       "      <td>-0.664960</td>\n",
       "      <td>0.484507</td>\n",
       "      <td>-0.190579</td>\n",
       "      <td>0.969445</td>\n",
       "      <td>-0.352555</td>\n",
       "      <td>1.003462</td>\n",
       "      <td>1</td>\n",
       "      <td>1</td>\n",
       "      <td>1</td>\n",
       "      <td>1</td>\n",
       "      <td>1</td>\n",
       "      <td>-0.55525</td>\n",
       "    </tr>\n",
       "    <tr>\n",
       "      <th>16</th>\n",
       "      <td>-0.686850</td>\n",
       "      <td>0.233199</td>\n",
       "      <td>0.080769</td>\n",
       "      <td>-1.263421</td>\n",
       "      <td>-1.132740</td>\n",
       "      <td>-0.364624</td>\n",
       "      <td>-0.185797</td>\n",
       "      <td>-0.334968</td>\n",
       "      <td>-0.043024</td>\n",
       "      <td>-1.269909</td>\n",
       "      <td>0.629604</td>\n",
       "      <td>-0.963794</td>\n",
       "      <td>0</td>\n",
       "      <td>0</td>\n",
       "      <td>0</td>\n",
       "      <td>0</td>\n",
       "      <td>0</td>\n",
       "      <td>1.78914</td>\n",
       "    </tr>\n",
       "    <tr>\n",
       "      <th>144</th>\n",
       "      <td>-0.686850</td>\n",
       "      <td>-0.136033</td>\n",
       "      <td>0.084819</td>\n",
       "      <td>0.003578</td>\n",
       "      <td>1.019990</td>\n",
       "      <td>0.350658</td>\n",
       "      <td>-0.664960</td>\n",
       "      <td>0.484507</td>\n",
       "      <td>-0.190579</td>\n",
       "      <td>0.969445</td>\n",
       "      <td>-0.352555</td>\n",
       "      <td>1.003462</td>\n",
       "      <td>1</td>\n",
       "      <td>1</td>\n",
       "      <td>1</td>\n",
       "      <td>1</td>\n",
       "      <td>1</td>\n",
       "      <td>-0.55525</td>\n",
       "    </tr>\n",
       "    <tr>\n",
       "      <th>118</th>\n",
       "      <td>-0.686850</td>\n",
       "      <td>-0.628341</td>\n",
       "      <td>0.085483</td>\n",
       "      <td>-0.938961</td>\n",
       "      <td>0.978108</td>\n",
       "      <td>-0.840677</td>\n",
       "      <td>-0.664960</td>\n",
       "      <td>0.484507</td>\n",
       "      <td>-0.190579</td>\n",
       "      <td>0.969445</td>\n",
       "      <td>-0.352555</td>\n",
       "      <td>1.003462</td>\n",
       "      <td>1</td>\n",
       "      <td>1</td>\n",
       "      <td>1</td>\n",
       "      <td>1</td>\n",
       "      <td>1</td>\n",
       "      <td>-0.55525</td>\n",
       "    </tr>\n",
       "  </tbody>\n",
       "</table>\n",
       "<p>152 rows × 18 columns</p>\n",
       "</div>"
      ],
      "text/plain": [
       "         陰影起伏        曲率       傾斜角      傾斜方向        高度  近くの川への距離  supply hour  \\\n",
       "218 -0.686850 -0.382187  0.048990 -0.410915 -1.159545 -0.327503     1.523975   \n",
       "100  1.831442 -1.612959  0.077027  1.317255  0.879267  0.004160    -0.664960   \n",
       "147 -0.686850  0.110122  0.083950  0.323822  0.939576  0.527216    -0.664960   \n",
       "190 -0.327094  0.725508  0.080769  0.610908 -1.188024 -0.724693     0.663970   \n",
       "192 -0.226362 -0.012955  0.082693 -1.455383 -1.146142 -0.883740    -0.441751   \n",
       "..        ...       ...       ...       ...       ...       ...          ...   \n",
       "44  -0.686850 -0.751419  0.072918  0.057667 -0.975264 -0.532585     0.978793   \n",
       "156 -0.686850  1.463971  0.085376 -0.390698  0.931200 -0.800241    -0.664960   \n",
       "16  -0.686850  0.233199  0.080769 -1.263421 -1.132740 -0.364624    -0.185797   \n",
       "144 -0.686850 -0.136033  0.084819  0.003578  1.019990  0.350658    -0.664960   \n",
       "118 -0.686850 -0.628341  0.085483 -0.938961  0.978108 -0.840677    -0.664960   \n",
       "\n",
       "     no water days  pipes/tabs \\n個/km  served/pipes  \\\n",
       "218      -1.478259          -0.031214     -1.256239   \n",
       "100       0.484507          -0.190579      0.969445   \n",
       "147       0.484507          -0.190579      0.969445   \n",
       "190      -0.877575          -0.023260     -1.165195   \n",
       "192       0.040044          -0.179687     -0.272058   \n",
       "..             ...                ...           ...   \n",
       "44       -1.406907          -0.042145     -1.324718   \n",
       "156       0.484507          -0.190579      0.969445   \n",
       "16       -0.334968          -0.043024     -1.269909   \n",
       "144       0.484507          -0.190579      0.969445   \n",
       "118       0.484507          -0.190579      0.969445   \n",
       "\n",
       "     (popu-served)/pipes\\n  /km  Age of oldeset\\npipe   ST.1  RSF  FL  PF  RF  \\\n",
       "218                   -0.508817              -0.784953     1    1   0   0   0   \n",
       "100                   -0.352555               1.003462     1    1   1   1   1   \n",
       "147                   -0.352555               1.003462     1    1   1   1   1   \n",
       "190                    0.956916              -1.091538     0    0   0   0   0   \n",
       "192                    5.788956              -1.295928     0    0   0   0   0   \n",
       "..                          ...                    ...   ...  ...  ..  ..  ..   \n",
       "44                    -0.331289              -0.963794     0    0   0   0   0   \n",
       "156                   -0.352555               1.003462     1    1   1   1   1   \n",
       "16                     0.629604              -0.963794     0    0   0   0   0   \n",
       "144                   -0.352555               1.003462     1    1   1   1   1   \n",
       "118                   -0.352555               1.003462     1    1   1   1   1   \n",
       "\n",
       "     Turbidity.  \n",
       "218    -0.55525  \n",
       "100    -0.55525  \n",
       "147    -0.55525  \n",
       "190    -0.55525  \n",
       "192    -0.55525  \n",
       "..          ...  \n",
       "44     -0.55525  \n",
       "156    -0.55525  \n",
       "16      1.78914  \n",
       "144    -0.55525  \n",
       "118    -0.55525  \n",
       "\n",
       "[152 rows x 18 columns]"
      ]
     },
     "execution_count": 20,
     "metadata": {},
     "output_type": "execute_result"
    }
   ],
   "source": [
    "X_train_std"
   ]
  },
  {
   "cell_type": "code",
   "execution_count": 21,
   "metadata": {},
   "outputs": [
    {
     "data": {
      "text/html": [
       "<div>\n",
       "<style scoped>\n",
       "    .dataframe tbody tr th:only-of-type {\n",
       "        vertical-align: middle;\n",
       "    }\n",
       "\n",
       "    .dataframe tbody tr th {\n",
       "        vertical-align: top;\n",
       "    }\n",
       "\n",
       "    .dataframe thead th {\n",
       "        text-align: right;\n",
       "    }\n",
       "</style>\n",
       "<table border=\"1\" class=\"dataframe\">\n",
       "  <thead>\n",
       "    <tr style=\"text-align: right;\">\n",
       "      <th></th>\n",
       "      <th>陰影起伏</th>\n",
       "      <th>曲率</th>\n",
       "      <th>傾斜角</th>\n",
       "      <th>傾斜方向</th>\n",
       "      <th>高度</th>\n",
       "      <th>近くの川への距離</th>\n",
       "      <th>supply hour</th>\n",
       "      <th>no water days</th>\n",
       "      <th>pipes/tabs \\n個/km</th>\n",
       "      <th>served/pipes</th>\n",
       "      <th>(popu-served)/pipes\\n  /km</th>\n",
       "      <th>Age of oldeset\\npipe</th>\n",
       "      <th>ST.1</th>\n",
       "      <th>RSF</th>\n",
       "      <th>FL</th>\n",
       "      <th>PF</th>\n",
       "      <th>RF</th>\n",
       "      <th>Turbidity.</th>\n",
       "    </tr>\n",
       "  </thead>\n",
       "  <tbody>\n",
       "    <tr>\n",
       "      <th>170</th>\n",
       "      <td>-0.68685</td>\n",
       "      <td>-1.120650</td>\n",
       "      <td>0.084883</td>\n",
       "      <td>0.160399</td>\n",
       "      <td>0.988159</td>\n",
       "      <td>-0.629460</td>\n",
       "      <td>-0.664960</td>\n",
       "      <td>0.484507</td>\n",
       "      <td>-0.190579</td>\n",
       "      <td>0.969445</td>\n",
       "      <td>-0.352555</td>\n",
       "      <td>1.003462</td>\n",
       "      <td>1</td>\n",
       "      <td>1</td>\n",
       "      <td>1</td>\n",
       "      <td>1</td>\n",
       "      <td>1</td>\n",
       "      <td>-0.55525</td>\n",
       "    </tr>\n",
       "    <tr>\n",
       "      <th>29</th>\n",
       "      <td>-0.68685</td>\n",
       "      <td>-0.136033</td>\n",
       "      <td>0.081264</td>\n",
       "      <td>0.111757</td>\n",
       "      <td>-1.121013</td>\n",
       "      <td>-0.711877</td>\n",
       "      <td>0.661410</td>\n",
       "      <td>-0.497654</td>\n",
       "      <td>-0.095006</td>\n",
       "      <td>-0.858288</td>\n",
       "      <td>0.014909</td>\n",
       "      <td>-0.733855</td>\n",
       "      <td>0</td>\n",
       "      <td>0</td>\n",
       "      <td>0</td>\n",
       "      <td>1</td>\n",
       "      <td>0</td>\n",
       "      <td>-0.55525</td>\n",
       "    </tr>\n",
       "    <tr>\n",
       "      <th>140</th>\n",
       "      <td>-0.68685</td>\n",
       "      <td>-1.489882</td>\n",
       "      <td>0.081144</td>\n",
       "      <td>-0.169349</td>\n",
       "      <td>0.941252</td>\n",
       "      <td>-0.391136</td>\n",
       "      <td>-0.664960</td>\n",
       "      <td>0.484507</td>\n",
       "      <td>-0.190579</td>\n",
       "      <td>0.969445</td>\n",
       "      <td>-0.352555</td>\n",
       "      <td>1.003462</td>\n",
       "      <td>1</td>\n",
       "      <td>1</td>\n",
       "      <td>1</td>\n",
       "      <td>1</td>\n",
       "      <td>1</td>\n",
       "      <td>-0.55525</td>\n",
       "    </tr>\n",
       "    <tr>\n",
       "      <th>54</th>\n",
       "      <td>0.47876</td>\n",
       "      <td>-0.628341</td>\n",
       "      <td>0.069451</td>\n",
       "      <td>0.802870</td>\n",
       "      <td>-1.137766</td>\n",
       "      <td>-0.325975</td>\n",
       "      <td>0.925043</td>\n",
       "      <td>-1.045169</td>\n",
       "      <td>-0.075581</td>\n",
       "      <td>-1.015096</td>\n",
       "      <td>0.682016</td>\n",
       "      <td>-1.014892</td>\n",
       "      <td>0</td>\n",
       "      <td>0</td>\n",
       "      <td>0</td>\n",
       "      <td>0</td>\n",
       "      <td>0</td>\n",
       "      <td>-0.55525</td>\n",
       "    </tr>\n",
       "    <tr>\n",
       "      <th>168</th>\n",
       "      <td>-0.68685</td>\n",
       "      <td>3.187052</td>\n",
       "      <td>0.085436</td>\n",
       "      <td>0.369003</td>\n",
       "      <td>0.924499</td>\n",
       "      <td>-0.577397</td>\n",
       "      <td>-0.664960</td>\n",
       "      <td>0.484507</td>\n",
       "      <td>-0.190579</td>\n",
       "      <td>0.969445</td>\n",
       "      <td>-0.352555</td>\n",
       "      <td>1.003462</td>\n",
       "      <td>1</td>\n",
       "      <td>1</td>\n",
       "      <td>1</td>\n",
       "      <td>1</td>\n",
       "      <td>1</td>\n",
       "      <td>1.78914</td>\n",
       "    </tr>\n",
       "    <tr>\n",
       "      <th>...</th>\n",
       "      <td>...</td>\n",
       "      <td>...</td>\n",
       "      <td>...</td>\n",
       "      <td>...</td>\n",
       "      <td>...</td>\n",
       "      <td>...</td>\n",
       "      <td>...</td>\n",
       "      <td>...</td>\n",
       "      <td>...</td>\n",
       "      <td>...</td>\n",
       "      <td>...</td>\n",
       "      <td>...</td>\n",
       "      <td>...</td>\n",
       "      <td>...</td>\n",
       "      <td>...</td>\n",
       "      <td>...</td>\n",
       "      <td>...</td>\n",
       "      <td>...</td>\n",
       "    </tr>\n",
       "    <tr>\n",
       "      <th>18</th>\n",
       "      <td>-0.68685</td>\n",
       "      <td>0.110122</td>\n",
       "      <td>0.069451</td>\n",
       "      <td>-1.071459</td>\n",
       "      <td>-1.137766</td>\n",
       "      <td>0.373798</td>\n",
       "      <td>-0.185797</td>\n",
       "      <td>-0.334968</td>\n",
       "      <td>-0.043024</td>\n",
       "      <td>-1.269909</td>\n",
       "      <td>0.629604</td>\n",
       "      <td>-0.963794</td>\n",
       "      <td>0</td>\n",
       "      <td>0</td>\n",
       "      <td>0</td>\n",
       "      <td>0</td>\n",
       "      <td>0</td>\n",
       "      <td>-0.55525</td>\n",
       "    </tr>\n",
       "    <tr>\n",
       "      <th>57</th>\n",
       "      <td>-0.68685</td>\n",
       "      <td>-1.243727</td>\n",
       "      <td>0.081144</td>\n",
       "      <td>-1.106514</td>\n",
       "      <td>-1.146142</td>\n",
       "      <td>-0.767948</td>\n",
       "      <td>0.925043</td>\n",
       "      <td>-1.045169</td>\n",
       "      <td>-0.075581</td>\n",
       "      <td>-1.015096</td>\n",
       "      <td>0.682016</td>\n",
       "      <td>-1.014892</td>\n",
       "      <td>0</td>\n",
       "      <td>0</td>\n",
       "      <td>0</td>\n",
       "      <td>0</td>\n",
       "      <td>0</td>\n",
       "      <td>-0.55525</td>\n",
       "    </tr>\n",
       "    <tr>\n",
       "      <th>157</th>\n",
       "      <td>-0.68685</td>\n",
       "      <td>-0.751419</td>\n",
       "      <td>0.084077</td>\n",
       "      <td>0.123687</td>\n",
       "      <td>0.917798</td>\n",
       "      <td>0.191907</td>\n",
       "      <td>-0.664960</td>\n",
       "      <td>0.484507</td>\n",
       "      <td>-0.190579</td>\n",
       "      <td>0.969445</td>\n",
       "      <td>-0.352555</td>\n",
       "      <td>1.003462</td>\n",
       "      <td>1</td>\n",
       "      <td>1</td>\n",
       "      <td>1</td>\n",
       "      <td>1</td>\n",
       "      <td>1</td>\n",
       "      <td>1.78914</td>\n",
       "    </tr>\n",
       "    <tr>\n",
       "      <th>43</th>\n",
       "      <td>-0.68685</td>\n",
       "      <td>-0.012955</td>\n",
       "      <td>0.083884</td>\n",
       "      <td>-0.656966</td>\n",
       "      <td>0.240986</td>\n",
       "      <td>-0.917227</td>\n",
       "      <td>2.124955</td>\n",
       "      <td>-1.533017</td>\n",
       "      <td>-0.201546</td>\n",
       "      <td>0.075399</td>\n",
       "      <td>-0.243955</td>\n",
       "      <td>-0.938246</td>\n",
       "      <td>0</td>\n",
       "      <td>0</td>\n",
       "      <td>0</td>\n",
       "      <td>0</td>\n",
       "      <td>0</td>\n",
       "      <td>1.78914</td>\n",
       "    </tr>\n",
       "    <tr>\n",
       "      <th>27</th>\n",
       "      <td>-0.68685</td>\n",
       "      <td>-0.628341</td>\n",
       "      <td>0.081701</td>\n",
       "      <td>0.156198</td>\n",
       "      <td>-1.126039</td>\n",
       "      <td>-0.204030</td>\n",
       "      <td>0.661410</td>\n",
       "      <td>-0.497654</td>\n",
       "      <td>-0.095006</td>\n",
       "      <td>-0.858288</td>\n",
       "      <td>0.014909</td>\n",
       "      <td>-0.733855</td>\n",
       "      <td>0</td>\n",
       "      <td>0</td>\n",
       "      <td>0</td>\n",
       "      <td>1</td>\n",
       "      <td>0</td>\n",
       "      <td>-0.55525</td>\n",
       "    </tr>\n",
       "  </tbody>\n",
       "</table>\n",
       "<p>66 rows × 18 columns</p>\n",
       "</div>"
      ],
      "text/plain": [
       "        陰影起伏        曲率       傾斜角      傾斜方向        高度  近くの川への距離  supply hour  \\\n",
       "170 -0.68685 -1.120650  0.084883  0.160399  0.988159 -0.629460    -0.664960   \n",
       "29  -0.68685 -0.136033  0.081264  0.111757 -1.121013 -0.711877     0.661410   \n",
       "140 -0.68685 -1.489882  0.081144 -0.169349  0.941252 -0.391136    -0.664960   \n",
       "54   0.47876 -0.628341  0.069451  0.802870 -1.137766 -0.325975     0.925043   \n",
       "168 -0.68685  3.187052  0.085436  0.369003  0.924499 -0.577397    -0.664960   \n",
       "..       ...       ...       ...       ...       ...       ...          ...   \n",
       "18  -0.68685  0.110122  0.069451 -1.071459 -1.137766  0.373798    -0.185797   \n",
       "57  -0.68685 -1.243727  0.081144 -1.106514 -1.146142 -0.767948     0.925043   \n",
       "157 -0.68685 -0.751419  0.084077  0.123687  0.917798  0.191907    -0.664960   \n",
       "43  -0.68685 -0.012955  0.083884 -0.656966  0.240986 -0.917227     2.124955   \n",
       "27  -0.68685 -0.628341  0.081701  0.156198 -1.126039 -0.204030     0.661410   \n",
       "\n",
       "     no water days  pipes/tabs \\n個/km  served/pipes  \\\n",
       "170       0.484507          -0.190579      0.969445   \n",
       "29       -0.497654          -0.095006     -0.858288   \n",
       "140       0.484507          -0.190579      0.969445   \n",
       "54       -1.045169          -0.075581     -1.015096   \n",
       "168       0.484507          -0.190579      0.969445   \n",
       "..             ...                ...           ...   \n",
       "18       -0.334968          -0.043024     -1.269909   \n",
       "57       -1.045169          -0.075581     -1.015096   \n",
       "157       0.484507          -0.190579      0.969445   \n",
       "43       -1.533017          -0.201546      0.075399   \n",
       "27       -0.497654          -0.095006     -0.858288   \n",
       "\n",
       "     (popu-served)/pipes\\n  /km  Age of oldeset\\npipe   ST.1  RSF  FL  PF  RF  \\\n",
       "170                   -0.352555               1.003462     1    1   1   1   1   \n",
       "29                     0.014909              -0.733855     0    0   0   1   0   \n",
       "140                   -0.352555               1.003462     1    1   1   1   1   \n",
       "54                     0.682016              -1.014892     0    0   0   0   0   \n",
       "168                   -0.352555               1.003462     1    1   1   1   1   \n",
       "..                          ...                    ...   ...  ...  ..  ..  ..   \n",
       "18                     0.629604              -0.963794     0    0   0   0   0   \n",
       "57                     0.682016              -1.014892     0    0   0   0   0   \n",
       "157                   -0.352555               1.003462     1    1   1   1   1   \n",
       "43                    -0.243955              -0.938246     0    0   0   0   0   \n",
       "27                     0.014909              -0.733855     0    0   0   1   0   \n",
       "\n",
       "     Turbidity.  \n",
       "170    -0.55525  \n",
       "29     -0.55525  \n",
       "140    -0.55525  \n",
       "54     -0.55525  \n",
       "168     1.78914  \n",
       "..          ...  \n",
       "18     -0.55525  \n",
       "57     -0.55525  \n",
       "157     1.78914  \n",
       "43      1.78914  \n",
       "27     -0.55525  \n",
       "\n",
       "[66 rows x 18 columns]"
      ]
     },
     "execution_count": 21,
     "metadata": {},
     "output_type": "execute_result"
    }
   ],
   "source": [
    "X_test_std"
   ]
  },
  {
   "cell_type": "code",
   "execution_count": 22,
   "metadata": {},
   "outputs": [
    {
     "data": {
      "text/plain": [
       "LogisticRegression(C=1, class_weight=None, dual=False, fit_intercept=True,\n",
       "                   intercept_scaling=1, l1_ratio=None, max_iter=100,\n",
       "                   multi_class='auto', n_jobs=None, penalty='l2',\n",
       "                   random_state=1, solver='lbfgs', tol=0.0001, verbose=0,\n",
       "                   warm_start=False)"
      ]
     },
     "execution_count": 22,
     "metadata": {},
     "output_type": "execute_result"
    }
   ],
   "source": [
    "from sklearn.linear_model import LogisticRegression\n",
    "lr=LogisticRegression(C=1, random_state=1)\n",
    "lr.fit(X_train_std, y_train)"
   ]
  },
  {
   "cell_type": "code",
   "execution_count": 23,
   "metadata": {},
   "outputs": [
    {
     "data": {
      "text/plain": [
       "0.618421052631579"
      ]
     },
     "execution_count": 23,
     "metadata": {},
     "output_type": "execute_result"
    }
   ],
   "source": [
    "lr.score(X_train_std, y_train)"
   ]
  },
  {
   "cell_type": "code",
   "execution_count": 24,
   "metadata": {},
   "outputs": [
    {
     "data": {
      "text/plain": [
       "0.6515151515151515"
      ]
     },
     "execution_count": 24,
     "metadata": {},
     "output_type": "execute_result"
    }
   ],
   "source": [
    "lr.score(X_test_std, y_test)"
   ]
  },
  {
   "cell_type": "code",
   "execution_count": 25,
   "metadata": {},
   "outputs": [],
   "source": [
    "from sklearn.svm import SVC"
   ]
  },
  {
   "cell_type": "code",
   "execution_count": 26,
   "metadata": {},
   "outputs": [],
   "source": [
    "svm=SVC(kernel='linear', C=0.1, random_state=1)"
   ]
  },
  {
   "cell_type": "code",
   "execution_count": 27,
   "metadata": {},
   "outputs": [
    {
     "data": {
      "text/plain": [
       "SVC(C=0.1, break_ties=False, cache_size=200, class_weight=None, coef0=0.0,\n",
       "    decision_function_shape='ovr', degree=3, gamma='scale', kernel='linear',\n",
       "    max_iter=-1, probability=False, random_state=1, shrinking=True, tol=0.001,\n",
       "    verbose=False)"
      ]
     },
     "execution_count": 27,
     "metadata": {},
     "output_type": "execute_result"
    }
   ],
   "source": [
    "svm.fit(X_train_std, y_train)"
   ]
  },
  {
   "cell_type": "code",
   "execution_count": 28,
   "metadata": {},
   "outputs": [
    {
     "data": {
      "text/plain": [
       "0.6513157894736842"
      ]
     },
     "execution_count": 28,
     "metadata": {},
     "output_type": "execute_result"
    }
   ],
   "source": [
    "svm.score(X_train_std, y_train)"
   ]
  },
  {
   "cell_type": "code",
   "execution_count": 29,
   "metadata": {},
   "outputs": [
    {
     "data": {
      "text/plain": [
       "0.6212121212121212"
      ]
     },
     "execution_count": 29,
     "metadata": {},
     "output_type": "execute_result"
    }
   ],
   "source": [
    "svm.score(X_test_std, y_test)"
   ]
  },
  {
   "cell_type": "code",
   "execution_count": 30,
   "metadata": {},
   "outputs": [],
   "source": [
    "from sklearn.model_selection import cross_val_score\n",
    "score=cross_val_score(estimator=svm,\n",
    "                      X=X_train_std, y=y_train,\n",
    "                      cv=30, n_jobs=1)"
   ]
  },
  {
   "cell_type": "code",
   "execution_count": 31,
   "metadata": {},
   "outputs": [
    {
     "data": {
      "text/plain": [
       "array([0.66666667, 0.66666667, 0.2       , 0.8       , 0.2       ,\n",
       "       0.6       , 0.4       , 0.6       , 0.6       , 0.6       ,\n",
       "       0.8       , 0.6       , 0.6       , 0.8       , 0.8       ,\n",
       "       0.2       , 0.6       , 0.6       , 0.4       , 0.4       ,\n",
       "       0.8       , 0.4       , 0.6       , 0.4       , 0.4       ,\n",
       "       0.6       , 0.6       , 0.8       , 0.2       , 0.4       ])"
      ]
     },
     "execution_count": 31,
     "metadata": {},
     "output_type": "execute_result"
    }
   ],
   "source": [
    "score"
   ]
  },
  {
   "cell_type": "code",
   "execution_count": 32,
   "metadata": {},
   "outputs": [
    {
     "data": {
      "text/plain": [
       "0.5444444444444444"
      ]
     },
     "execution_count": 32,
     "metadata": {},
     "output_type": "execute_result"
    }
   ],
   "source": [
    "np.mean(score)"
   ]
  },
  {
   "cell_type": "code",
   "execution_count": 33,
   "metadata": {},
   "outputs": [],
   "source": [
    "svm=SVC(kernel='rbf', gamma=1, C=100)"
   ]
  },
  {
   "cell_type": "code",
   "execution_count": 34,
   "metadata": {},
   "outputs": [
    {
     "data": {
      "text/plain": [
       "SVC(C=100, break_ties=False, cache_size=200, class_weight=None, coef0=0.0,\n",
       "    decision_function_shape='ovr', degree=3, gamma=1, kernel='rbf', max_iter=-1,\n",
       "    probability=False, random_state=None, shrinking=True, tol=0.001,\n",
       "    verbose=False)"
      ]
     },
     "execution_count": 34,
     "metadata": {},
     "output_type": "execute_result"
    }
   ],
   "source": [
    "svm.fit(X_train_std, y_train)"
   ]
  },
  {
   "cell_type": "code",
   "execution_count": 35,
   "metadata": {},
   "outputs": [
    {
     "data": {
      "text/plain": [
       "0.993421052631579"
      ]
     },
     "execution_count": 35,
     "metadata": {},
     "output_type": "execute_result"
    }
   ],
   "source": [
    "svm.score(X_train_std, y_train)"
   ]
  },
  {
   "cell_type": "code",
   "execution_count": 36,
   "metadata": {},
   "outputs": [
    {
     "data": {
      "text/plain": [
       "0.5757575757575758"
      ]
     },
     "execution_count": 36,
     "metadata": {},
     "output_type": "execute_result"
    }
   ],
   "source": [
    "svm.score(X_test_std, y_test)"
   ]
  },
  {
   "cell_type": "code",
   "execution_count": 37,
   "metadata": {},
   "outputs": [],
   "source": [
    "from sklearn.model_selection import cross_val_score\n",
    "score=cross_val_score(estimator=svm,\n",
    "                      X=X_train_std, y=y_train,\n",
    "                      cv=10, n_jobs=1)"
   ]
  },
  {
   "cell_type": "code",
   "execution_count": 38,
   "metadata": {},
   "outputs": [
    {
     "data": {
      "text/plain": [
       "array([0.625     , 0.6875    , 0.66666667, 0.4       , 0.66666667,\n",
       "       0.4       , 0.66666667, 0.6       , 0.4       , 0.53333333])"
      ]
     },
     "execution_count": 38,
     "metadata": {},
     "output_type": "execute_result"
    }
   ],
   "source": [
    "score"
   ]
  },
  {
   "cell_type": "code",
   "execution_count": 39,
   "metadata": {},
   "outputs": [
    {
     "data": {
      "text/plain": [
       "0.5645833333333333"
      ]
     },
     "execution_count": 39,
     "metadata": {},
     "output_type": "execute_result"
    }
   ],
   "source": [
    "np.mean(score)"
   ]
  },
  {
   "cell_type": "code",
   "execution_count": 40,
   "metadata": {},
   "outputs": [],
   "source": [
    "from sklearn.neighbors import KNeighborsClassifier"
   ]
  },
  {
   "cell_type": "code",
   "execution_count": 41,
   "metadata": {},
   "outputs": [],
   "source": [
    "knn=KNeighborsClassifier(n_neighbors=50, p=10, metric='minkowski')"
   ]
  },
  {
   "cell_type": "code",
   "execution_count": 42,
   "metadata": {},
   "outputs": [
    {
     "data": {
      "text/plain": [
       "KNeighborsClassifier(algorithm='auto', leaf_size=30, metric='minkowski',\n",
       "                     metric_params=None, n_jobs=None, n_neighbors=50, p=10,\n",
       "                     weights='uniform')"
      ]
     },
     "execution_count": 42,
     "metadata": {},
     "output_type": "execute_result"
    }
   ],
   "source": [
    "knn.fit(X_train_std, y_train)"
   ]
  },
  {
   "cell_type": "code",
   "execution_count": 43,
   "metadata": {},
   "outputs": [
    {
     "data": {
      "text/plain": [
       "0.625"
      ]
     },
     "execution_count": 43,
     "metadata": {},
     "output_type": "execute_result"
    }
   ],
   "source": [
    "knn.score(X_train_std, y_train)"
   ]
  },
  {
   "cell_type": "code",
   "execution_count": 44,
   "metadata": {},
   "outputs": [
    {
     "data": {
      "text/plain": [
       "0.6060606060606061"
      ]
     },
     "execution_count": 44,
     "metadata": {},
     "output_type": "execute_result"
    }
   ],
   "source": [
    "knn.score(X_test_std, y_test)"
   ]
  },
  {
   "cell_type": "code",
   "execution_count": 45,
   "metadata": {},
   "outputs": [],
   "source": [
    "from sklearn.model_selection import GridSearchCV"
   ]
  },
  {
   "cell_type": "code",
   "execution_count": 46,
   "metadata": {},
   "outputs": [],
   "source": [
    "from sklearn.svm import SVC"
   ]
  },
  {
   "cell_type": "code",
   "execution_count": 47,
   "metadata": {},
   "outputs": [],
   "source": [
    "from sklearn.pipeline import make_pipeline\n",
    "pipe_svc=make_pipeline( SVC(random_state=1))"
   ]
  },
  {
   "cell_type": "code",
   "execution_count": 48,
   "metadata": {},
   "outputs": [],
   "source": [
    "param_range=[0.0001, 0.001, 0.01, 0.1, 1.0, 10.0, 100.0, 1000.0]"
   ]
  },
  {
   "cell_type": "code",
   "execution_count": 49,
   "metadata": {},
   "outputs": [],
   "source": [
    "param_grid=[{'svc__C':param_range, 'svc__kernel':['linear']},\n",
    "            {'svc__C':param_range, 'svc__gamma':param_range,\n",
    "             'svc__kernel':['rbf']}]"
   ]
  },
  {
   "cell_type": "code",
   "execution_count": 50,
   "metadata": {},
   "outputs": [],
   "source": [
    "gs=GridSearchCV(estimator=pipe_svc,\n",
    "                param_grid=param_grid,\n",
    "                scoring='accuracy',\n",
    "                cv=10,\n",
    "                n_jobs=-1)"
   ]
  },
  {
   "cell_type": "code",
   "execution_count": 51,
   "metadata": {},
   "outputs": [],
   "source": [
    "gs=gs.fit(X_train_std, y_train)"
   ]
  },
  {
   "cell_type": "code",
   "execution_count": 52,
   "metadata": {},
   "outputs": [
    {
     "data": {
      "text/plain": [
       "0.6366666666666666"
      ]
     },
     "execution_count": 52,
     "metadata": {},
     "output_type": "execute_result"
    }
   ],
   "source": [
    "gs.best_score_"
   ]
  },
  {
   "cell_type": "code",
   "execution_count": 53,
   "metadata": {},
   "outputs": [
    {
     "data": {
      "text/plain": [
       "{'svc__C': 1000.0, 'svc__gamma': 0.1, 'svc__kernel': 'rbf'}"
      ]
     },
     "execution_count": 53,
     "metadata": {},
     "output_type": "execute_result"
    }
   ],
   "source": [
    "gs.best_params_"
   ]
  },
  {
   "cell_type": "code",
   "execution_count": 54,
   "metadata": {},
   "outputs": [],
   "source": [
    "clf=gs.best_estimator_"
   ]
  },
  {
   "cell_type": "code",
   "execution_count": 55,
   "metadata": {},
   "outputs": [
    {
     "data": {
      "text/plain": [
       "Pipeline(memory=None,\n",
       "         steps=[('svc',\n",
       "                 SVC(C=1000.0, break_ties=False, cache_size=200,\n",
       "                     class_weight=None, coef0=0.0,\n",
       "                     decision_function_shape='ovr', degree=3, gamma=0.1,\n",
       "                     kernel='rbf', max_iter=-1, probability=False,\n",
       "                     random_state=1, shrinking=True, tol=0.001,\n",
       "                     verbose=False))],\n",
       "         verbose=False)"
      ]
     },
     "execution_count": 55,
     "metadata": {},
     "output_type": "execute_result"
    }
   ],
   "source": [
    "clf.fit(X_train_std, y_train)"
   ]
  },
  {
   "cell_type": "code",
   "execution_count": 56,
   "metadata": {},
   "outputs": [
    {
     "data": {
      "text/plain": [
       "0.5757575757575758"
      ]
     },
     "execution_count": 56,
     "metadata": {},
     "output_type": "execute_result"
    }
   ],
   "source": [
    "clf.score(X_test_std, y_test)"
   ]
  },
  {
   "cell_type": "code",
   "execution_count": 57,
   "metadata": {},
   "outputs": [],
   "source": [
    "param_range=[0.0001, 0.001, 0.01, 0.1, 1.0, 10.0, 100.0, 1000.0]\n",
    "param_grid=[{'svc__C':param_range, 'svc__kernel':['linear']}]\n",
    "gs=GridSearchCV(estimator=pipe_svc,\n",
    "                param_grid=param_grid,\n",
    "                scoring='accuracy',\n",
    "                cv=10,\n",
    "                n_jobs=-1)"
   ]
  },
  {
   "cell_type": "code",
   "execution_count": 58,
   "metadata": {},
   "outputs": [],
   "source": [
    "gs=gs.fit(X_train_std, y_train)"
   ]
  },
  {
   "cell_type": "code",
   "execution_count": 59,
   "metadata": {},
   "outputs": [
    {
     "data": {
      "text/plain": [
       "0.5529166666666667"
      ]
     },
     "execution_count": 59,
     "metadata": {},
     "output_type": "execute_result"
    }
   ],
   "source": [
    "gs.best_score_"
   ]
  },
  {
   "cell_type": "code",
   "execution_count": 60,
   "metadata": {},
   "outputs": [
    {
     "data": {
      "text/plain": [
       "{'svc__C': 0.1, 'svc__kernel': 'linear'}"
      ]
     },
     "execution_count": 60,
     "metadata": {},
     "output_type": "execute_result"
    }
   ],
   "source": [
    "gs.best_params_"
   ]
  },
  {
   "cell_type": "code",
   "execution_count": 61,
   "metadata": {},
   "outputs": [
    {
     "data": {
      "text/plain": [
       "0.6212121212121212"
      ]
     },
     "execution_count": 61,
     "metadata": {},
     "output_type": "execute_result"
    }
   ],
   "source": [
    "clf=gs.best_estimator_\n",
    "clf.fit(X_train_std, y_train)\n",
    "clf.score(X_test_std, y_test)"
   ]
  },
  {
   "cell_type": "code",
   "execution_count": null,
   "metadata": {},
   "outputs": [],
   "source": []
  },
  {
   "cell_type": "code",
   "execution_count": null,
   "metadata": {},
   "outputs": [],
   "source": []
  }
 ],
 "metadata": {
  "kernelspec": {
   "display_name": "Python 3",
   "language": "python",
   "name": "python3"
  },
  "language_info": {
   "codemirror_mode": {
    "name": "ipython",
    "version": 3
   },
   "file_extension": ".py",
   "mimetype": "text/x-python",
   "name": "python",
   "nbconvert_exporter": "python",
   "pygments_lexer": "ipython3",
   "version": "3.7.7"
  }
 },
 "nbformat": 4,
 "nbformat_minor": 4
}
