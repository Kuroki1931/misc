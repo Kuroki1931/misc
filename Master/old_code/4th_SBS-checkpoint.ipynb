{
 "cells": [
  {
   "cell_type": "code",
   "execution_count": 1,
   "metadata": {},
   "outputs": [],
   "source": [
    "import pandas as pd"
   ]
  },
  {
   "cell_type": "code",
   "execution_count": 2,
   "metadata": {},
   "outputs": [],
   "source": [
    "import numpy as np"
   ]
  },
  {
   "cell_type": "code",
   "execution_count": 3,
   "metadata": {},
   "outputs": [],
   "source": [
    "df=pd.read_excel('◎位置情報と対応(水道水) 基準満たしているか否か.xlsx')\n",
    "df=df.dropna(axis=0)"
   ]
  },
  {
   "cell_type": "code",
   "execution_count": 4,
   "metadata": {},
   "outputs": [
    {
     "data": {
      "text/html": [
       "<div>\n",
       "<style scoped>\n",
       "    .dataframe tbody tr th:only-of-type {\n",
       "        vertical-align: middle;\n",
       "    }\n",
       "\n",
       "    .dataframe tbody tr th {\n",
       "        vertical-align: top;\n",
       "    }\n",
       "\n",
       "    .dataframe thead th {\n",
       "        text-align: right;\n",
       "    }\n",
       "</style>\n",
       "<table border=\"1\" class=\"dataframe\">\n",
       "  <thead>\n",
       "    <tr style=\"text-align: right;\">\n",
       "      <th></th>\n",
       "      <th>NAME</th>\n",
       "      <th>ST</th>\n",
       "      <th>Unnamed: 0</th>\n",
       "      <th>Rowid</th>\n",
       "      <th>XY水道水位置情報</th>\n",
       "      <th>X</th>\n",
       "      <th>Y</th>\n",
       "      <th>陰影起伏</th>\n",
       "      <th>曲率</th>\n",
       "      <th>傾斜角</th>\n",
       "      <th>...</th>\n",
       "      <th>FL</th>\n",
       "      <th>PF</th>\n",
       "      <th>RF</th>\n",
       "      <th>Turbidity.</th>\n",
       "      <th>pH.</th>\n",
       "      <th>Ammonia.</th>\n",
       "      <th>Nitrite.</th>\n",
       "      <th>Nitrate.</th>\n",
       "      <th>Iron.</th>\n",
       "      <th>EColi.</th>\n",
       "    </tr>\n",
       "  </thead>\n",
       "  <tbody>\n",
       "    <tr>\n",
       "      <th>0</th>\n",
       "      <td>Mahendranagar</td>\n",
       "      <td>0</td>\n",
       "      <td>0</td>\n",
       "      <td>4</td>\n",
       "      <td>192</td>\n",
       "      <td>80.173190</td>\n",
       "      <td>28.967150</td>\n",
       "      <td>61</td>\n",
       "      <td>864000000</td>\n",
       "      <td>89.976921</td>\n",
       "      <td>...</td>\n",
       "      <td>0</td>\n",
       "      <td>0</td>\n",
       "      <td>0</td>\n",
       "      <td>0</td>\n",
       "      <td>0</td>\n",
       "      <td>0</td>\n",
       "      <td>0</td>\n",
       "      <td>0</td>\n",
       "      <td>0</td>\n",
       "      <td>0</td>\n",
       "    </tr>\n",
       "    <tr>\n",
       "      <th>1</th>\n",
       "      <td>Mahendranagar</td>\n",
       "      <td>1</td>\n",
       "      <td>1</td>\n",
       "      <td>2</td>\n",
       "      <td>191</td>\n",
       "      <td>80.175688</td>\n",
       "      <td>28.974328</td>\n",
       "      <td>25</td>\n",
       "      <td>432000000</td>\n",
       "      <td>89.980904</td>\n",
       "      <td>...</td>\n",
       "      <td>0</td>\n",
       "      <td>0</td>\n",
       "      <td>0</td>\n",
       "      <td>0</td>\n",
       "      <td>0</td>\n",
       "      <td>0</td>\n",
       "      <td>0</td>\n",
       "      <td>0</td>\n",
       "      <td>0</td>\n",
       "      <td>1</td>\n",
       "    </tr>\n",
       "    <tr>\n",
       "      <th>2</th>\n",
       "      <td>Mahendranagar</td>\n",
       "      <td>2</td>\n",
       "      <td>2</td>\n",
       "      <td>3</td>\n",
       "      <td>188</td>\n",
       "      <td>80.179382</td>\n",
       "      <td>28.958797</td>\n",
       "      <td>0</td>\n",
       "      <td>-288000000</td>\n",
       "      <td>89.947029</td>\n",
       "      <td>...</td>\n",
       "      <td>0</td>\n",
       "      <td>0</td>\n",
       "      <td>0</td>\n",
       "      <td>0</td>\n",
       "      <td>0</td>\n",
       "      <td>0</td>\n",
       "      <td>0</td>\n",
       "      <td>0</td>\n",
       "      <td>0</td>\n",
       "      <td>0</td>\n",
       "    </tr>\n",
       "    <tr>\n",
       "      <th>3</th>\n",
       "      <td>Mahendranagar</td>\n",
       "      <td>3</td>\n",
       "      <td>3</td>\n",
       "      <td>1</td>\n",
       "      <td>190</td>\n",
       "      <td>80.186682</td>\n",
       "      <td>28.971595</td>\n",
       "      <td>0</td>\n",
       "      <td>-432000000</td>\n",
       "      <td>89.945984</td>\n",
       "      <td>...</td>\n",
       "      <td>0</td>\n",
       "      <td>0</td>\n",
       "      <td>0</td>\n",
       "      <td>0</td>\n",
       "      <td>0</td>\n",
       "      <td>0</td>\n",
       "      <td>0</td>\n",
       "      <td>0</td>\n",
       "      <td>0</td>\n",
       "      <td>0</td>\n",
       "    </tr>\n",
       "    <tr>\n",
       "      <th>4</th>\n",
       "      <td>Dhangadhi</td>\n",
       "      <td>4</td>\n",
       "      <td>4</td>\n",
       "      <td>7</td>\n",
       "      <td>197</td>\n",
       "      <td>80.565455</td>\n",
       "      <td>28.705933</td>\n",
       "      <td>177</td>\n",
       "      <td>-432000000</td>\n",
       "      <td>89.955597</td>\n",
       "      <td>...</td>\n",
       "      <td>0</td>\n",
       "      <td>0</td>\n",
       "      <td>0</td>\n",
       "      <td>0</td>\n",
       "      <td>0</td>\n",
       "      <td>0</td>\n",
       "      <td>0</td>\n",
       "      <td>0</td>\n",
       "      <td>0</td>\n",
       "      <td>0</td>\n",
       "    </tr>\n",
       "    <tr>\n",
       "      <th>...</th>\n",
       "      <td>...</td>\n",
       "      <td>...</td>\n",
       "      <td>...</td>\n",
       "      <td>...</td>\n",
       "      <td>...</td>\n",
       "      <td>...</td>\n",
       "      <td>...</td>\n",
       "      <td>...</td>\n",
       "      <td>...</td>\n",
       "      <td>...</td>\n",
       "      <td>...</td>\n",
       "      <td>...</td>\n",
       "      <td>...</td>\n",
       "      <td>...</td>\n",
       "      <td>...</td>\n",
       "      <td>...</td>\n",
       "      <td>...</td>\n",
       "      <td>...</td>\n",
       "      <td>...</td>\n",
       "      <td>...</td>\n",
       "      <td>...</td>\n",
       "    </tr>\n",
       "    <tr>\n",
       "      <th>215</th>\n",
       "      <td>Bhadrapur</td>\n",
       "      <td>215</td>\n",
       "      <td>215</td>\n",
       "      <td>213</td>\n",
       "      <td>148</td>\n",
       "      <td>88.074577</td>\n",
       "      <td>26.545469</td>\n",
       "      <td>0</td>\n",
       "      <td>864000000</td>\n",
       "      <td>89.962547</td>\n",
       "      <td>...</td>\n",
       "      <td>0</td>\n",
       "      <td>0</td>\n",
       "      <td>0</td>\n",
       "      <td>0</td>\n",
       "      <td>0</td>\n",
       "      <td>0</td>\n",
       "      <td>0</td>\n",
       "      <td>0</td>\n",
       "      <td>0</td>\n",
       "      <td>1</td>\n",
       "    </tr>\n",
       "    <tr>\n",
       "      <th>216</th>\n",
       "      <td>Bhadrapur</td>\n",
       "      <td>216</td>\n",
       "      <td>216</td>\n",
       "      <td>208</td>\n",
       "      <td>152</td>\n",
       "      <td>88.079301</td>\n",
       "      <td>26.561851</td>\n",
       "      <td>171</td>\n",
       "      <td>-720000000</td>\n",
       "      <td>89.914589</td>\n",
       "      <td>...</td>\n",
       "      <td>0</td>\n",
       "      <td>0</td>\n",
       "      <td>0</td>\n",
       "      <td>0</td>\n",
       "      <td>0</td>\n",
       "      <td>0</td>\n",
       "      <td>0</td>\n",
       "      <td>0</td>\n",
       "      <td>0</td>\n",
       "      <td>1</td>\n",
       "    </tr>\n",
       "    <tr>\n",
       "      <th>217</th>\n",
       "      <td>Bhadrapur</td>\n",
       "      <td>217</td>\n",
       "      <td>217</td>\n",
       "      <td>207</td>\n",
       "      <td>151</td>\n",
       "      <td>88.079965</td>\n",
       "      <td>26.558706</td>\n",
       "      <td>35</td>\n",
       "      <td>576000000</td>\n",
       "      <td>89.947029</td>\n",
       "      <td>...</td>\n",
       "      <td>0</td>\n",
       "      <td>0</td>\n",
       "      <td>0</td>\n",
       "      <td>0</td>\n",
       "      <td>0</td>\n",
       "      <td>0</td>\n",
       "      <td>0</td>\n",
       "      <td>0</td>\n",
       "      <td>0</td>\n",
       "      <td>1</td>\n",
       "    </tr>\n",
       "    <tr>\n",
       "      <th>218</th>\n",
       "      <td>Bhadrapur</td>\n",
       "      <td>218</td>\n",
       "      <td>218</td>\n",
       "      <td>215</td>\n",
       "      <td>149</td>\n",
       "      <td>88.087847</td>\n",
       "      <td>26.539138</td>\n",
       "      <td>0</td>\n",
       "      <td>-144000000</td>\n",
       "      <td>89.729904</td>\n",
       "      <td>...</td>\n",
       "      <td>0</td>\n",
       "      <td>0</td>\n",
       "      <td>0</td>\n",
       "      <td>0</td>\n",
       "      <td>0</td>\n",
       "      <td>0</td>\n",
       "      <td>0</td>\n",
       "      <td>0</td>\n",
       "      <td>0</td>\n",
       "      <td>1</td>\n",
       "    </tr>\n",
       "    <tr>\n",
       "      <th>219</th>\n",
       "      <td>Bhadrapur</td>\n",
       "      <td>219</td>\n",
       "      <td>219</td>\n",
       "      <td>206</td>\n",
       "      <td>150</td>\n",
       "      <td>88.091459</td>\n",
       "      <td>26.556422</td>\n",
       "      <td>176</td>\n",
       "      <td>-720000000</td>\n",
       "      <td>89.947029</td>\n",
       "      <td>...</td>\n",
       "      <td>0</td>\n",
       "      <td>0</td>\n",
       "      <td>0</td>\n",
       "      <td>0</td>\n",
       "      <td>0</td>\n",
       "      <td>0</td>\n",
       "      <td>0</td>\n",
       "      <td>0</td>\n",
       "      <td>0</td>\n",
       "      <td>1</td>\n",
       "    </tr>\n",
       "  </tbody>\n",
       "</table>\n",
       "<p>218 rows × 36 columns</p>\n",
       "</div>"
      ],
      "text/plain": [
       "              NAME   ST  Unnamed: 0  Rowid  XY水道水位置情報          X          Y  \\\n",
       "0    Mahendranagar    0           0      4        192  80.173190  28.967150   \n",
       "1    Mahendranagar    1           1      2        191  80.175688  28.974328   \n",
       "2    Mahendranagar    2           2      3        188  80.179382  28.958797   \n",
       "3    Mahendranagar    3           3      1        190  80.186682  28.971595   \n",
       "4        Dhangadhi    4           4      7        197  80.565455  28.705933   \n",
       "..             ...  ...         ...    ...        ...        ...        ...   \n",
       "215      Bhadrapur  215         215    213        148  88.074577  26.545469   \n",
       "216      Bhadrapur  216         216    208        152  88.079301  26.561851   \n",
       "217      Bhadrapur  217         217    207        151  88.079965  26.558706   \n",
       "218      Bhadrapur  218         218    215        149  88.087847  26.539138   \n",
       "219      Bhadrapur  219         219    206        150  88.091459  26.556422   \n",
       "\n",
       "     陰影起伏         曲率        傾斜角  ...  FL  PF  RF  Turbidity.  pH.  Ammonia.  \\\n",
       "0      61  864000000  89.976921  ...   0   0   0           0    0         0   \n",
       "1      25  432000000  89.980904  ...   0   0   0           0    0         0   \n",
       "2       0 -288000000  89.947029  ...   0   0   0           0    0         0   \n",
       "3       0 -432000000  89.945984  ...   0   0   0           0    0         0   \n",
       "4     177 -432000000  89.955597  ...   0   0   0           0    0         0   \n",
       "..    ...        ...        ...  ...  ..  ..  ..         ...  ...       ...   \n",
       "215     0  864000000  89.962547  ...   0   0   0           0    0         0   \n",
       "216   171 -720000000  89.914589  ...   0   0   0           0    0         0   \n",
       "217    35  576000000  89.947029  ...   0   0   0           0    0         0   \n",
       "218     0 -144000000  89.729904  ...   0   0   0           0    0         0   \n",
       "219   176 -720000000  89.947029  ...   0   0   0           0    0         0   \n",
       "\n",
       "     Nitrite.  Nitrate.  Iron.  EColi.  \n",
       "0           0         0      0       0  \n",
       "1           0         0      0       1  \n",
       "2           0         0      0       0  \n",
       "3           0         0      0       0  \n",
       "4           0         0      0       0  \n",
       "..        ...       ...    ...     ...  \n",
       "215         0         0      0       1  \n",
       "216         0         0      0       1  \n",
       "217         0         0      0       1  \n",
       "218         0         0      0       1  \n",
       "219         0         0      0       1  \n",
       "\n",
       "[218 rows x 36 columns]"
      ]
     },
     "execution_count": 4,
     "metadata": {},
     "output_type": "execute_result"
    }
   ],
   "source": [
    "df"
   ]
  },
  {
   "cell_type": "code",
   "execution_count": 5,
   "metadata": {},
   "outputs": [],
   "source": [
    "y=df['EColi.'].values"
   ]
  },
  {
   "cell_type": "code",
   "execution_count": 12,
   "metadata": {},
   "outputs": [],
   "source": [
    "X=df.iloc[:, [7, 8, 9, 10, 11, 13, 14, 15, 16, 17, 18, 19, 20, 21, 22, 23, 24, 25, 26, 28]]"
   ]
  },
  {
   "cell_type": "code",
   "execution_count": 13,
   "metadata": {},
   "outputs": [],
   "source": [
    "X=(X-X.mean(axis=0))/X.std(axis=0)\n"
   ]
  },
  {
   "cell_type": "code",
   "execution_count": 14,
   "metadata": {},
   "outputs": [],
   "source": [
    "def threshold(fare):\n",
    "    if fare<=0:\n",
    "        return 0\n",
    "    else:\n",
    "        return 1"
   ]
  },
  {
   "cell_type": "code",
   "execution_count": 15,
   "metadata": {},
   "outputs": [],
   "source": [
    "X['ST.1']=X['ST.1'].apply(threshold)\n",
    "X['RSF']=X['RSF'].apply(threshold)\n",
    "X['FL']=X['FL'].apply(threshold)\n",
    "X['RF']=X['RF'].apply(threshold)\n"
   ]
  },
  {
   "cell_type": "code",
   "execution_count": 16,
   "metadata": {},
   "outputs": [
    {
     "data": {
      "text/html": [
       "<div>\n",
       "<style scoped>\n",
       "    .dataframe tbody tr th:only-of-type {\n",
       "        vertical-align: middle;\n",
       "    }\n",
       "\n",
       "    .dataframe tbody tr th {\n",
       "        vertical-align: top;\n",
       "    }\n",
       "\n",
       "    .dataframe thead th {\n",
       "        text-align: right;\n",
       "    }\n",
       "</style>\n",
       "<table border=\"1\" class=\"dataframe\">\n",
       "  <thead>\n",
       "    <tr style=\"text-align: right;\">\n",
       "      <th></th>\n",
       "      <th>陰影起伏</th>\n",
       "      <th>曲率</th>\n",
       "      <th>傾斜角</th>\n",
       "      <th>傾斜方向</th>\n",
       "      <th>高度</th>\n",
       "      <th>supply hour</th>\n",
       "      <th>no water days</th>\n",
       "      <th>total population</th>\n",
       "      <th>population served</th>\n",
       "      <th>popu-served</th>\n",
       "      <th>number taps</th>\n",
       "      <th>pipes(km)</th>\n",
       "      <th>pipes/tabs \\n個/km</th>\n",
       "      <th>served/pipes</th>\n",
       "      <th>(popu-served)/pipes\\n  /km</th>\n",
       "      <th>Age of oldeset\\npipe</th>\n",
       "      <th>ST.1</th>\n",
       "      <th>RSF</th>\n",
       "      <th>FL</th>\n",
       "      <th>RF</th>\n",
       "    </tr>\n",
       "  </thead>\n",
       "  <tbody>\n",
       "    <tr>\n",
       "      <th>0</th>\n",
       "      <td>0.174472</td>\n",
       "      <td>0.540815</td>\n",
       "      <td>0.097653</td>\n",
       "      <td>0.716998</td>\n",
       "      <td>-0.895303</td>\n",
       "      <td>0.495220</td>\n",
       "      <td>3.180139</td>\n",
       "      <td>-0.973277</td>\n",
       "      <td>-0.972950</td>\n",
       "      <td>-0.965061</td>\n",
       "      <td>-0.987453</td>\n",
       "      <td>-1.027710</td>\n",
       "      <td>-0.125200</td>\n",
       "      <td>-0.970630</td>\n",
       "      <td>1.089385</td>\n",
       "      <td>-0.895273</td>\n",
       "      <td>0</td>\n",
       "      <td>1</td>\n",
       "      <td>0</td>\n",
       "      <td>0</td>\n",
       "    </tr>\n",
       "    <tr>\n",
       "      <th>1</th>\n",
       "      <td>-0.350549</td>\n",
       "      <td>0.158857</td>\n",
       "      <td>0.098117</td>\n",
       "      <td>-1.459975</td>\n",
       "      <td>-0.891949</td>\n",
       "      <td>0.495220</td>\n",
       "      <td>3.180139</td>\n",
       "      <td>-0.973277</td>\n",
       "      <td>-0.972950</td>\n",
       "      <td>-0.965061</td>\n",
       "      <td>-0.987453</td>\n",
       "      <td>-1.027710</td>\n",
       "      <td>-0.125200</td>\n",
       "      <td>-0.970630</td>\n",
       "      <td>1.089385</td>\n",
       "      <td>-0.895273</td>\n",
       "      <td>0</td>\n",
       "      <td>1</td>\n",
       "      <td>0</td>\n",
       "      <td>0</td>\n",
       "    </tr>\n",
       "    <tr>\n",
       "      <th>2</th>\n",
       "      <td>-0.715146</td>\n",
       "      <td>-0.477739</td>\n",
       "      <td>0.094176</td>\n",
       "      <td>-0.551791</td>\n",
       "      <td>-0.907042</td>\n",
       "      <td>0.495220</td>\n",
       "      <td>3.180139</td>\n",
       "      <td>-0.973277</td>\n",
       "      <td>-0.972950</td>\n",
       "      <td>-0.965061</td>\n",
       "      <td>-0.987453</td>\n",
       "      <td>-1.027710</td>\n",
       "      <td>-0.125200</td>\n",
       "      <td>-0.970630</td>\n",
       "      <td>1.089385</td>\n",
       "      <td>-0.895273</td>\n",
       "      <td>0</td>\n",
       "      <td>1</td>\n",
       "      <td>0</td>\n",
       "      <td>0</td>\n",
       "    </tr>\n",
       "    <tr>\n",
       "      <th>3</th>\n",
       "      <td>-0.715146</td>\n",
       "      <td>-0.605059</td>\n",
       "      <td>0.094055</td>\n",
       "      <td>-0.433483</td>\n",
       "      <td>-0.902011</td>\n",
       "      <td>0.495220</td>\n",
       "      <td>3.180139</td>\n",
       "      <td>-0.973277</td>\n",
       "      <td>-0.972950</td>\n",
       "      <td>-0.965061</td>\n",
       "      <td>-0.987453</td>\n",
       "      <td>-1.027710</td>\n",
       "      <td>-0.125200</td>\n",
       "      <td>-0.970630</td>\n",
       "      <td>1.089385</td>\n",
       "      <td>-0.895273</td>\n",
       "      <td>0</td>\n",
       "      <td>1</td>\n",
       "      <td>0</td>\n",
       "      <td>0</td>\n",
       "    </tr>\n",
       "    <tr>\n",
       "      <th>4</th>\n",
       "      <td>1.866204</td>\n",
       "      <td>-0.605059</td>\n",
       "      <td>0.095173</td>\n",
       "      <td>1.350431</td>\n",
       "      <td>-0.962380</td>\n",
       "      <td>0.508446</td>\n",
       "      <td>-1.462165</td>\n",
       "      <td>-0.983715</td>\n",
       "      <td>-0.958190</td>\n",
       "      <td>-1.085833</td>\n",
       "      <td>-0.961967</td>\n",
       "      <td>-1.002963</td>\n",
       "      <td>-0.163274</td>\n",
       "      <td>-0.620507</td>\n",
       "      <td>-0.516834</td>\n",
       "      <td>-0.895273</td>\n",
       "      <td>0</td>\n",
       "      <td>0</td>\n",
       "      <td>0</td>\n",
       "      <td>0</td>\n",
       "    </tr>\n",
       "    <tr>\n",
       "      <th>...</th>\n",
       "      <td>...</td>\n",
       "      <td>...</td>\n",
       "      <td>...</td>\n",
       "      <td>...</td>\n",
       "      <td>...</td>\n",
       "      <td>...</td>\n",
       "      <td>...</td>\n",
       "      <td>...</td>\n",
       "      <td>...</td>\n",
       "      <td>...</td>\n",
       "      <td>...</td>\n",
       "      <td>...</td>\n",
       "      <td>...</td>\n",
       "      <td>...</td>\n",
       "      <td>...</td>\n",
       "      <td>...</td>\n",
       "      <td>...</td>\n",
       "      <td>...</td>\n",
       "      <td>...</td>\n",
       "      <td>...</td>\n",
       "    </tr>\n",
       "    <tr>\n",
       "      <th>215</th>\n",
       "      <td>-0.715146</td>\n",
       "      <td>0.540815</td>\n",
       "      <td>0.095982</td>\n",
       "      <td>-0.081067</td>\n",
       "      <td>-1.111627</td>\n",
       "      <td>1.577105</td>\n",
       "      <td>-1.495491</td>\n",
       "      <td>-0.995011</td>\n",
       "      <td>-0.972194</td>\n",
       "      <td>-1.085148</td>\n",
       "      <td>-0.989313</td>\n",
       "      <td>-1.004653</td>\n",
       "      <td>-0.024862</td>\n",
       "      <td>-1.228164</td>\n",
       "      <td>-0.503506</td>\n",
       "      <td>-0.741817</td>\n",
       "      <td>1</td>\n",
       "      <td>1</td>\n",
       "      <td>0</td>\n",
       "      <td>0</td>\n",
       "    </tr>\n",
       "    <tr>\n",
       "      <th>216</th>\n",
       "      <td>1.778700</td>\n",
       "      <td>-0.859697</td>\n",
       "      <td>0.090403</td>\n",
       "      <td>1.256573</td>\n",
       "      <td>-1.108273</td>\n",
       "      <td>1.577105</td>\n",
       "      <td>-1.495491</td>\n",
       "      <td>-0.995011</td>\n",
       "      <td>-0.972194</td>\n",
       "      <td>-1.085148</td>\n",
       "      <td>-0.989313</td>\n",
       "      <td>-1.004653</td>\n",
       "      <td>-0.024862</td>\n",
       "      <td>-1.228164</td>\n",
       "      <td>-0.503506</td>\n",
       "      <td>-0.741817</td>\n",
       "      <td>1</td>\n",
       "      <td>1</td>\n",
       "      <td>0</td>\n",
       "      <td>0</td>\n",
       "    </tr>\n",
       "    <tr>\n",
       "      <th>217</th>\n",
       "      <td>-0.204710</td>\n",
       "      <td>0.286176</td>\n",
       "      <td>0.094176</td>\n",
       "      <td>0.626272</td>\n",
       "      <td>-1.109950</td>\n",
       "      <td>1.577105</td>\n",
       "      <td>-1.495491</td>\n",
       "      <td>-0.995011</td>\n",
       "      <td>-0.972194</td>\n",
       "      <td>-1.085148</td>\n",
       "      <td>-0.989313</td>\n",
       "      <td>-1.004653</td>\n",
       "      <td>-0.024862</td>\n",
       "      <td>-1.228164</td>\n",
       "      <td>-0.503506</td>\n",
       "      <td>-0.741817</td>\n",
       "      <td>1</td>\n",
       "      <td>1</td>\n",
       "      <td>0</td>\n",
       "      <td>0</td>\n",
       "    </tr>\n",
       "    <tr>\n",
       "      <th>218</th>\n",
       "      <td>-0.715146</td>\n",
       "      <td>-0.350420</td>\n",
       "      <td>0.068921</td>\n",
       "      <td>-0.433483</td>\n",
       "      <td>-1.120012</td>\n",
       "      <td>1.577105</td>\n",
       "      <td>-1.495491</td>\n",
       "      <td>-0.995011</td>\n",
       "      <td>-0.972194</td>\n",
       "      <td>-1.085148</td>\n",
       "      <td>-0.989313</td>\n",
       "      <td>-1.004653</td>\n",
       "      <td>-0.024862</td>\n",
       "      <td>-1.228164</td>\n",
       "      <td>-0.503506</td>\n",
       "      <td>-0.741817</td>\n",
       "      <td>1</td>\n",
       "      <td>1</td>\n",
       "      <td>0</td>\n",
       "      <td>0</td>\n",
       "    </tr>\n",
       "    <tr>\n",
       "      <th>219</th>\n",
       "      <td>1.851620</td>\n",
       "      <td>-0.859697</td>\n",
       "      <td>0.094176</td>\n",
       "      <td>1.331104</td>\n",
       "      <td>-1.109950</td>\n",
       "      <td>1.577105</td>\n",
       "      <td>-1.495491</td>\n",
       "      <td>-0.995011</td>\n",
       "      <td>-0.972194</td>\n",
       "      <td>-1.085148</td>\n",
       "      <td>-0.989313</td>\n",
       "      <td>-1.004653</td>\n",
       "      <td>-0.024862</td>\n",
       "      <td>-1.228164</td>\n",
       "      <td>-0.503506</td>\n",
       "      <td>-0.741817</td>\n",
       "      <td>1</td>\n",
       "      <td>1</td>\n",
       "      <td>0</td>\n",
       "      <td>0</td>\n",
       "    </tr>\n",
       "  </tbody>\n",
       "</table>\n",
       "<p>218 rows × 20 columns</p>\n",
       "</div>"
      ],
      "text/plain": [
       "         陰影起伏        曲率       傾斜角      傾斜方向        高度  supply hour  \\\n",
       "0    0.174472  0.540815  0.097653  0.716998 -0.895303     0.495220   \n",
       "1   -0.350549  0.158857  0.098117 -1.459975 -0.891949     0.495220   \n",
       "2   -0.715146 -0.477739  0.094176 -0.551791 -0.907042     0.495220   \n",
       "3   -0.715146 -0.605059  0.094055 -0.433483 -0.902011     0.495220   \n",
       "4    1.866204 -0.605059  0.095173  1.350431 -0.962380     0.508446   \n",
       "..        ...       ...       ...       ...       ...          ...   \n",
       "215 -0.715146  0.540815  0.095982 -0.081067 -1.111627     1.577105   \n",
       "216  1.778700 -0.859697  0.090403  1.256573 -1.108273     1.577105   \n",
       "217 -0.204710  0.286176  0.094176  0.626272 -1.109950     1.577105   \n",
       "218 -0.715146 -0.350420  0.068921 -0.433483 -1.120012     1.577105   \n",
       "219  1.851620 -0.859697  0.094176  1.331104 -1.109950     1.577105   \n",
       "\n",
       "     no water days  total population   population served  popu-served  \\\n",
       "0         3.180139          -0.973277          -0.972950    -0.965061   \n",
       "1         3.180139          -0.973277          -0.972950    -0.965061   \n",
       "2         3.180139          -0.973277          -0.972950    -0.965061   \n",
       "3         3.180139          -0.973277          -0.972950    -0.965061   \n",
       "4        -1.462165          -0.983715          -0.958190    -1.085833   \n",
       "..             ...                ...                ...          ...   \n",
       "215      -1.495491          -0.995011          -0.972194    -1.085148   \n",
       "216      -1.495491          -0.995011          -0.972194    -1.085148   \n",
       "217      -1.495491          -0.995011          -0.972194    -1.085148   \n",
       "218      -1.495491          -0.995011          -0.972194    -1.085148   \n",
       "219      -1.495491          -0.995011          -0.972194    -1.085148   \n",
       "\n",
       "     number taps  pipes(km)  pipes/tabs \\n個/km  served/pipes  \\\n",
       "0      -0.987453  -1.027710          -0.125200     -0.970630   \n",
       "1      -0.987453  -1.027710          -0.125200     -0.970630   \n",
       "2      -0.987453  -1.027710          -0.125200     -0.970630   \n",
       "3      -0.987453  -1.027710          -0.125200     -0.970630   \n",
       "4      -0.961967  -1.002963          -0.163274     -0.620507   \n",
       "..           ...        ...                ...           ...   \n",
       "215    -0.989313  -1.004653          -0.024862     -1.228164   \n",
       "216    -0.989313  -1.004653          -0.024862     -1.228164   \n",
       "217    -0.989313  -1.004653          -0.024862     -1.228164   \n",
       "218    -0.989313  -1.004653          -0.024862     -1.228164   \n",
       "219    -0.989313  -1.004653          -0.024862     -1.228164   \n",
       "\n",
       "     (popu-served)/pipes\\n  /km  Age of oldeset\\npipe   ST.1  RSF  FL  RF  \n",
       "0                      1.089385              -0.895273     0    1   0   0  \n",
       "1                      1.089385              -0.895273     0    1   0   0  \n",
       "2                      1.089385              -0.895273     0    1   0   0  \n",
       "3                      1.089385              -0.895273     0    1   0   0  \n",
       "4                     -0.516834              -0.895273     0    0   0   0  \n",
       "..                          ...                    ...   ...  ...  ..  ..  \n",
       "215                   -0.503506              -0.741817     1    1   0   0  \n",
       "216                   -0.503506              -0.741817     1    1   0   0  \n",
       "217                   -0.503506              -0.741817     1    1   0   0  \n",
       "218                   -0.503506              -0.741817     1    1   0   0  \n",
       "219                   -0.503506              -0.741817     1    1   0   0  \n",
       "\n",
       "[218 rows x 20 columns]"
      ]
     },
     "execution_count": 16,
     "metadata": {},
     "output_type": "execute_result"
    }
   ],
   "source": [
    "X"
   ]
  },
  {
   "cell_type": "code",
   "execution_count": 17,
   "metadata": {},
   "outputs": [],
   "source": [
    "X=X.values"
   ]
  },
  {
   "cell_type": "code",
   "execution_count": 18,
   "metadata": {},
   "outputs": [
    {
     "data": {
      "text/plain": [
       "array([[ 0.1744716 ,  0.54081513,  0.09765348, ...,  1.        ,\n",
       "         0.        ,  0.        ],\n",
       "       [-0.35054876,  0.15885714,  0.09811672, ...,  1.        ,\n",
       "         0.        ,  0.        ],\n",
       "       [-0.71514624, -0.4777395 ,  0.09417649, ...,  1.        ,\n",
       "         0.        ,  0.        ],\n",
       "       ...,\n",
       "       [-0.20470977,  0.28617647,  0.09417649, ...,  1.        ,\n",
       "         0.        ,  0.        ],\n",
       "       [-0.71514624, -0.35042017,  0.06892085, ...,  1.        ,\n",
       "         0.        ,  0.        ],\n",
       "       [ 1.85161998, -0.85969748,  0.09417649, ...,  1.        ,\n",
       "         0.        ,  0.        ]])"
      ]
     },
     "execution_count": 18,
     "metadata": {},
     "output_type": "execute_result"
    }
   ],
   "source": [
    "X"
   ]
  },
  {
   "cell_type": "code",
   "execution_count": 19,
   "metadata": {},
   "outputs": [],
   "source": [
    "from sklearn.svm import SVC"
   ]
  },
  {
   "cell_type": "code",
   "execution_count": 20,
   "metadata": {},
   "outputs": [],
   "source": [
    "svm=SVC(kernel='linear', C=1000, random_state=1)"
   ]
  },
  {
   "cell_type": "code",
   "execution_count": 21,
   "metadata": {},
   "outputs": [],
   "source": [
    "from sklearn.base import clone\n",
    "from itertools import combinations\n",
    "import numpy as np\n",
    "from sklearn.model_selection import train_test_split\n",
    "from sklearn.metrics import accuracy_score"
   ]
  },
  {
   "cell_type": "code",
   "execution_count": 22,
   "metadata": {},
   "outputs": [],
   "source": [
    "class SBS():\n",
    "    def __init__(self, estimator, k_features, scoring=accuracy_score,\n",
    "                 test_size=0.3, random_state=1):\n",
    "        self.scoring=scoring\n",
    "        self.estimator=clone(estimator)\n",
    "        self.k_features=k_features\n",
    "        self.test_size=test_size\n",
    "        self.random_state=random_state\n",
    "        \n",
    "    def fit(self, X, y):\n",
    "        X_train, X_test, y_train, y_test=train_test_split(X, y, test_size=self.test_size,\n",
    "                                                          random_state=self.random_state)\n",
    "        dim=X_train.shape[1]\n",
    "        self.indices_=tuple(range(dim))\n",
    "        self.subsets_=[self.indices_]\n",
    "        \n",
    "        score=self._calc_score(X_train, y_train, X_test, y_test, self.indices_)\n",
    "        \n",
    "        self.scores_=[score]\n",
    "        \n",
    "        while dim>self.k_features:\n",
    "            scores=[]\n",
    "            subsets=[]\n",
    "            \n",
    "            for p in combinations(self.indices_, r=dim-1):\n",
    "                score=self._calc_score(X_train, y_train, X_test, y_test, p)\n",
    "                scores.append(score)\n",
    "                subsets.append(p)\n",
    "            \n",
    "            best=np.argmax(scores)\n",
    "            self.indices_=subsets[best]\n",
    "            self.subsets_.append(self.indices_)\n",
    "            dim-=1\n",
    "            \n",
    "            self.scores_.append(scores[best])\n",
    "            \n",
    "        self.k_score_=self.scores_[-1]\n",
    "        \n",
    "        return self\n",
    "    \n",
    "    def transform(self, X):\n",
    "        return X[:, self.indices_]\n",
    "    \n",
    "    def _calc_score(self, X_train, y_train, X_test, y_test, indices):\n",
    "        self.estimator.fit(X_train[:, indices], y_train)\n",
    "        y_pred=self.estimator.predict(X_test[:, indices])\n",
    "        score=self.scoring(y_test, y_pred)\n",
    "        return score\n",
    "    "
   ]
  },
  {
   "cell_type": "code",
   "execution_count": null,
   "metadata": {},
   "outputs": [],
   "source": [
    "from sklearn.svm import SVC\n",
    "import matplotlib.pyplot as plt\n",
    "svm=SVC(kernel='linear', C=1000, random_state=1)\n",
    "sbs=SBS(svm, k_features=1)\n",
    "sbs.fit(X, y)"
   ]
  },
  {
   "cell_type": "code",
   "execution_count": 33,
   "metadata": {},
   "outputs": [
    {
     "data": {
      "text/plain": [
       "[<matplotlib.lines.Line2D at 0x21ec5583788>]"
      ]
     },
     "execution_count": 33,
     "metadata": {},
     "output_type": "execute_result"
    },
    {
     "data": {
      "image/png": "[encoded data removed]",
      "text/plain": [
       "<Figure size 432x288 with 1 Axes>"
      ]
     },
     "metadata": {
      "needs_background": "light"
     },
     "output_type": "display_data"
    }
   ],
   "source": [
    "k_feat=[len(k) for k in sbs.subsets_]\n",
    "plt.plot(k_feat, sbs.scores_, marker='o')"
   ]
  },
  {
   "cell_type": "code",
   "execution_count": 15,
   "metadata": {},
   "outputs": [
    {
     "ename": "NameError",
     "evalue": "name 'X_train_std' is not defined",
     "output_type": "error",
     "traceback": [
      "\u001b[1;31m---------------------------------------------------------------------------\u001b[0m",
      "\u001b[1;31mNameError\u001b[0m                                 Traceback (most recent call last)",
      "\u001b[1;32m<ipython-input-15-431ee9f16482>\u001b[0m in \u001b[0;36m<module>\u001b[1;34m\u001b[0m\n\u001b[1;32m----> 1\u001b[1;33m \u001b[0msvm\u001b[0m\u001b[1;33m.\u001b[0m\u001b[0mfit\u001b[0m\u001b[1;33m(\u001b[0m\u001b[0mX_train_std\u001b[0m\u001b[1;33m,\u001b[0m \u001b[0my_train\u001b[0m\u001b[1;33m)\u001b[0m\u001b[1;33m\u001b[0m\u001b[1;33m\u001b[0m\u001b[0m\n\u001b[0m",
      "\u001b[1;31mNameError\u001b[0m: name 'X_train_std' is not defined"
     ]
    }
   ],
   "source": []
  },
  {
   "cell_type": "code",
   "execution_count": 85,
   "metadata": {},
   "outputs": [
    {
     "data": {
      "text/plain": [
       "0.6973684210526315"
      ]
     },
     "execution_count": 85,
     "metadata": {},
     "output_type": "execute_result"
    }
   ],
   "source": []
  },
  {
   "cell_type": "code",
   "execution_count": 86,
   "metadata": {},
   "outputs": [
    {
     "data": {
      "text/plain": [
       "0.6666666666666666"
      ]
     },
     "execution_count": 86,
     "metadata": {},
     "output_type": "execute_result"
    }
   ],
   "source": []
  },
  {
   "cell_type": "code",
   "execution_count": 34,
   "metadata": {},
   "outputs": [
    {
     "data": {
      "text/plain": [
       "[(0,\n",
       "  1,\n",
       "  2,\n",
       "  3,\n",
       "  4,\n",
       "  5,\n",
       "  6,\n",
       "  7,\n",
       "  8,\n",
       "  9,\n",
       "  10,\n",
       "  11,\n",
       "  12,\n",
       "  13,\n",
       "  14,\n",
       "  15,\n",
       "  16,\n",
       "  17,\n",
       "  18,\n",
       "  19,\n",
       "  20,\n",
       "  21),\n",
       " (0, 1, 2, 3, 4, 6, 7, 8, 9, 10, 11, 12, 13, 14, 15, 16, 17, 18, 19, 20, 21),\n",
       " (0, 1, 2, 3, 4, 6, 7, 8, 9, 10, 11, 12, 13, 14, 15, 16, 17, 18, 19, 21),\n",
       " (0, 1, 2, 3, 4, 6, 7, 8, 9, 10, 11, 12, 13, 14, 15, 17, 18, 19, 21),\n",
       " (0, 1, 2, 3, 4, 6, 7, 8, 9, 10, 11, 12, 13, 14, 17, 18, 19, 21),\n",
       " (0, 1, 2, 3, 4, 6, 7, 8, 9, 10, 12, 13, 14, 17, 18, 19, 21),\n",
       " (0, 1, 2, 3, 4, 6, 7, 8, 9, 12, 13, 14, 17, 18, 19, 21),\n",
       " (0, 1, 2, 3, 4, 7, 8, 9, 12, 13, 14, 17, 18, 19, 21),\n",
       " (0, 1, 2, 3, 4, 7, 9, 12, 13, 14, 17, 18, 19, 21),\n",
       " (0, 1, 2, 3, 4, 7, 9, 12, 13, 14, 17, 18, 19),\n",
       " (0, 1, 2, 3, 4, 7, 9, 12, 13, 14, 17, 18),\n",
       " (0, 1, 2, 4, 7, 9, 12, 13, 14, 17, 18),\n",
       " (0, 1, 2, 4, 7, 9, 12, 13, 14, 17),\n",
       " (0, 1, 2, 7, 9, 12, 13, 14, 17),\n",
       " (0, 1, 7, 9, 12, 13, 14, 17),\n",
       " (0, 7, 9, 12, 13, 14, 17),\n",
       " (7, 9, 12, 13, 14, 17),\n",
       " (7, 9, 12, 13, 17),\n",
       " (7, 9, 13, 17),\n",
       " (7, 13, 17),\n",
       " (7, 17),\n",
       " (17,)]"
      ]
     },
     "execution_count": 34,
     "metadata": {},
     "output_type": "execute_result"
    }
   ],
   "source": [
    "sbs.subsets_"
   ]
  },
  {
   "cell_type": "code",
   "execution_count": 35,
   "metadata": {},
   "outputs": [
    {
     "data": {
      "text/plain": [
       "[0.6212121212121212,\n",
       " 0.7121212121212122,\n",
       " 0.7272727272727273,\n",
       " 0.7272727272727273,\n",
       " 0.7272727272727273,\n",
       " 0.7272727272727273,\n",
       " 0.7272727272727273,\n",
       " 0.7272727272727273,\n",
       " 0.7272727272727273,\n",
       " 0.7272727272727273,\n",
       " 0.7272727272727273,\n",
       " 0.7272727272727273,\n",
       " 0.7272727272727273,\n",
       " 0.7272727272727273,\n",
       " 0.7272727272727273,\n",
       " 0.7272727272727273,\n",
       " 0.7272727272727273,\n",
       " 0.6666666666666666,\n",
       " 0.6666666666666666,\n",
       " 0.5757575757575758,\n",
       " 0.5454545454545454,\n",
       " 0.5454545454545454]"
      ]
     },
     "execution_count": 35,
     "metadata": {},
     "output_type": "execute_result"
    }
   ],
   "source": [
    "sbs.scores_"
   ]
  },
  {
   "cell_type": "code",
   "execution_count": 27,
   "metadata": {},
   "outputs": [
    {
     "data": {
      "text/plain": [
       "array([[-0.71514624, -0.98701681,  0.09644123, ...,  0.        ,\n",
       "         0.        ,  0.        ],\n",
       "       [-0.29221317, -0.4777395 ,  0.09517308, ...,  0.        ,\n",
       "         0.        ,  0.        ],\n",
       "       [-0.71514624, -0.22310084,  0.09947983, ...,  1.        ,\n",
       "         1.        ,  1.        ],\n",
       "       ...,\n",
       "       [-0.71514624, -0.60505882,  0.09758248, ...,  0.        ,\n",
       "         0.        ,  0.        ],\n",
       "       [-0.71514624, -1.49629412,  0.09621316, ...,  1.        ,\n",
       "         1.        ,  1.        ],\n",
       "       [-0.71514624, -1.49629412,  0.09884886, ...,  0.        ,\n",
       "         0.        ,  0.        ]])"
      ]
     },
     "execution_count": 27,
     "metadata": {},
     "output_type": "execute_result"
    }
   ],
   "source": [
    "X_train"
   ]
  },
  {
   "cell_type": "code",
   "execution_count": 28,
   "metadata": {},
   "outputs": [
    {
     "data": {
      "text/plain": [
       "SVC(C=1000, break_ties=False, cache_size=200, class_weight=None, coef0=0.0,\n",
       "    decision_function_shape='ovr', degree=3, gamma='scale', kernel='linear',\n",
       "    max_iter=-1, probability=False, random_state=None, shrinking=True,\n",
       "    tol=0.001, verbose=False)"
      ]
     },
     "execution_count": 28,
     "metadata": {},
     "output_type": "execute_result"
    }
   ],
   "source": [
    "svm=SVC(kernel='linear', C=1000)\n",
    "svm.fit(X_train, y_train)"
   ]
  },
  {
   "cell_type": "code",
   "execution_count": 30,
   "metadata": {},
   "outputs": [
    {
     "data": {
      "text/plain": [
       "0.6710526315789473"
      ]
     },
     "execution_count": 30,
     "metadata": {},
     "output_type": "execute_result"
    }
   ],
   "source": [
    "svm.score(X_train, y_train)"
   ]
  },
  {
   "cell_type": "code",
   "execution_count": 31,
   "metadata": {},
   "outputs": [
    {
     "data": {
      "text/plain": [
       "0.6212121212121212"
      ]
     },
     "execution_count": 31,
     "metadata": {},
     "output_type": "execute_result"
    }
   ],
   "source": [
    "svm.score(X_test, y_test)"
   ]
  },
  {
   "cell_type": "code",
   "execution_count": 49,
   "metadata": {},
   "outputs": [],
   "source": [
    "from sklearn.model_selection import cross_val_score\n",
    "score=cross_val_score(estimator=svm,\n",
    "                      X=X_train_std, y=y_train,\n",
    "                      cv=10, n_jobs=1)"
   ]
  },
  {
   "cell_type": "code",
   "execution_count": 50,
   "metadata": {},
   "outputs": [
    {
     "data": {
      "text/plain": [
       "array([0.5625    , 0.5625    , 0.73333333, 0.6       , 0.66666667,\n",
       "       0.46666667, 0.73333333, 0.6       , 0.46666667, 0.6       ])"
      ]
     },
     "execution_count": 50,
     "metadata": {},
     "output_type": "execute_result"
    }
   ],
   "source": [
    "score"
   ]
  },
  {
   "cell_type": "code",
   "execution_count": 51,
   "metadata": {},
   "outputs": [
    {
     "data": {
      "text/plain": [
       "0.5991666666666666"
      ]
     },
     "execution_count": 51,
     "metadata": {},
     "output_type": "execute_result"
    }
   ],
   "source": [
    "np.mean(score)"
   ]
  },
  {
   "cell_type": "code",
   "execution_count": 52,
   "metadata": {},
   "outputs": [],
   "source": [
    "from sklearn.model_selection import GridSearchCV\n",
    "from sklearn.svm import SVC\n",
    "from sklearn.pipeline import make_pipeline\n",
    "pipe_svc=make_pipeline( SVC(random_state=1))"
   ]
  },
  {
   "cell_type": "code",
   "execution_count": 53,
   "metadata": {},
   "outputs": [],
   "source": [
    "param_range=[0.0001, 0.001, 0.01, 0.1, 1.0, 10.0, 100.0, 1000.0]"
   ]
  },
  {
   "cell_type": "code",
   "execution_count": 54,
   "metadata": {},
   "outputs": [],
   "source": [
    "param_grid=[{'svc__C':param_range, 'svc__kernel':['linear']},\n",
    "            {'svc__C':param_range, 'svc__gamma':param_range,\n",
    "             'svc__kernel':['rbf']}]"
   ]
  },
  {
   "cell_type": "code",
   "execution_count": 55,
   "metadata": {},
   "outputs": [],
   "source": [
    "gs=GridSearchCV(estimator=pipe_svc,\n",
    "                param_grid=param_grid,\n",
    "                scoring='accuracy',\n",
    "                cv=10,\n",
    "                n_jobs=-1)"
   ]
  },
  {
   "cell_type": "code",
   "execution_count": 56,
   "metadata": {},
   "outputs": [],
   "source": [
    "gs=gs.fit(X_train_std, y_train)"
   ]
  },
  {
   "cell_type": "code",
   "execution_count": 57,
   "metadata": {},
   "outputs": [
    {
     "data": {
      "text/plain": [
       "0.6250000000000001"
      ]
     },
     "execution_count": 57,
     "metadata": {},
     "output_type": "execute_result"
    }
   ],
   "source": [
    "gs.best_score_"
   ]
  },
  {
   "cell_type": "code",
   "execution_count": 58,
   "metadata": {},
   "outputs": [
    {
     "data": {
      "text/plain": [
       "{'svc__C': 1000.0, 'svc__kernel': 'linear'}"
      ]
     },
     "execution_count": 58,
     "metadata": {},
     "output_type": "execute_result"
    }
   ],
   "source": [
    "gs.best_params_"
   ]
  },
  {
   "cell_type": "code",
   "execution_count": 59,
   "metadata": {},
   "outputs": [],
   "source": [
    "clf=gs.best_estimator_"
   ]
  },
  {
   "cell_type": "code",
   "execution_count": 60,
   "metadata": {},
   "outputs": [
    {
     "data": {
      "text/plain": [
       "Pipeline(memory=None,\n",
       "         steps=[('svc',\n",
       "                 SVC(C=1000.0, break_ties=False, cache_size=200,\n",
       "                     class_weight=None, coef0=0.0,\n",
       "                     decision_function_shape='ovr', degree=3, gamma='scale',\n",
       "                     kernel='linear', max_iter=-1, probability=False,\n",
       "                     random_state=1, shrinking=True, tol=0.001,\n",
       "                     verbose=False))],\n",
       "         verbose=False)"
      ]
     },
     "execution_count": 60,
     "metadata": {},
     "output_type": "execute_result"
    }
   ],
   "source": [
    "clf.fit(X_train_std, y_train)"
   ]
  },
  {
   "cell_type": "code",
   "execution_count": 61,
   "metadata": {},
   "outputs": [
    {
     "data": {
      "text/plain": [
       "0.6666666666666666"
      ]
     },
     "execution_count": 61,
     "metadata": {},
     "output_type": "execute_result"
    }
   ],
   "source": [
    "clf.score(X_test_std, y_test)"
   ]
  },
  {
   "cell_type": "code",
   "execution_count": 63,
   "metadata": {},
   "outputs": [
    {
     "name": "stderr",
     "output_type": "stream",
     "text": [
      "C:\\Users\\kurokiso\\anaconda3\\lib\\site-packages\\sklearn\\linear_model\\_logistic.py:940: ConvergenceWarning: lbfgs failed to converge (status=1):\n",
      "STOP: TOTAL NO. of ITERATIONS REACHED LIMIT.\n",
      "\n",
      "Increase the number of iterations (max_iter) or scale the data as shown in:\n",
      "    https://scikit-learn.org/stable/modules/preprocessing.html\n",
      "Please also refer to the documentation for alternative solver options:\n",
      "    https://scikit-learn.org/stable/modules/linear_model.html#logistic-regression\n",
      "  extra_warning_msg=_LOGISTIC_SOLVER_CONVERGENCE_MSG)\n",
      "C:\\Users\\kurokiso\\anaconda3\\lib\\site-packages\\sklearn\\linear_model\\_logistic.py:940: ConvergenceWarning: lbfgs failed to converge (status=1):\n",
      "STOP: TOTAL NO. of ITERATIONS REACHED LIMIT.\n",
      "\n",
      "Increase the number of iterations (max_iter) or scale the data as shown in:\n",
      "    https://scikit-learn.org/stable/modules/preprocessing.html\n",
      "Please also refer to the documentation for alternative solver options:\n",
      "    https://scikit-learn.org/stable/modules/linear_model.html#logistic-regression\n",
      "  extra_warning_msg=_LOGISTIC_SOLVER_CONVERGENCE_MSG)\n",
      "C:\\Users\\kurokiso\\anaconda3\\lib\\site-packages\\sklearn\\linear_model\\_logistic.py:940: ConvergenceWarning: lbfgs failed to converge (status=1):\n",
      "STOP: TOTAL NO. of ITERATIONS REACHED LIMIT.\n",
      "\n",
      "Increase the number of iterations (max_iter) or scale the data as shown in:\n",
      "    https://scikit-learn.org/stable/modules/preprocessing.html\n",
      "Please also refer to the documentation for alternative solver options:\n",
      "    https://scikit-learn.org/stable/modules/linear_model.html#logistic-regression\n",
      "  extra_warning_msg=_LOGISTIC_SOLVER_CONVERGENCE_MSG)\n",
      "C:\\Users\\kurokiso\\anaconda3\\lib\\site-packages\\sklearn\\linear_model\\_logistic.py:940: ConvergenceWarning: lbfgs failed to converge (status=1):\n",
      "STOP: TOTAL NO. of ITERATIONS REACHED LIMIT.\n",
      "\n",
      "Increase the number of iterations (max_iter) or scale the data as shown in:\n",
      "    https://scikit-learn.org/stable/modules/preprocessing.html\n",
      "Please also refer to the documentation for alternative solver options:\n",
      "    https://scikit-learn.org/stable/modules/linear_model.html#logistic-regression\n",
      "  extra_warning_msg=_LOGISTIC_SOLVER_CONVERGENCE_MSG)\n",
      "C:\\Users\\kurokiso\\anaconda3\\lib\\site-packages\\sklearn\\linear_model\\_logistic.py:940: ConvergenceWarning: lbfgs failed to converge (status=1):\n",
      "STOP: TOTAL NO. of ITERATIONS REACHED LIMIT.\n",
      "\n",
      "Increase the number of iterations (max_iter) or scale the data as shown in:\n",
      "    https://scikit-learn.org/stable/modules/preprocessing.html\n",
      "Please also refer to the documentation for alternative solver options:\n",
      "    https://scikit-learn.org/stable/modules/linear_model.html#logistic-regression\n",
      "  extra_warning_msg=_LOGISTIC_SOLVER_CONVERGENCE_MSG)\n",
      "C:\\Users\\kurokiso\\anaconda3\\lib\\site-packages\\sklearn\\linear_model\\_logistic.py:940: ConvergenceWarning: lbfgs failed to converge (status=1):\n",
      "STOP: TOTAL NO. of ITERATIONS REACHED LIMIT.\n",
      "\n",
      "Increase the number of iterations (max_iter) or scale the data as shown in:\n",
      "    https://scikit-learn.org/stable/modules/preprocessing.html\n",
      "Please also refer to the documentation for alternative solver options:\n",
      "    https://scikit-learn.org/stable/modules/linear_model.html#logistic-regression\n",
      "  extra_warning_msg=_LOGISTIC_SOLVER_CONVERGENCE_MSG)\n",
      "C:\\Users\\kurokiso\\anaconda3\\lib\\site-packages\\sklearn\\linear_model\\_logistic.py:940: ConvergenceWarning: lbfgs failed to converge (status=1):\n",
      "STOP: TOTAL NO. of ITERATIONS REACHED LIMIT.\n",
      "\n",
      "Increase the number of iterations (max_iter) or scale the data as shown in:\n",
      "    https://scikit-learn.org/stable/modules/preprocessing.html\n",
      "Please also refer to the documentation for alternative solver options:\n",
      "    https://scikit-learn.org/stable/modules/linear_model.html#logistic-regression\n",
      "  extra_warning_msg=_LOGISTIC_SOLVER_CONVERGENCE_MSG)\n",
      "C:\\Users\\kurokiso\\anaconda3\\lib\\site-packages\\sklearn\\linear_model\\_logistic.py:940: ConvergenceWarning: lbfgs failed to converge (status=1):\n",
      "STOP: TOTAL NO. of ITERATIONS REACHED LIMIT.\n",
      "\n",
      "Increase the number of iterations (max_iter) or scale the data as shown in:\n",
      "    https://scikit-learn.org/stable/modules/preprocessing.html\n",
      "Please also refer to the documentation for alternative solver options:\n",
      "    https://scikit-learn.org/stable/modules/linear_model.html#logistic-regression\n",
      "  extra_warning_msg=_LOGISTIC_SOLVER_CONVERGENCE_MSG)\n",
      "C:\\Users\\kurokiso\\anaconda3\\lib\\site-packages\\sklearn\\linear_model\\_logistic.py:940: ConvergenceWarning: lbfgs failed to converge (status=1):\n",
      "STOP: TOTAL NO. of ITERATIONS REACHED LIMIT.\n",
      "\n",
      "Increase the number of iterations (max_iter) or scale the data as shown in:\n",
      "    https://scikit-learn.org/stable/modules/preprocessing.html\n",
      "Please also refer to the documentation for alternative solver options:\n",
      "    https://scikit-learn.org/stable/modules/linear_model.html#logistic-regression\n",
      "  extra_warning_msg=_LOGISTIC_SOLVER_CONVERGENCE_MSG)\n",
      "C:\\Users\\kurokiso\\anaconda3\\lib\\site-packages\\sklearn\\linear_model\\_logistic.py:940: ConvergenceWarning: lbfgs failed to converge (status=1):\n",
      "STOP: TOTAL NO. of ITERATIONS REACHED LIMIT.\n",
      "\n",
      "Increase the number of iterations (max_iter) or scale the data as shown in:\n",
      "    https://scikit-learn.org/stable/modules/preprocessing.html\n",
      "Please also refer to the documentation for alternative solver options:\n",
      "    https://scikit-learn.org/stable/modules/linear_model.html#logistic-regression\n",
      "  extra_warning_msg=_LOGISTIC_SOLVER_CONVERGENCE_MSG)\n",
      "C:\\Users\\kurokiso\\anaconda3\\lib\\site-packages\\sklearn\\linear_model\\_logistic.py:940: ConvergenceWarning: lbfgs failed to converge (status=1):\n",
      "STOP: TOTAL NO. of ITERATIONS REACHED LIMIT.\n",
      "\n",
      "Increase the number of iterations (max_iter) or scale the data as shown in:\n",
      "    https://scikit-learn.org/stable/modules/preprocessing.html\n",
      "Please also refer to the documentation for alternative solver options:\n",
      "    https://scikit-learn.org/stable/modules/linear_model.html#logistic-regression\n",
      "  extra_warning_msg=_LOGISTIC_SOLVER_CONVERGENCE_MSG)\n",
      "C:\\Users\\kurokiso\\anaconda3\\lib\\site-packages\\sklearn\\linear_model\\_logistic.py:940: ConvergenceWarning: lbfgs failed to converge (status=1):\n",
      "STOP: TOTAL NO. of ITERATIONS REACHED LIMIT.\n",
      "\n",
      "Increase the number of iterations (max_iter) or scale the data as shown in:\n",
      "    https://scikit-learn.org/stable/modules/preprocessing.html\n",
      "Please also refer to the documentation for alternative solver options:\n",
      "    https://scikit-learn.org/stable/modules/linear_model.html#logistic-regression\n",
      "  extra_warning_msg=_LOGISTIC_SOLVER_CONVERGENCE_MSG)\n",
      "C:\\Users\\kurokiso\\anaconda3\\lib\\site-packages\\sklearn\\linear_model\\_logistic.py:940: ConvergenceWarning: lbfgs failed to converge (status=1):\n",
      "STOP: TOTAL NO. of ITERATIONS REACHED LIMIT.\n",
      "\n",
      "Increase the number of iterations (max_iter) or scale the data as shown in:\n",
      "    https://scikit-learn.org/stable/modules/preprocessing.html\n",
      "Please also refer to the documentation for alternative solver options:\n",
      "    https://scikit-learn.org/stable/modules/linear_model.html#logistic-regression\n",
      "  extra_warning_msg=_LOGISTIC_SOLVER_CONVERGENCE_MSG)\n",
      "C:\\Users\\kurokiso\\anaconda3\\lib\\site-packages\\sklearn\\linear_model\\_logistic.py:940: ConvergenceWarning: lbfgs failed to converge (status=1):\n",
      "STOP: TOTAL NO. of ITERATIONS REACHED LIMIT.\n",
      "\n",
      "Increase the number of iterations (max_iter) or scale the data as shown in:\n",
      "    https://scikit-learn.org/stable/modules/preprocessing.html\n",
      "Please also refer to the documentation for alternative solver options:\n",
      "    https://scikit-learn.org/stable/modules/linear_model.html#logistic-regression\n",
      "  extra_warning_msg=_LOGISTIC_SOLVER_CONVERGENCE_MSG)\n"
     ]
    },
    {
     "name": "stdout",
     "output_type": "stream",
     "text": [
      "Best parameters : {'C': 10}\n",
      "Best cross-validation score : 0.567\n"
     ]
    },
    {
     "name": "stderr",
     "output_type": "stream",
     "text": [
      "C:\\Users\\kurokiso\\anaconda3\\lib\\site-packages\\sklearn\\linear_model\\_logistic.py:940: ConvergenceWarning: lbfgs failed to converge (status=1):\n",
      "STOP: TOTAL NO. of ITERATIONS REACHED LIMIT.\n",
      "\n",
      "Increase the number of iterations (max_iter) or scale the data as shown in:\n",
      "    https://scikit-learn.org/stable/modules/preprocessing.html\n",
      "Please also refer to the documentation for alternative solver options:\n",
      "    https://scikit-learn.org/stable/modules/linear_model.html#logistic-regression\n",
      "  extra_warning_msg=_LOGISTIC_SOLVER_CONVERGENCE_MSG)\n",
      "C:\\Users\\kurokiso\\anaconda3\\lib\\site-packages\\sklearn\\linear_model\\_logistic.py:940: ConvergenceWarning: lbfgs failed to converge (status=1):\n",
      "STOP: TOTAL NO. of ITERATIONS REACHED LIMIT.\n",
      "\n",
      "Increase the number of iterations (max_iter) or scale the data as shown in:\n",
      "    https://scikit-learn.org/stable/modules/preprocessing.html\n",
      "Please also refer to the documentation for alternative solver options:\n",
      "    https://scikit-learn.org/stable/modules/linear_model.html#logistic-regression\n",
      "  extra_warning_msg=_LOGISTIC_SOLVER_CONVERGENCE_MSG)\n",
      "C:\\Users\\kurokiso\\anaconda3\\lib\\site-packages\\sklearn\\linear_model\\_logistic.py:940: ConvergenceWarning: lbfgs failed to converge (status=1):\n",
      "STOP: TOTAL NO. of ITERATIONS REACHED LIMIT.\n",
      "\n",
      "Increase the number of iterations (max_iter) or scale the data as shown in:\n",
      "    https://scikit-learn.org/stable/modules/preprocessing.html\n",
      "Please also refer to the documentation for alternative solver options:\n",
      "    https://scikit-learn.org/stable/modules/linear_model.html#logistic-regression\n",
      "  extra_warning_msg=_LOGISTIC_SOLVER_CONVERGENCE_MSG)\n"
     ]
    }
   ],
   "source": [
    "from sklearn.linear_model import LogisticRegression\n",
    "from sklearn.model_selection import GridSearchCV\n",
    "\n",
    "param_grid = {'C' : [0.001, 0.01, 0.1, 1, 10, 100]}\n",
    "\n",
    "grid_search = GridSearchCV(LogisticRegression(), param_grid, cv=10)\n",
    "grid_search.fit(X_train_std, y_train)\n",
    "\n",
    "print(\"Best parameters : {}\".format(grid_search.best_params_))\n",
    "print(\"Best cross-validation score : {:.3f}\".format(grid_search.best_score_))"
   ]
  },
  {
   "cell_type": "code",
   "execution_count": null,
   "metadata": {},
   "outputs": [],
   "source": []
  }
 ],
 "metadata": {
  "kernelspec": {
   "display_name": "Python 3",
   "language": "python",
   "name": "python3"
  },
  "language_info": {
   "codemirror_mode": {
    "name": "ipython",
    "version": 3
   },
   "file_extension": ".py",
   "mimetype": "text/x-python",
   "name": "python",
   "nbconvert_exporter": "python",
   "pygments_lexer": "ipython3",
   "version": "3.7.7"
  }
 },
 "nbformat": 4,
 "nbformat_minor": 4
}
