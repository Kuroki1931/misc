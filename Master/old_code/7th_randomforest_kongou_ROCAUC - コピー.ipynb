{
 "cells": [
  {
   "cell_type": "code",
   "execution_count": 90,
   "metadata": {},
   "outputs": [],
   "source": [
    "import pandas as pd\n",
    "import numpy as np\n",
    "import pickle\n",
    "import xgboost as xgb\n",
    "import datetime\n",
    "from sklearn.utils import shuffle\n",
    "from sklearn.model_selection import train_test_split\n",
    "from sklearn.linear_model import LogisticRegression\n",
    "from sklearn.metrics import confusion_matrix, accuracy_score, precision_score, classification_report\n",
    "pd.set_option('display.max_columns', None)"
   ]
  },
  {
   "cell_type": "code",
   "execution_count": 141,
   "metadata": {},
   "outputs": [],
   "source": [
    "df=pd.read_excel('◎位置情報と対応(水道水) 基準満たしているか否か.xlsx')\n",
    "df=df.dropna(axis=0)"
   ]
  },
  {
   "cell_type": "code",
   "execution_count": 142,
   "metadata": {},
   "outputs": [
    {
     "data": {
      "text/html": [
       "<div>\n",
       "<style scoped>\n",
       "    .dataframe tbody tr th:only-of-type {\n",
       "        vertical-align: middle;\n",
       "    }\n",
       "\n",
       "    .dataframe tbody tr th {\n",
       "        vertical-align: top;\n",
       "    }\n",
       "\n",
       "    .dataframe thead th {\n",
       "        text-align: right;\n",
       "    }\n",
       "</style>\n",
       "<table border=\"1\" class=\"dataframe\">\n",
       "  <thead>\n",
       "    <tr style=\"text-align: right;\">\n",
       "      <th></th>\n",
       "      <th>NAME</th>\n",
       "      <th>Rowid</th>\n",
       "      <th>XY水道水位置情報</th>\n",
       "      <th>X</th>\n",
       "      <th>Y</th>\n",
       "      <th>up_down</th>\n",
       "      <th>curvature</th>\n",
       "      <th>inclination</th>\n",
       "      <th>tilt_direction</th>\n",
       "      <th>altitude</th>\n",
       "      <th>disto_river</th>\n",
       "      <th>disto_stations</th>\n",
       "      <th>disto_mainroad</th>\n",
       "      <th>disto_syorizyo</th>\n",
       "      <th>supply_hours</th>\n",
       "      <th>no_water_days</th>\n",
       "      <th>total_population</th>\n",
       "      <th>population_served</th>\n",
       "      <th>popu-served</th>\n",
       "      <th>number_taps</th>\n",
       "      <th>pipelength</th>\n",
       "      <th>pipelength_per_pipe</th>\n",
       "      <th>served/pipes</th>\n",
       "      <th>(popu-served)/pipes</th>\n",
       "      <th>oldest_pipe_age</th>\n",
       "      <th>ST</th>\n",
       "      <th>RSF</th>\n",
       "      <th>FL</th>\n",
       "      <th>PF</th>\n",
       "      <th>RF</th>\n",
       "      <th>EColi.</th>\n",
       "    </tr>\n",
       "  </thead>\n",
       "  <tbody>\n",
       "    <tr>\n",
       "      <th>0</th>\n",
       "      <td>Mahendranagar</td>\n",
       "      <td>4</td>\n",
       "      <td>192</td>\n",
       "      <td>80.1732</td>\n",
       "      <td>28.967150</td>\n",
       "      <td>61</td>\n",
       "      <td>864000000</td>\n",
       "      <td>89.976921</td>\n",
       "      <td>244.983109</td>\n",
       "      <td>221</td>\n",
       "      <td>0.008422</td>\n",
       "      <td>0.118698</td>\n",
       "      <td>0.002436</td>\n",
       "      <td>704.208459</td>\n",
       "      <td>9.0</td>\n",
       "      <td>56.78</td>\n",
       "      <td>48936</td>\n",
       "      <td>11298</td>\n",
       "      <td>37638</td>\n",
       "      <td>2002</td>\n",
       "      <td>30.957</td>\n",
       "      <td>0.015463</td>\n",
       "      <td>364.957845</td>\n",
       "      <td>1215.815486</td>\n",
       "      <td>40</td>\n",
       "      <td>0</td>\n",
       "      <td>1</td>\n",
       "      <td>0</td>\n",
       "      <td>0</td>\n",
       "      <td>0</td>\n",
       "      <td>0</td>\n",
       "    </tr>\n",
       "    <tr>\n",
       "      <th>1</th>\n",
       "      <td>Mahendranagar</td>\n",
       "      <td>2</td>\n",
       "      <td>191</td>\n",
       "      <td>ｓ</td>\n",
       "      <td>28.974328</td>\n",
       "      <td>25</td>\n",
       "      <td>432000000</td>\n",
       "      <td>89.980904</td>\n",
       "      <td>36.869896</td>\n",
       "      <td>223</td>\n",
       "      <td>0.000505</td>\n",
       "      <td>0.114137</td>\n",
       "      <td>0.000863</td>\n",
       "      <td>841.848117</td>\n",
       "      <td>9.0</td>\n",
       "      <td>56.78</td>\n",
       "      <td>48936</td>\n",
       "      <td>11298</td>\n",
       "      <td>37638</td>\n",
       "      <td>2002</td>\n",
       "      <td>30.957</td>\n",
       "      <td>0.015463</td>\n",
       "      <td>364.957845</td>\n",
       "      <td>1215.815486</td>\n",
       "      <td>40</td>\n",
       "      <td>0</td>\n",
       "      <td>1</td>\n",
       "      <td>0</td>\n",
       "      <td>0</td>\n",
       "      <td>0</td>\n",
       "      <td>1</td>\n",
       "    </tr>\n",
       "    <tr>\n",
       "      <th>2</th>\n",
       "      <td>Mahendranagar</td>\n",
       "      <td>3</td>\n",
       "      <td>188</td>\n",
       "      <td>ｓｓ</td>\n",
       "      <td>28.958797</td>\n",
       "      <td>0</td>\n",
       "      <td>-288000000</td>\n",
       "      <td>89.947029</td>\n",
       "      <td>123.690071</td>\n",
       "      <td>214</td>\n",
       "      <td>0.002185</td>\n",
       "      <td>0.129072</td>\n",
       "      <td>0.006192</td>\n",
       "      <td>1017.720385</td>\n",
       "      <td>9.0</td>\n",
       "      <td>56.78</td>\n",
       "      <td>48936</td>\n",
       "      <td>11298</td>\n",
       "      <td>37638</td>\n",
       "      <td>2002</td>\n",
       "      <td>30.957</td>\n",
       "      <td>0.015463</td>\n",
       "      <td>364.957845</td>\n",
       "      <td>1215.815486</td>\n",
       "      <td>40</td>\n",
       "      <td>0</td>\n",
       "      <td>1</td>\n",
       "      <td>0</td>\n",
       "      <td>0</td>\n",
       "      <td>0</td>\n",
       "      <td>0</td>\n",
       "    </tr>\n",
       "    <tr>\n",
       "      <th>3</th>\n",
       "      <td>Mahendranagar</td>\n",
       "      <td>1</td>\n",
       "      <td>190</td>\n",
       "      <td>80.1867</td>\n",
       "      <td>28.971595</td>\n",
       "      <td>0</td>\n",
       "      <td>-432000000</td>\n",
       "      <td>89.945984</td>\n",
       "      <td>135.000000</td>\n",
       "      <td>217</td>\n",
       "      <td>0.002295</td>\n",
       "      <td>0.122961</td>\n",
       "      <td>0.001804</td>\n",
       "      <td>737.567540</td>\n",
       "      <td>9.0</td>\n",
       "      <td>56.78</td>\n",
       "      <td>48936</td>\n",
       "      <td>11298</td>\n",
       "      <td>37638</td>\n",
       "      <td>2002</td>\n",
       "      <td>30.957</td>\n",
       "      <td>0.015463</td>\n",
       "      <td>364.957845</td>\n",
       "      <td>1215.815486</td>\n",
       "      <td>40</td>\n",
       "      <td>0</td>\n",
       "      <td>1</td>\n",
       "      <td>0</td>\n",
       "      <td>0</td>\n",
       "      <td>0</td>\n",
       "      <td>0</td>\n",
       "    </tr>\n",
       "    <tr>\n",
       "      <th>4</th>\n",
       "      <td>Dhangadhi</td>\n",
       "      <td>7</td>\n",
       "      <td>197</td>\n",
       "      <td>80.5655</td>\n",
       "      <td>28.705933</td>\n",
       "      <td>177</td>\n",
       "      <td>-432000000</td>\n",
       "      <td>89.955597</td>\n",
       "      <td>305.537689</td>\n",
       "      <td>181</td>\n",
       "      <td>0.003237</td>\n",
       "      <td>0.027089</td>\n",
       "      <td>0.004993</td>\n",
       "      <td>1300.239907</td>\n",
       "      <td>12.0</td>\n",
       "      <td>1.06</td>\n",
       "      <td>36000</td>\n",
       "      <td>26220</td>\n",
       "      <td>9780</td>\n",
       "      <td>4469</td>\n",
       "      <td>50.000</td>\n",
       "      <td>0.011188</td>\n",
       "      <td>524.400000</td>\n",
       "      <td>195.600000</td>\n",
       "      <td>40</td>\n",
       "      <td>0</td>\n",
       "      <td>0</td>\n",
       "      <td>0</td>\n",
       "      <td>0</td>\n",
       "      <td>0</td>\n",
       "      <td>0</td>\n",
       "    </tr>\n",
       "    <tr>\n",
       "      <th>...</th>\n",
       "      <td>...</td>\n",
       "      <td>...</td>\n",
       "      <td>...</td>\n",
       "      <td>...</td>\n",
       "      <td>...</td>\n",
       "      <td>...</td>\n",
       "      <td>...</td>\n",
       "      <td>...</td>\n",
       "      <td>...</td>\n",
       "      <td>...</td>\n",
       "      <td>...</td>\n",
       "      <td>...</td>\n",
       "      <td>...</td>\n",
       "      <td>...</td>\n",
       "      <td>...</td>\n",
       "      <td>...</td>\n",
       "      <td>...</td>\n",
       "      <td>...</td>\n",
       "      <td>...</td>\n",
       "      <td>...</td>\n",
       "      <td>...</td>\n",
       "      <td>...</td>\n",
       "      <td>...</td>\n",
       "      <td>...</td>\n",
       "      <td>...</td>\n",
       "      <td>...</td>\n",
       "      <td>...</td>\n",
       "      <td>...</td>\n",
       "      <td>...</td>\n",
       "      <td>...</td>\n",
       "      <td>...</td>\n",
       "    </tr>\n",
       "    <tr>\n",
       "      <th>215</th>\n",
       "      <td>Bhadrapur</td>\n",
       "      <td>213</td>\n",
       "      <td>148</td>\n",
       "      <td>88.0746</td>\n",
       "      <td>26.545469</td>\n",
       "      <td>0</td>\n",
       "      <td>864000000</td>\n",
       "      <td>89.962547</td>\n",
       "      <td>168.690063</td>\n",
       "      <td>92</td>\n",
       "      <td>0.004671</td>\n",
       "      <td>0.042181</td>\n",
       "      <td>0.017736</td>\n",
       "      <td>4431.704313</td>\n",
       "      <td>9.0</td>\n",
       "      <td>0.66</td>\n",
       "      <td>22000</td>\n",
       "      <td>12062</td>\n",
       "      <td>9938</td>\n",
       "      <td>1822</td>\n",
       "      <td>48.700</td>\n",
       "      <td>0.026729</td>\n",
       "      <td>247.679671</td>\n",
       "      <td>204.065708</td>\n",
       "      <td>46</td>\n",
       "      <td>1</td>\n",
       "      <td>1</td>\n",
       "      <td>0</td>\n",
       "      <td>0</td>\n",
       "      <td>0</td>\n",
       "      <td>1</td>\n",
       "    </tr>\n",
       "    <tr>\n",
       "      <th>216</th>\n",
       "      <td>Bhadrapur</td>\n",
       "      <td>208</td>\n",
       "      <td>152</td>\n",
       "      <td>88.0793</td>\n",
       "      <td>26.561851</td>\n",
       "      <td>171</td>\n",
       "      <td>-720000000</td>\n",
       "      <td>89.914589</td>\n",
       "      <td>296.565063</td>\n",
       "      <td>94</td>\n",
       "      <td>0.003045</td>\n",
       "      <td>0.048199</td>\n",
       "      <td>0.001982</td>\n",
       "      <td>4599.404390</td>\n",
       "      <td>9.0</td>\n",
       "      <td>0.66</td>\n",
       "      <td>22000</td>\n",
       "      <td>12062</td>\n",
       "      <td>9938</td>\n",
       "      <td>1822</td>\n",
       "      <td>48.700</td>\n",
       "      <td>0.026729</td>\n",
       "      <td>247.679671</td>\n",
       "      <td>204.065708</td>\n",
       "      <td>46</td>\n",
       "      <td>1</td>\n",
       "      <td>1</td>\n",
       "      <td>0</td>\n",
       "      <td>0</td>\n",
       "      <td>0</td>\n",
       "      <td>1</td>\n",
       "    </tr>\n",
       "    <tr>\n",
       "      <th>217</th>\n",
       "      <td>Bhadrapur</td>\n",
       "      <td>207</td>\n",
       "      <td>151</td>\n",
       "      <td>88.08</td>\n",
       "      <td>26.558706</td>\n",
       "      <td>35</td>\n",
       "      <td>576000000</td>\n",
       "      <td>89.947029</td>\n",
       "      <td>236.309937</td>\n",
       "      <td>93</td>\n",
       "      <td>0.000700</td>\n",
       "      <td>0.045488</td>\n",
       "      <td>0.004072</td>\n",
       "      <td>4664.033414</td>\n",
       "      <td>9.0</td>\n",
       "      <td>0.66</td>\n",
       "      <td>22000</td>\n",
       "      <td>12062</td>\n",
       "      <td>9938</td>\n",
       "      <td>1822</td>\n",
       "      <td>48.700</td>\n",
       "      <td>0.026729</td>\n",
       "      <td>247.679671</td>\n",
       "      <td>204.065708</td>\n",
       "      <td>46</td>\n",
       "      <td>1</td>\n",
       "      <td>1</td>\n",
       "      <td>0</td>\n",
       "      <td>0</td>\n",
       "      <td>0</td>\n",
       "      <td>1</td>\n",
       "    </tr>\n",
       "    <tr>\n",
       "      <th>218</th>\n",
       "      <td>Bhadrapur</td>\n",
       "      <td>215</td>\n",
       "      <td>149</td>\n",
       "      <td>88.0878</td>\n",
       "      <td>26.539138</td>\n",
       "      <td>0</td>\n",
       "      <td>-144000000</td>\n",
       "      <td>89.729904</td>\n",
       "      <td>135.000000</td>\n",
       "      <td>87</td>\n",
       "      <td>0.003060</td>\n",
       "      <td>0.027479</td>\n",
       "      <td>0.004462</td>\n",
       "      <td>5921.463636</td>\n",
       "      <td>9.0</td>\n",
       "      <td>0.66</td>\n",
       "      <td>22000</td>\n",
       "      <td>12062</td>\n",
       "      <td>9938</td>\n",
       "      <td>1822</td>\n",
       "      <td>48.700</td>\n",
       "      <td>0.026729</td>\n",
       "      <td>247.679671</td>\n",
       "      <td>204.065708</td>\n",
       "      <td>46</td>\n",
       "      <td>1</td>\n",
       "      <td>1</td>\n",
       "      <td>0</td>\n",
       "      <td>0</td>\n",
       "      <td>0</td>\n",
       "      <td>1</td>\n",
       "    </tr>\n",
       "    <tr>\n",
       "      <th>219</th>\n",
       "      <td>Bhadrapur</td>\n",
       "      <td>206</td>\n",
       "      <td>150</td>\n",
       "      <td>88.0915</td>\n",
       "      <td>26.556422</td>\n",
       "      <td>176</td>\n",
       "      <td>-720000000</td>\n",
       "      <td>89.947029</td>\n",
       "      <td>303.690063</td>\n",
       "      <td>93</td>\n",
       "      <td>0.002358</td>\n",
       "      <td>0.036262</td>\n",
       "      <td>0.002311</td>\n",
       "      <td>5821.034062</td>\n",
       "      <td>9.0</td>\n",
       "      <td>0.66</td>\n",
       "      <td>22000</td>\n",
       "      <td>12062</td>\n",
       "      <td>9938</td>\n",
       "      <td>1822</td>\n",
       "      <td>48.700</td>\n",
       "      <td>0.026729</td>\n",
       "      <td>247.679671</td>\n",
       "      <td>204.065708</td>\n",
       "      <td>46</td>\n",
       "      <td>1</td>\n",
       "      <td>1</td>\n",
       "      <td>0</td>\n",
       "      <td>0</td>\n",
       "      <td>0</td>\n",
       "      <td>1</td>\n",
       "    </tr>\n",
       "  </tbody>\n",
       "</table>\n",
       "<p>218 rows × 31 columns</p>\n",
       "</div>"
      ],
      "text/plain": [
       "              NAME  Rowid  XY水道水位置情報        X          Y  up_down  curvature  \\\n",
       "0    Mahendranagar      4        192  80.1732  28.967150       61  864000000   \n",
       "1    Mahendranagar      2        191        ｓ  28.974328       25  432000000   \n",
       "2    Mahendranagar      3        188       ｓｓ  28.958797        0 -288000000   \n",
       "3    Mahendranagar      1        190  80.1867  28.971595        0 -432000000   \n",
       "4        Dhangadhi      7        197  80.5655  28.705933      177 -432000000   \n",
       "..             ...    ...        ...      ...        ...      ...        ...   \n",
       "215      Bhadrapur    213        148  88.0746  26.545469        0  864000000   \n",
       "216      Bhadrapur    208        152  88.0793  26.561851      171 -720000000   \n",
       "217      Bhadrapur    207        151    88.08  26.558706       35  576000000   \n",
       "218      Bhadrapur    215        149  88.0878  26.539138        0 -144000000   \n",
       "219      Bhadrapur    206        150  88.0915  26.556422      176 -720000000   \n",
       "\n",
       "     inclination  tilt_direction  altitude  disto_river  disto_stations  \\\n",
       "0      89.976921      244.983109       221     0.008422        0.118698   \n",
       "1      89.980904       36.869896       223     0.000505        0.114137   \n",
       "2      89.947029      123.690071       214     0.002185        0.129072   \n",
       "3      89.945984      135.000000       217     0.002295        0.122961   \n",
       "4      89.955597      305.537689       181     0.003237        0.027089   \n",
       "..           ...             ...       ...          ...             ...   \n",
       "215    89.962547      168.690063        92     0.004671        0.042181   \n",
       "216    89.914589      296.565063        94     0.003045        0.048199   \n",
       "217    89.947029      236.309937        93     0.000700        0.045488   \n",
       "218    89.729904      135.000000        87     0.003060        0.027479   \n",
       "219    89.947029      303.690063        93     0.002358        0.036262   \n",
       "\n",
       "     disto_mainroad  disto_syorizyo  supply_hours  no_water_days  \\\n",
       "0          0.002436      704.208459           9.0          56.78   \n",
       "1          0.000863      841.848117           9.0          56.78   \n",
       "2          0.006192     1017.720385           9.0          56.78   \n",
       "3          0.001804      737.567540           9.0          56.78   \n",
       "4          0.004993     1300.239907          12.0           1.06   \n",
       "..              ...             ...           ...            ...   \n",
       "215        0.017736     4431.704313           9.0           0.66   \n",
       "216        0.001982     4599.404390           9.0           0.66   \n",
       "217        0.004072     4664.033414           9.0           0.66   \n",
       "218        0.004462     5921.463636           9.0           0.66   \n",
       "219        0.002311     5821.034062           9.0           0.66   \n",
       "\n",
       "     total_population   population_served  popu-served  number_taps  \\\n",
       "0                48936              11298        37638         2002   \n",
       "1                48936              11298        37638         2002   \n",
       "2                48936              11298        37638         2002   \n",
       "3                48936              11298        37638         2002   \n",
       "4                36000              26220         9780         4469   \n",
       "..                 ...                ...          ...          ...   \n",
       "215              22000              12062         9938         1822   \n",
       "216              22000              12062         9938         1822   \n",
       "217              22000              12062         9938         1822   \n",
       "218              22000              12062         9938         1822   \n",
       "219              22000              12062         9938         1822   \n",
       "\n",
       "     pipelength  pipelength_per_pipe  served/pipes  (popu-served)/pipes  \\\n",
       "0        30.957             0.015463    364.957845          1215.815486   \n",
       "1        30.957             0.015463    364.957845          1215.815486   \n",
       "2        30.957             0.015463    364.957845          1215.815486   \n",
       "3        30.957             0.015463    364.957845          1215.815486   \n",
       "4        50.000             0.011188    524.400000           195.600000   \n",
       "..          ...                  ...           ...                  ...   \n",
       "215      48.700             0.026729    247.679671           204.065708   \n",
       "216      48.700             0.026729    247.679671           204.065708   \n",
       "217      48.700             0.026729    247.679671           204.065708   \n",
       "218      48.700             0.026729    247.679671           204.065708   \n",
       "219      48.700             0.026729    247.679671           204.065708   \n",
       "\n",
       "     oldest_pipe_age  ST  RSF  FL  PF  RF  EColi.  \n",
       "0                 40   0    1   0   0   0       0  \n",
       "1                 40   0    1   0   0   0       1  \n",
       "2                 40   0    1   0   0   0       0  \n",
       "3                 40   0    1   0   0   0       0  \n",
       "4                 40   0    0   0   0   0       0  \n",
       "..               ...  ..  ...  ..  ..  ..     ...  \n",
       "215               46   1    1   0   0   0       1  \n",
       "216               46   1    1   0   0   0       1  \n",
       "217               46   1    1   0   0   0       1  \n",
       "218               46   1    1   0   0   0       1  \n",
       "219               46   1    1   0   0   0       1  \n",
       "\n",
       "[218 rows x 31 columns]"
      ]
     },
     "execution_count": 142,
     "metadata": {},
     "output_type": "execute_result"
    }
   ],
   "source": [
    "df"
   ]
  },
  {
   "cell_type": "code",
   "execution_count": 143,
   "metadata": {},
   "outputs": [],
   "source": [
    "y=df['EColi.']\n",
    "X=df.loc[:, ['up_down', 'curvature', 'inclination', 'tilt_direction', 'altitude', 'disto_river', 'disto_stations', \n",
    "             'disto_mainroad', 'disto_syorizyo', 'supply_hours', 'no_water_days', 'total_population ', 'population_served',\n",
    "             'popu-served', 'number_taps', 'pipelength', 'pipelength_per_pipe', 'served/pipes', '(popu-served)/pipes', \n",
    "             'oldest_pipe_age', 'ST', 'RSF', 'FL', 'PF', 'RF']]"
   ]
  },
  {
   "cell_type": "code",
   "execution_count": 144,
   "metadata": {},
   "outputs": [
    {
     "name": "stdout",
     "output_type": "stream",
     "text": [
      "Labels counts in y: [ 98 120]\n",
      "Lables counts in y_train: [68 84]\n",
      "Lables counts in y_test: [30 36]\n"
     ]
    }
   ],
   "source": [
    "from sklearn.model_selection import train_test_split\n",
    "X_train, X_test, y_train, y_test=train_test_split(X, y, test_size=0.3,\n",
    "                                                  random_state=1, stratify=y)\n",
    "print('Labels counts in y:', np.bincount(y))\n",
    "print('Lables counts in y_train:', np.bincount(y_train))\n",
    "print('Lables counts in y_test:', np.bincount(y_test))"
   ]
  },
  {
   "cell_type": "code",
   "execution_count": 145,
   "metadata": {},
   "outputs": [],
   "source": [
    "X_train_std=(X_train-X_train.mean(axis=0))/X_train.std(axis=0)\n",
    "X_test_std=(X_test-X_train.mean(axis=0))/X_train.std(axis=0)"
   ]
  },
  {
   "cell_type": "code",
   "execution_count": 146,
   "metadata": {},
   "outputs": [],
   "source": [
    "def threshold(fare):\n",
    "    if fare<=0:\n",
    "        return 0\n",
    "    else:\n",
    "        return 1"
   ]
  },
  {
   "cell_type": "code",
   "execution_count": 147,
   "metadata": {},
   "outputs": [],
   "source": [
    "X_train_std['ST']=X_train_std['ST'].apply(threshold)\n",
    "X_train_std['RSF']=X_train_std['RSF'].apply(threshold)\n",
    "X_train_std['FL']=X_train_std['FL'].apply(threshold)\n",
    "X_train_std['PF']=X_train_std['PF'].apply(threshold)\n",
    "X_train_std['RF']=X_train_std['RF'].apply(threshold)\n",
    "X_test_std['ST']=X_test_std['ST'].apply(threshold)\n",
    "X_test_std['RSF']=X_test_std['RSF'].apply(threshold)\n",
    "X_test_std['FL']=X_test_std['FL'].apply(threshold)\n",
    "X_test_std['PF']=X_test_std['PF'].apply(threshold)\n",
    "X_test_std['RF']=X_test_std['RF'].apply(threshold)"
   ]
  },
  {
   "cell_type": "markdown",
   "metadata": {},
   "source": [
    "# SVC"
   ]
  },
  {
   "cell_type": "code",
   "execution_count": 148,
   "metadata": {},
   "outputs": [],
   "source": [
    "from sklearn.svm import SVC\n",
    "svm=SVC(kernel='linear', C=100, random_state=1, probability=True)\n",
    "svm.fit(X_train_std, y_train)\n",
    "print(svm.score(X_train_std, y_train))\n",
    "print(svm.score(X_test_std, y_test))"
   ]
  },
  {
   "cell_type": "code",
   "execution_count": 152,
   "metadata": {},
   "outputs": [],
   "source": [
    "from sklearn.metrics import confusion_matrix\n",
    "y_pred=svm.predict(X_test_std)\n",
    "confmat=confusion_matrix(y_true=y_test, y_pred=y_pred)"
   ]
  },
  {
   "cell_type": "code",
   "execution_count": 153,
   "metadata": {},
   "outputs": [
    {
     "data": {
      "text/plain": [
       "Text(0, 0.5, 'true label')"
      ]
     },
     "execution_count": 153,
     "metadata": {},
     "output_type": "execute_result"
    },
    {
     "data": {
      "image/png": "[encoded data removed]",
      "text/plain": [
       "<Figure size 180x180 with 1 Axes>"
      ]
     },
     "metadata": {
      "needs_background": "light"
     },
     "output_type": "display_data"
    }
   ],
   "source": [
    "import matplotlib.pyplot as plt\n",
    "fig, ax=plt.subplots(figsize=(2.5, 2.5))\n",
    "ax.matshow(confmat, alpha=0.3)\n",
    "for i in range(confmat.shape[0]):\n",
    "    for j in range(confmat.shape[1]):\n",
    "        ax.text(x=j, y=i, s=confmat[i, j], va='center', ha='center')\n",
    "        \n",
    "plt.xlabel('predicted label')\n",
    "plt.ylabel('true label')\n"
   ]
  },
  {
   "cell_type": "markdown",
   "metadata": {},
   "source": [
    "# ロジスティック回帰"
   ]
  },
  {
   "cell_type": "code",
   "execution_count": 154,
   "metadata": {},
   "outputs": [],
   "source": [
    "lr=LogisticRegression(C=10, random_state=1)"
   ]
  },
  {
   "cell_type": "code",
   "execution_count": 155,
   "metadata": {},
   "outputs": [
    {
     "name": "stderr",
     "output_type": "stream",
     "text": [
      "C:\\Users\\kurokiso\\anaconda3\\lib\\site-packages\\sklearn\\linear_model\\_logistic.py:764: ConvergenceWarning: lbfgs failed to converge (status=1):\n",
      "STOP: TOTAL NO. of ITERATIONS REACHED LIMIT.\n",
      "\n",
      "Increase the number of iterations (max_iter) or scale the data as shown in:\n",
      "    https://scikit-learn.org/stable/modules/preprocessing.html\n",
      "Please also refer to the documentation for alternative solver options:\n",
      "    https://scikit-learn.org/stable/modules/linear_model.html#logistic-regression\n",
      "  extra_warning_msg=_LOGISTIC_SOLVER_CONVERGENCE_MSG)\n"
     ]
    },
    {
     "data": {
      "text/plain": [
       "LogisticRegression(C=10, random_state=1)"
      ]
     },
     "execution_count": 155,
     "metadata": {},
     "output_type": "execute_result"
    }
   ],
   "source": [
    "lr.fit(X_train_std, y_train)"
   ]
  },
  {
   "cell_type": "code",
   "execution_count": 156,
   "metadata": {},
   "outputs": [
    {
     "data": {
      "text/plain": [
       "0.7171052631578947"
      ]
     },
     "execution_count": 156,
     "metadata": {},
     "output_type": "execute_result"
    }
   ],
   "source": [
    "lr.score(X_train_std, y_train)"
   ]
  },
  {
   "cell_type": "code",
   "execution_count": 157,
   "metadata": {
    "scrolled": false
   },
   "outputs": [
    {
     "data": {
      "text/plain": [
       "0.6515151515151515"
      ]
     },
     "execution_count": 157,
     "metadata": {},
     "output_type": "execute_result"
    }
   ],
   "source": [
    "lr.score(X_test_std, y_test)"
   ]
  },
  {
   "cell_type": "code",
   "execution_count": 158,
   "metadata": {},
   "outputs": [],
   "source": [
    "from sklearn.metrics import confusion_matrix\n",
    "y_pred=lr.predict(X_test_std)\n",
    "confmat=confusion_matrix(y_true=y_test, y_pred=y_pred)"
   ]
  },
  {
   "cell_type": "code",
   "execution_count": 159,
   "metadata": {},
   "outputs": [
    {
     "data": {
      "text/plain": [
       "Text(0, 0.5, 'true label')"
      ]
     },
     "execution_count": 159,
     "metadata": {},
     "output_type": "execute_result"
    },
    {
     "data": {
      "image/png": "[encoded data removed]",
      "text/plain": [
       "<Figure size 180x180 with 1 Axes>"
      ]
     },
     "metadata": {
      "needs_background": "light"
     },
     "output_type": "display_data"
    }
   ],
   "source": [
    "import matplotlib.pyplot as plt\n",
    "fig, ax=plt.subplots(figsize=(2.5, 2.5))\n",
    "ax.matshow(confmat, alpha=0.3)\n",
    "for i in range(confmat.shape[0]):\n",
    "    for j in range(confmat.shape[1]):\n",
    "        ax.text(x=j, y=i, s=confmat[i, j], va='center', ha='center')\n",
    "        \n",
    "plt.xlabel('predicted label')\n",
    "plt.ylabel('true label')\n"
   ]
  },
  {
   "cell_type": "markdown",
   "metadata": {},
   "source": [
    "# random forest"
   ]
  },
  {
   "cell_type": "code",
   "execution_count": 160,
   "metadata": {},
   "outputs": [],
   "source": [
    "from sklearn.ensemble import RandomForestClassifier"
   ]
  },
  {
   "cell_type": "code",
   "execution_count": 161,
   "metadata": {},
   "outputs": [],
   "source": [
    "forest=RandomForestClassifier(max_depth=20, criterion='entropy', n_estimators=40, random_state=1)"
   ]
  },
  {
   "cell_type": "code",
   "execution_count": 162,
   "metadata": {},
   "outputs": [
    {
     "data": {
      "text/plain": [
       "RandomForestClassifier(criterion='entropy', max_depth=20, n_estimators=40,\n",
       "                       random_state=1)"
      ]
     },
     "execution_count": 162,
     "metadata": {},
     "output_type": "execute_result"
    }
   ],
   "source": [
    "forest.fit(X_train_std, y_train)"
   ]
  },
  {
   "cell_type": "code",
   "execution_count": 163,
   "metadata": {},
   "outputs": [
    {
     "data": {
      "text/plain": [
       "1.0"
      ]
     },
     "execution_count": 163,
     "metadata": {},
     "output_type": "execute_result"
    }
   ],
   "source": [
    "forest.score(X_train_std, y_train)"
   ]
  },
  {
   "cell_type": "code",
   "execution_count": 164,
   "metadata": {
    "scrolled": true
   },
   "outputs": [
    {
     "data": {
      "text/plain": [
       "0.7727272727272727"
      ]
     },
     "execution_count": 164,
     "metadata": {},
     "output_type": "execute_result"
    }
   ],
   "source": [
    "forest.score(X_test_std, y_test)"
   ]
  },
  {
   "cell_type": "code",
   "execution_count": 165,
   "metadata": {},
   "outputs": [],
   "source": [
    "from sklearn.metrics import confusion_matrix\n",
    "y_pred=forest.predict(X_test_std)\n",
    "confmat=confusion_matrix(y_true=y_test, y_pred=y_pred)"
   ]
  },
  {
   "cell_type": "code",
   "execution_count": 166,
   "metadata": {},
   "outputs": [
    {
     "data": {
      "text/plain": [
       "Text(0, 0.5, 'true label')"
      ]
     },
     "execution_count": 166,
     "metadata": {},
     "output_type": "execute_result"
    },
    {
     "data": {
      "image/png": "[encoded data removed]",
      "text/plain": [
       "<Figure size 180x180 with 1 Axes>"
      ]
     },
     "metadata": {
      "needs_background": "light"
     },
     "output_type": "display_data"
    }
   ],
   "source": [
    "import matplotlib.pyplot as plt\n",
    "fig, ax=plt.subplots(figsize=(2.5, 2.5))\n",
    "ax.matshow(confmat, alpha=0.3)\n",
    "for i in range(confmat.shape[0]):\n",
    "    for j in range(confmat.shape[1]):\n",
    "        ax.text(x=j, y=i, s=confmat[i, j], va='center', ha='center')\n",
    "        \n",
    "plt.xlabel('predicted label')\n",
    "plt.ylabel('true label')\n"
   ]
  },
  {
   "cell_type": "markdown",
   "metadata": {},
   "source": [
    "# Boosted forest"
   ]
  },
  {
   "cell_type": "code",
   "execution_count": 167,
   "metadata": {},
   "outputs": [],
   "source": [
    "from sklearn.ensemble import AdaBoostClassifier\n",
    "from sklearn.tree import DecisionTreeClassifier"
   ]
  },
  {
   "cell_type": "code",
   "execution_count": 168,
   "metadata": {},
   "outputs": [],
   "source": [
    "tree=DecisionTreeClassifier(max_depth=8, random_state=1)\n",
    "ada=AdaBoostClassifier(base_estimator=tree, n_estimators=5, learning_rate=0.5, random_state=1)"
   ]
  },
  {
   "cell_type": "code",
   "execution_count": 169,
   "metadata": {},
   "outputs": [
    {
     "data": {
      "text/plain": [
       "AdaBoostClassifier(base_estimator=DecisionTreeClassifier(max_depth=8,\n",
       "                                                         random_state=1),\n",
       "                   learning_rate=0.5, n_estimators=5, random_state=1)"
      ]
     },
     "execution_count": 169,
     "metadata": {},
     "output_type": "execute_result"
    }
   ],
   "source": [
    "ada.fit(X_train_std, y_train)"
   ]
  },
  {
   "cell_type": "code",
   "execution_count": 170,
   "metadata": {},
   "outputs": [
    {
     "data": {
      "text/plain": [
       "1.0"
      ]
     },
     "execution_count": 170,
     "metadata": {},
     "output_type": "execute_result"
    }
   ],
   "source": [
    "ada.score(X_train_std, y_train)"
   ]
  },
  {
   "cell_type": "code",
   "execution_count": 171,
   "metadata": {
    "scrolled": true
   },
   "outputs": [
    {
     "data": {
      "text/plain": [
       "0.7272727272727273"
      ]
     },
     "execution_count": 171,
     "metadata": {},
     "output_type": "execute_result"
    }
   ],
   "source": [
    "ada.score(X_test_std, y_test)"
   ]
  },
  {
   "cell_type": "code",
   "execution_count": 172,
   "metadata": {},
   "outputs": [],
   "source": [
    "from sklearn.metrics import confusion_matrix\n",
    "y_pred=ada.predict(X_test_std)\n",
    "confmat=confusion_matrix(y_true=y_test, y_pred=y_pred)"
   ]
  },
  {
   "cell_type": "code",
   "execution_count": 173,
   "metadata": {},
   "outputs": [
    {
     "data": {
      "text/plain": [
       "Text(0, 0.5, 'true label')"
      ]
     },
     "execution_count": 173,
     "metadata": {},
     "output_type": "execute_result"
    },
    {
     "data": {
      "image/png": "[encoded data removed]",
      "text/plain": [
       "<Figure size 180x180 with 1 Axes>"
      ]
     },
     "metadata": {
      "needs_background": "light"
     },
     "output_type": "display_data"
    }
   ],
   "source": [
    "import matplotlib.pyplot as plt\n",
    "fig, ax=plt.subplots(figsize=(2.5, 2.5))\n",
    "ax.matshow(confmat, alpha=0.3)\n",
    "for i in range(confmat.shape[0]):\n",
    "    for j in range(confmat.shape[1]):\n",
    "        ax.text(x=j, y=i, s=confmat[i, j], va='center', ha='center')\n",
    "        \n",
    "plt.xlabel('predicted label')\n",
    "plt.ylabel('true label')\n"
   ]
  },
  {
   "cell_type": "markdown",
   "metadata": {},
   "source": [
    "# ROC AUC"
   ]
  },
  {
   "cell_type": "code",
   "execution_count": 83,
   "metadata": {},
   "outputs": [],
   "source": [
    "from sklearn.metrics import roc_curve, auc\n",
    "from scipy import interp\n",
    "import matplotlib.pyplot as plt\n",
    "mean_fpr=np.linspace(0, 1, 1000)\n",
    "svm_mean_tpr=0.0\n",
    "lr_mean_tpr=0.0\n",
    "forest_mean_tpr=0.0\n",
    "ada_mean_tpr=0.0"
   ]
  },
  {
   "cell_type": "code",
   "execution_count": 84,
   "metadata": {},
   "outputs": [],
   "source": [
    "svm_probas=svm.predict_proba(X_test_std)\n",
    "lr_probas=lr.predict_proba(X_test_std)\n",
    "forest_probas=forest.predict_proba(X_test_std)\n",
    "ada_probas=ada.predict_proba(X_test_std)"
   ]
  },
  {
   "cell_type": "code",
   "execution_count": 85,
   "metadata": {},
   "outputs": [],
   "source": [
    "svm_fpr, svm_tpr, svm_thresholds=roc_curve(y_test, svm_probas[:, 1], pos_label=1)\n",
    "lr_fpr, lr_tpr, lr_thresholds=roc_curve(y_test, lr_probas[:, 1], pos_label=1)\n",
    "forest_fpr, forest_tpr, forest_thresholds=roc_curve(y_test, forest_probas[:, 1], pos_label=1)\n",
    "ada_fpr, ada_tpr, ada_thresholds=roc_curve(y_test, ada_probas[:, 1], pos_label=1)"
   ]
  },
  {
   "cell_type": "code",
   "execution_count": 86,
   "metadata": {},
   "outputs": [
    {
     "name": "stderr",
     "output_type": "stream",
     "text": [
      "C:\\Users\\kurokiso\\anaconda3\\lib\\site-packages\\ipykernel_launcher.py:1: DeprecationWarning: scipy.interp is deprecated and will be removed in SciPy 2.0.0, use numpy.interp instead\n",
      "  \"\"\"Entry point for launching an IPython kernel.\n",
      "C:\\Users\\kurokiso\\anaconda3\\lib\\site-packages\\ipykernel_launcher.py:2: DeprecationWarning: scipy.interp is deprecated and will be removed in SciPy 2.0.0, use numpy.interp instead\n",
      "  \n",
      "C:\\Users\\kurokiso\\anaconda3\\lib\\site-packages\\ipykernel_launcher.py:3: DeprecationWarning: scipy.interp is deprecated and will be removed in SciPy 2.0.0, use numpy.interp instead\n",
      "  This is separate from the ipykernel package so we can avoid doing imports until\n",
      "C:\\Users\\kurokiso\\anaconda3\\lib\\site-packages\\ipykernel_launcher.py:4: DeprecationWarning: scipy.interp is deprecated and will be removed in SciPy 2.0.0, use numpy.interp instead\n",
      "  after removing the cwd from sys.path.\n"
     ]
    }
   ],
   "source": [
    "svm_mean_tpr+=interp(mean_fpr, svm_fpr, svm_tpr)\n",
    "lr_mean_tpr+=interp(mean_fpr, lr_fpr, lr_tpr)\n",
    "forest_mean_tpr+=interp(mean_fpr, forest_fpr, forest_tpr)\n",
    "ada_mean_tpr+=interp(mean_fpr, ada_fpr, ada_tpr)"
   ]
  },
  {
   "cell_type": "code",
   "execution_count": 87,
   "metadata": {},
   "outputs": [],
   "source": [
    "svm_mean_tpr[0]=0.0\n",
    "lr_mean_tpr[0]=0.0\n",
    "forest_mean_tpr[0]=0.0\n",
    "ada_mean_tpr[0]=0.0"
   ]
  },
  {
   "cell_type": "code",
   "execution_count": 88,
   "metadata": {},
   "outputs": [],
   "source": [
    "svm_roc_auc=auc(svm_fpr, svm_tpr)\n",
    "lr_roc_auc=auc(lr_fpr, lr_tpr)\n",
    "forest_roc_auc=auc(forest_fpr, forest_tpr)\n",
    "ada_roc_auc=auc(ada_fpr, ada_tpr)"
   ]
  },
  {
   "cell_type": "code",
   "execution_count": 89,
   "metadata": {},
   "outputs": [
    {
     "name": "stdout",
     "output_type": "stream",
     "text": [
      "0.31851851851851853\n",
      "0.6296296296296298\n",
      "0.775462962962963\n",
      "0.6476851851851851\n"
     ]
    }
   ],
   "source": [
    "print(svm_roc_auc)\n",
    "print(lr_roc_auc)\n",
    "print(forest_roc_auc)\n",
    "print(ada_roc_auc)"
   ]
  },
  {
   "cell_type": "code",
   "execution_count": 90,
   "metadata": {},
   "outputs": [
    {
     "data": {
      "text/plain": [
       "<Figure size 504x360 with 0 Axes>"
      ]
     },
     "metadata": {},
     "output_type": "display_data"
    }
   ],
   "source": [
    "fig=plt.figure(figsize=(7, 5))"
   ]
  },
  {
   "cell_type": "code",
   "execution_count": 91,
   "metadata": {},
   "outputs": [
    {
     "data": {
      "text/plain": [
       "Text(0, 0.5, 'True Positive Rate')"
      ]
     },
     "execution_count": 91,
     "metadata": {},
     "output_type": "execute_result"
    },
    {
     "data": {
      "image/png": "[encoded data removed]",
      "text/plain": [
       "<Figure size 432x288 with 1 Axes>"
      ]
     },
     "metadata": {
      "needs_background": "light"
     },
     "output_type": "display_data"
    }
   ],
   "source": [
    "plt.plot(svm_fpr, svm_tpr, label='SVM (area=%0.2f)' %(svm_roc_auc))\n",
    "plt.plot(lr_fpr, lr_tpr, label='LR (area=%0.2f)' %(lr_roc_auc))\n",
    "plt.plot(forest_fpr, forest_tpr, label='Forest (area=%0.2f)' %(forest_roc_auc))\n",
    "plt.plot(ada_fpr, ada_tpr, label='ada (area=%0.2f)' %(ada_roc_auc))\n",
    "plt.plot([0, 1], linestyle='--', label='randam guessing')\n",
    "plt.legend()\n",
    "plt.xlabel('False Positive Rate')\n",
    "plt.ylabel('True Positive Rate')"
   ]
  },
  {
   "cell_type": "code",
   "execution_count": 92,
   "metadata": {},
   "outputs": [
    {
     "data": {
      "text/plain": [
       "Text(0, 0.5, 'True Positive Rate')"
      ]
     },
     "execution_count": 92,
     "metadata": {},
     "output_type": "execute_result"
    },
    {
     "data": {
      "image/png": "[encoded data removed]",
      "text/plain": [
       "<Figure size 432x288 with 1 Axes>"
      ]
     },
     "metadata": {
      "needs_background": "light"
     },
     "output_type": "display_data"
    }
   ],
   "source": [
    "plt.plot(lr_fpr, lr_tpr, label='LR (area=%0.2f)' %(lr_roc_auc))\n",
    "plt.plot(forest_fpr, forest_tpr, label='Forest (area=%0.2f)' %(forest_roc_auc))\n",
    "plt.plot(ada_fpr, ada_tpr, label='ada (area=%0.2f)' %(ada_roc_auc))\n",
    "plt.plot([0, 1], linestyle='--', label='randam guessing')\n",
    "plt.plot([0, 0, 1], [0, 1, 1], color='black', linestyle=':', label='perfect performance')\n",
    "plt.legend()\n",
    "plt.xlabel('False Positive Rate')\n",
    "plt.ylabel('True Positive Rate')"
   ]
  },
  {
   "cell_type": "code",
   "execution_count": null,
   "metadata": {},
   "outputs": [],
   "source": []
  },
  {
   "cell_type": "code",
   "execution_count": null,
   "metadata": {},
   "outputs": [],
   "source": []
  }
 ],
 "metadata": {
  "kernelspec": {
   "display_name": "Python 3",
   "language": "python",
   "name": "python3"
  },
  "language_info": {
   "codemirror_mode": {
    "name": "ipython",
    "version": 3
   },
   "file_extension": ".py",
   "mimetype": "text/x-python",
   "name": "python",
   "nbconvert_exporter": "python",
   "pygments_lexer": "ipython3",
   "version": "3.7.7"
  }
 },
 "nbformat": 4,
 "nbformat_minor": 4
}
