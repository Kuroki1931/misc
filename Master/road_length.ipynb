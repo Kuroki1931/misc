{
 "cells": [
  {
   "cell_type": "code",
   "execution_count": 1,
   "metadata": {},
   "outputs": [],
   "source": [
    "import geopandas as gpd\n",
    "import networkx as nx\n",
    "import fiona\n",
    "import tqdm\n",
    "import pandas as pd\n",
    "import numpy as np\n",
    "import os\n",
    "import matplotlib.pyplot as plt\n",
    "import glob\n",
    "import re\n",
    "import time\n",
    "\n",
    "from shapely.ops import nearest_points\n",
    "from tqdm import tqdm\n",
    "from shapely.ops import cascaded_union\n",
    "from shapely.wkt import loads \n",
    "from shapely.geometry import Point\n",
    "from scipy.spatial import cKDTree"
   ]
  },
  {
   "cell_type": "code",
   "execution_count": 13,
   "metadata": {},
   "outputs": [],
   "source": [
    "network_list = glob.glob(r'C:\\Users\\kurokiso\\Desktop\\道路ネットワーク\\解析データ\\notoverlap\\road_data\\*')"
   ]
  },
  {
   "cell_type": "code",
   "execution_count": 19,
   "metadata": {},
   "outputs": [
    {
     "name": "stderr",
     "output_type": "stream",
     "text": [
      "100%|████████████████████████████████████████████████████████████████████████████████| 206/206 [00:07<00:00, 26.45it/s]\n"
     ]
    }
   ],
   "source": [
    "length_list = []\n",
    "rowid_list = []\n",
    "for i in tqdm(network_list):\n",
    "    # id\n",
    "    rowid = i[-9:]\n",
    "    rowid = re.sub(r\"\\D\", \"\", rowid)\n",
    "    # 座標変換\n",
    "    network = gpd.read_file(i)\n",
    "    try:\n",
    "        sum_length = network.LENGTH.sum()\n",
    "    except:\n",
    "        sum_length = 0\n",
    "    length_list.append(sum_length)\n",
    "    rowid_list.append(rowid)\n",
    "    \n",
    "    \n",
    "df = pd.DataFrame({'Rowid':rowid_list, 'length': length_list})\n",
    "df.to_csv('length.csv')\n",
    "#     gpd.GeoDataFrame.to_file(geo_df, \"buffer_100.gpkg\", driver=\"GPKG\", encoding='utf-8')"
   ]
  },
  {
   "cell_type": "code",
   "execution_count": 18,
   "metadata": {},
   "outputs": [
    {
     "data": {
      "text/html": [
       "<div>\n",
       "<style scoped>\n",
       "    .dataframe tbody tr th:only-of-type {\n",
       "        vertical-align: middle;\n",
       "    }\n",
       "\n",
       "    .dataframe tbody tr th {\n",
       "        vertical-align: top;\n",
       "    }\n",
       "\n",
       "    .dataframe thead th {\n",
       "        text-align: right;\n",
       "    }\n",
       "</style>\n",
       "<table border=\"1\" class=\"dataframe\">\n",
       "  <thead>\n",
       "    <tr style=\"text-align: right;\">\n",
       "      <th></th>\n",
       "      <th>Rowid</th>\n",
       "      <th>length</th>\n",
       "    </tr>\n",
       "  </thead>\n",
       "  <tbody>\n",
       "    <tr>\n",
       "      <th>0</th>\n",
       "      <td>10</td>\n",
       "      <td>942.017130</td>\n",
       "    </tr>\n",
       "    <tr>\n",
       "      <th>1</th>\n",
       "      <td>100</td>\n",
       "      <td>472.880837</td>\n",
       "    </tr>\n",
       "    <tr>\n",
       "      <th>2</th>\n",
       "      <td>101</td>\n",
       "      <td>3475.898540</td>\n",
       "    </tr>\n",
       "    <tr>\n",
       "      <th>3</th>\n",
       "      <td>102</td>\n",
       "      <td>2876.707025</td>\n",
       "    </tr>\n",
       "    <tr>\n",
       "      <th>4</th>\n",
       "      <td>103</td>\n",
       "      <td>1285.328830</td>\n",
       "    </tr>\n",
       "    <tr>\n",
       "      <th>...</th>\n",
       "      <td>...</td>\n",
       "      <td>...</td>\n",
       "    </tr>\n",
       "    <tr>\n",
       "      <th>201</th>\n",
       "      <td>95</td>\n",
       "      <td>578.260440</td>\n",
       "    </tr>\n",
       "    <tr>\n",
       "      <th>202</th>\n",
       "      <td>96</td>\n",
       "      <td>1217.253923</td>\n",
       "    </tr>\n",
       "    <tr>\n",
       "      <th>203</th>\n",
       "      <td>97</td>\n",
       "      <td>1474.122780</td>\n",
       "    </tr>\n",
       "    <tr>\n",
       "      <th>204</th>\n",
       "      <td>98</td>\n",
       "      <td>2007.637590</td>\n",
       "    </tr>\n",
       "    <tr>\n",
       "      <th>205</th>\n",
       "      <td>99</td>\n",
       "      <td>932.638300</td>\n",
       "    </tr>\n",
       "  </tbody>\n",
       "</table>\n",
       "<p>206 rows × 2 columns</p>\n",
       "</div>"
      ],
      "text/plain": [
       "    Rowid       length\n",
       "0      10   942.017130\n",
       "1     100   472.880837\n",
       "2     101  3475.898540\n",
       "3     102  2876.707025\n",
       "4     103  1285.328830\n",
       "..    ...          ...\n",
       "201    95   578.260440\n",
       "202    96  1217.253923\n",
       "203    97  1474.122780\n",
       "204    98  2007.637590\n",
       "205    99   932.638300\n",
       "\n",
       "[206 rows x 2 columns]"
      ]
     },
     "execution_count": 18,
     "metadata": {},
     "output_type": "execute_result"
    }
   ],
   "source": [
    "df"
   ]
  },
  {
   "cell_type": "code",
   "execution_count": 7,
   "metadata": {},
   "outputs": [],
   "source": [
    "df.to_csv(\"density.csv\")"
   ]
  }
 ],
 "metadata": {
  "kernelspec": {
   "display_name": "Python 3",
   "language": "python",
   "name": "python3"
  },
  "language_info": {
   "codemirror_mode": {
    "name": "ipython",
    "version": 3
   },
   "file_extension": ".py",
   "mimetype": "text/x-python",
   "name": "python",
   "nbconvert_exporter": "python",
   "pygments_lexer": "ipython3",
   "version": "3.7.7"
  }
 },
 "nbformat": 4,
 "nbformat_minor": 4
}
